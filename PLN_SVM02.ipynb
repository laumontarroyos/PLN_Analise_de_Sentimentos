{
  "nbformat": 4,
  "nbformat_minor": 0,
  "metadata": {
    "colab": {
      "provenance": [],
      "collapsed_sections": [
        "SaG48_8AZCvB",
        "4tlkvIkwwZ1g",
        "XZZeqO2RBPnI",
        "yGaIkcTFBC5Y",
        "_M0zMr3RHT18"
      ]
    },
    "kernelspec": {
      "name": "python3",
      "display_name": "Python 3"
    },
    "language_info": {
      "name": "python"
    }
  },
  "cells": [
    {
      "cell_type": "markdown",
      "source": [
        "# Projeto Final: Análise de Sentimentos usando avaliações coletadas de curso da plataforma \"Coursera\"\n",
        "\n",
        "Disciplina: Processamento de Linguagem Natural\n",
        "\n",
        "Professores: Luciano Barbosa / Johny Moreira \n",
        "\n",
        "Aluno: Laureano Montarroyos Fo\n",
        "\n",
        "Especialização Deep Learning - Turma 2022/2023\n",
        "\n",
        "Cin.AI - UFPE"
      ],
      "metadata": {
        "id": "bvt-T6Tilorh"
      }
    },
    {
      "cell_type": "markdown",
      "source": [
        ".Fonte de Dados: coletou-se dados de avaliações feitas para o curso \"Sequence Models\", capacitação que faz parte da especialização em Deep Learning da plataforma on-line de cursos da \"Coursera\", cujo endereço é o \"https://www.coursera.org/learn/nlp-sequence-models\". Foram capturadas 6467 avaliações em 21/03/2023 por um programa elaborado em python, fazendo uso da biblioteca \"Scrapy\", a partir do endereço \"https://www.coursera.org/learn/nlp-sequence-models/reviews?page=1\"."
      ],
      "metadata": {
        "id": "hENAKgtEAP_m"
      }
    },
    {
      "cell_type": "code",
      "execution_count": null,
      "metadata": {
        "id": "9anLHKbGlbmH"
      },
      "outputs": [],
      "source": [
        "# bibliotecas básicas\n",
        "import pandas as pd\n",
        "import numpy as np\n",
        "from matplotlib import pyplot as plt\n",
        "from matplotlib.pylab import rcParams"
      ]
    },
    {
      "cell_type": "code",
      "source": [
        "from sklearn.feature_extraction.text import CountVectorizer\n",
        "from sklearn.feature_extraction.text import TfidfVectorizer\n",
        "\n",
        "from sklearn import svm\n",
        "\n",
        "from sklearn import metrics\n",
        "from sklearn.metrics import confusion_matrix\n",
        "\n",
        "import spacy #pip install spacy"
      ],
      "metadata": {
        "id": "17IlQKpb0bYK"
      },
      "execution_count": null,
      "outputs": []
    },
    {
      "cell_type": "code",
      "source": [
        "# Configurando tamanho das imagens\n",
        "rcParams['figure.figsize'] = 9, 3"
      ],
      "metadata": {
        "id": "dUlryGD65cdd"
      },
      "execution_count": null,
      "outputs": []
    },
    {
      "cell_type": "code",
      "source": [
        "import spacy.cli\n",
        "spacy.cli.download(\"en_core_web_sm\")\n",
        "nlp = spacy.load(\"en_core_web_sm\")"
      ],
      "metadata": {
        "colab": {
          "base_uri": "https://localhost:8080/"
        },
        "id": "aMVWsJe26UXq",
        "outputId": "37f2960a-a175-41eb-b7b6-e9dd507433b3"
      },
      "execution_count": null,
      "outputs": [
        {
          "output_type": "stream",
          "name": "stdout",
          "text": [
            "\u001b[38;5;2m✔ Download and installation successful\u001b[0m\n",
            "You can now load the package via spacy.load('en_core_web_sm')\n"
          ]
        }
      ]
    },
    {
      "cell_type": "code",
      "source": [
        "from google.colab import drive\n",
        "drive.mount('/content/gdrive', force_remount=True)"
      ],
      "metadata": {
        "colab": {
          "base_uri": "https://localhost:8080/"
        },
        "id": "KuKsbKTblcmt",
        "outputId": "bd23bcae-d77f-43f1-819b-5eefde414c58"
      },
      "execution_count": null,
      "outputs": [
        {
          "output_type": "stream",
          "name": "stdout",
          "text": [
            "Mounted at /content/gdrive\n"
          ]
        }
      ]
    },
    {
      "cell_type": "code",
      "source": [
        "%cd /content/gdrive/MyDrive/Disciplinas/Processamento de Linguagem Natural/Projeto\n",
        "\n",
        "\n",
        "!ls"
      ],
      "metadata": {
        "colab": {
          "base_uri": "https://localhost:8080/"
        },
        "id": "WWS5aULylcqE",
        "outputId": "18c70737-9530-4e0d-d40c-40c7357c6572"
      },
      "execution_count": null,
      "outputs": [
        {
          "output_type": "stream",
          "name": "stdout",
          "text": [
            "/content/gdrive/MyDrive/Disciplinas/Processamento de Linguagem Natural/Projeto\n",
            "coursera-processado.csv\t\t       PLN-Bert.ipynb\n",
            "coursera-processado-segunda-parte.csv  PLN-SVM02.ipynb\n"
          ]
        }
      ]
    },
    {
      "cell_type": "markdown",
      "source": [
        "# Pré-processamento do aquivo CSV com dados coletados da plataforma da \"Coursera\""
      ],
      "metadata": {
        "id": "SaG48_8AZCvB"
      }
    },
    {
      "cell_type": "code",
      "source": [
        "df = pd.read_csv(\"coursera.csv\")\n",
        "df.shape"
      ],
      "metadata": {
        "colab": {
          "base_uri": "https://localhost:8080/"
        },
        "id": "hbN9OZv-mUuG",
        "outputId": "1144162f-3b99-406f-f4d3-dfbb61d76413"
      },
      "execution_count": null,
      "outputs": [
        {
          "output_type": "execute_result",
          "data": {
            "text/plain": [
              "(6467, 3)"
            ]
          },
          "metadata": {},
          "execution_count": 4
        }
      ]
    },
    {
      "cell_type": "code",
      "source": [
        "df.head()"
      ],
      "metadata": {
        "colab": {
          "base_uri": "https://localhost:8080/",
          "height": 206
        },
        "id": "UTFWVK4vmeHS",
        "outputId": "eb3e6a03-fc6c-418a-cba1-df6284c1da94"
      },
      "execution_count": null,
      "outputs": [
        {
          "output_type": "execute_result",
          "data": {
            "text/plain": [
              "   indice                                        estrelas  \\\n",
              "0       1                Filled Star:Star:Star:Star:Star:   \n",
              "1       2         Filled Star:Filled Star:Star:Star:Star:   \n",
              "2       3                Filled Star:Star:Star:Star:Star:   \n",
              "3       4  Filled Star:Filled Star:Filled Star:Star:Star:   \n",
              "4       5         Filled Star:Filled Star:Star:Star:Star:   \n",
              "\n",
              "                                          comentario  \n",
              "0  Tons of editing errors in lectures, and the pr...  \n",
              "1  This course is by far the weakest out of the 5...  \n",
              "2  Full of appalling errors that have been presen...  \n",
              "3  I really like the deeplearning.ai specializati...  \n",
              "4  The lectures were great. Andrew is a wonderful...  "
            ],
            "text/html": [
              "\n",
              "  <div id=\"df-b8628e3b-b05b-49eb-a512-d760cd2e56bf\">\n",
              "    <div class=\"colab-df-container\">\n",
              "      <div>\n",
              "<style scoped>\n",
              "    .dataframe tbody tr th:only-of-type {\n",
              "        vertical-align: middle;\n",
              "    }\n",
              "\n",
              "    .dataframe tbody tr th {\n",
              "        vertical-align: top;\n",
              "    }\n",
              "\n",
              "    .dataframe thead th {\n",
              "        text-align: right;\n",
              "    }\n",
              "</style>\n",
              "<table border=\"1\" class=\"dataframe\">\n",
              "  <thead>\n",
              "    <tr style=\"text-align: right;\">\n",
              "      <th></th>\n",
              "      <th>indice</th>\n",
              "      <th>estrelas</th>\n",
              "      <th>comentario</th>\n",
              "    </tr>\n",
              "  </thead>\n",
              "  <tbody>\n",
              "    <tr>\n",
              "      <th>0</th>\n",
              "      <td>1</td>\n",
              "      <td>Filled Star:Star:Star:Star:Star:</td>\n",
              "      <td>Tons of editing errors in lectures, and the pr...</td>\n",
              "    </tr>\n",
              "    <tr>\n",
              "      <th>1</th>\n",
              "      <td>2</td>\n",
              "      <td>Filled Star:Filled Star:Star:Star:Star:</td>\n",
              "      <td>This course is by far the weakest out of the 5...</td>\n",
              "    </tr>\n",
              "    <tr>\n",
              "      <th>2</th>\n",
              "      <td>3</td>\n",
              "      <td>Filled Star:Star:Star:Star:Star:</td>\n",
              "      <td>Full of appalling errors that have been presen...</td>\n",
              "    </tr>\n",
              "    <tr>\n",
              "      <th>3</th>\n",
              "      <td>4</td>\n",
              "      <td>Filled Star:Filled Star:Filled Star:Star:Star:</td>\n",
              "      <td>I really like the deeplearning.ai specializati...</td>\n",
              "    </tr>\n",
              "    <tr>\n",
              "      <th>4</th>\n",
              "      <td>5</td>\n",
              "      <td>Filled Star:Filled Star:Star:Star:Star:</td>\n",
              "      <td>The lectures were great. Andrew is a wonderful...</td>\n",
              "    </tr>\n",
              "  </tbody>\n",
              "</table>\n",
              "</div>\n",
              "      <button class=\"colab-df-convert\" onclick=\"convertToInteractive('df-b8628e3b-b05b-49eb-a512-d760cd2e56bf')\"\n",
              "              title=\"Convert this dataframe to an interactive table.\"\n",
              "              style=\"display:none;\">\n",
              "        \n",
              "  <svg xmlns=\"http://www.w3.org/2000/svg\" height=\"24px\"viewBox=\"0 0 24 24\"\n",
              "       width=\"24px\">\n",
              "    <path d=\"M0 0h24v24H0V0z\" fill=\"none\"/>\n",
              "    <path d=\"M18.56 5.44l.94 2.06.94-2.06 2.06-.94-2.06-.94-.94-2.06-.94 2.06-2.06.94zm-11 1L8.5 8.5l.94-2.06 2.06-.94-2.06-.94L8.5 2.5l-.94 2.06-2.06.94zm10 10l.94 2.06.94-2.06 2.06-.94-2.06-.94-.94-2.06-.94 2.06-2.06.94z\"/><path d=\"M17.41 7.96l-1.37-1.37c-.4-.4-.92-.59-1.43-.59-.52 0-1.04.2-1.43.59L10.3 9.45l-7.72 7.72c-.78.78-.78 2.05 0 2.83L4 21.41c.39.39.9.59 1.41.59.51 0 1.02-.2 1.41-.59l7.78-7.78 2.81-2.81c.8-.78.8-2.07 0-2.86zM5.41 20L4 18.59l7.72-7.72 1.47 1.35L5.41 20z\"/>\n",
              "  </svg>\n",
              "      </button>\n",
              "      \n",
              "  <style>\n",
              "    .colab-df-container {\n",
              "      display:flex;\n",
              "      flex-wrap:wrap;\n",
              "      gap: 12px;\n",
              "    }\n",
              "\n",
              "    .colab-df-convert {\n",
              "      background-color: #E8F0FE;\n",
              "      border: none;\n",
              "      border-radius: 50%;\n",
              "      cursor: pointer;\n",
              "      display: none;\n",
              "      fill: #1967D2;\n",
              "      height: 32px;\n",
              "      padding: 0 0 0 0;\n",
              "      width: 32px;\n",
              "    }\n",
              "\n",
              "    .colab-df-convert:hover {\n",
              "      background-color: #E2EBFA;\n",
              "      box-shadow: 0px 1px 2px rgba(60, 64, 67, 0.3), 0px 1px 3px 1px rgba(60, 64, 67, 0.15);\n",
              "      fill: #174EA6;\n",
              "    }\n",
              "\n",
              "    [theme=dark] .colab-df-convert {\n",
              "      background-color: #3B4455;\n",
              "      fill: #D2E3FC;\n",
              "    }\n",
              "\n",
              "    [theme=dark] .colab-df-convert:hover {\n",
              "      background-color: #434B5C;\n",
              "      box-shadow: 0px 1px 3px 1px rgba(0, 0, 0, 0.15);\n",
              "      filter: drop-shadow(0px 1px 2px rgba(0, 0, 0, 0.3));\n",
              "      fill: #FFFFFF;\n",
              "    }\n",
              "  </style>\n",
              "\n",
              "      <script>\n",
              "        const buttonEl =\n",
              "          document.querySelector('#df-b8628e3b-b05b-49eb-a512-d760cd2e56bf button.colab-df-convert');\n",
              "        buttonEl.style.display =\n",
              "          google.colab.kernel.accessAllowed ? 'block' : 'none';\n",
              "\n",
              "        async function convertToInteractive(key) {\n",
              "          const element = document.querySelector('#df-b8628e3b-b05b-49eb-a512-d760cd2e56bf');\n",
              "          const dataTable =\n",
              "            await google.colab.kernel.invokeFunction('convertToInteractive',\n",
              "                                                     [key], {});\n",
              "          if (!dataTable) return;\n",
              "\n",
              "          const docLinkHtml = 'Like what you see? Visit the ' +\n",
              "            '<a target=\"_blank\" href=https://colab.research.google.com/notebooks/data_table.ipynb>data table notebook</a>'\n",
              "            + ' to learn more about interactive tables.';\n",
              "          element.innerHTML = '';\n",
              "          dataTable['output_type'] = 'display_data';\n",
              "          await google.colab.output.renderOutput(dataTable, element);\n",
              "          const docLink = document.createElement('div');\n",
              "          docLink.innerHTML = docLinkHtml;\n",
              "          element.appendChild(docLink);\n",
              "        }\n",
              "      </script>\n",
              "    </div>\n",
              "  </div>\n",
              "  "
            ]
          },
          "metadata": {},
          "execution_count": 5
        }
      ]
    },
    {
      "cell_type": "markdown",
      "source": [
        "Função para criar coluna com contagem do número de estrelas atribuídas pelo usuário ao realizar comentário no site sobre o curso. A marcação \"Filled Star\" indica a atribuição de estrela, simbolizando a imagem preenchida com cor. Por outro lado, a marca \"Star\" simboliza estrela não preenchida e sem cor.\n"
      ],
      "metadata": {
        "id": "8JhZ9-6L_Tk3"
      }
    },
    {
      "cell_type": "code",
      "source": [
        "def contaEstrelas(estrelas):\n",
        "  pontos = 0\n",
        "  if(estrelas!=''):\n",
        "    lista = estrelas.split(':')\n",
        "    for item in lista:\n",
        "      if(item=='Filled Star'):\n",
        "        pontos+=1\n",
        "  return pontos\n",
        "\n",
        "df['qtd_estrelas'] = df.estrelas.apply(contaEstrelas)\n",
        "df.head()"
      ],
      "metadata": {
        "id": "vr-FJkSomeKZ",
        "colab": {
          "base_uri": "https://localhost:8080/",
          "height": 206
        },
        "outputId": "09262126-6d57-4319-a2ac-2710232cf847"
      },
      "execution_count": null,
      "outputs": [
        {
          "output_type": "execute_result",
          "data": {
            "text/plain": [
              "   indice                                        estrelas  \\\n",
              "0       1                Filled Star:Star:Star:Star:Star:   \n",
              "1       2         Filled Star:Filled Star:Star:Star:Star:   \n",
              "2       3                Filled Star:Star:Star:Star:Star:   \n",
              "3       4  Filled Star:Filled Star:Filled Star:Star:Star:   \n",
              "4       5         Filled Star:Filled Star:Star:Star:Star:   \n",
              "\n",
              "                                          comentario  qtd_estrelas  \n",
              "0  Tons of editing errors in lectures, and the pr...             1  \n",
              "1  This course is by far the weakest out of the 5...             2  \n",
              "2  Full of appalling errors that have been presen...             1  \n",
              "3  I really like the deeplearning.ai specializati...             3  \n",
              "4  The lectures were great. Andrew is a wonderful...             2  "
            ],
            "text/html": [
              "\n",
              "  <div id=\"df-0a11741e-9419-4794-8cfa-acd5cf9efea0\">\n",
              "    <div class=\"colab-df-container\">\n",
              "      <div>\n",
              "<style scoped>\n",
              "    .dataframe tbody tr th:only-of-type {\n",
              "        vertical-align: middle;\n",
              "    }\n",
              "\n",
              "    .dataframe tbody tr th {\n",
              "        vertical-align: top;\n",
              "    }\n",
              "\n",
              "    .dataframe thead th {\n",
              "        text-align: right;\n",
              "    }\n",
              "</style>\n",
              "<table border=\"1\" class=\"dataframe\">\n",
              "  <thead>\n",
              "    <tr style=\"text-align: right;\">\n",
              "      <th></th>\n",
              "      <th>indice</th>\n",
              "      <th>estrelas</th>\n",
              "      <th>comentario</th>\n",
              "      <th>qtd_estrelas</th>\n",
              "    </tr>\n",
              "  </thead>\n",
              "  <tbody>\n",
              "    <tr>\n",
              "      <th>0</th>\n",
              "      <td>1</td>\n",
              "      <td>Filled Star:Star:Star:Star:Star:</td>\n",
              "      <td>Tons of editing errors in lectures, and the pr...</td>\n",
              "      <td>1</td>\n",
              "    </tr>\n",
              "    <tr>\n",
              "      <th>1</th>\n",
              "      <td>2</td>\n",
              "      <td>Filled Star:Filled Star:Star:Star:Star:</td>\n",
              "      <td>This course is by far the weakest out of the 5...</td>\n",
              "      <td>2</td>\n",
              "    </tr>\n",
              "    <tr>\n",
              "      <th>2</th>\n",
              "      <td>3</td>\n",
              "      <td>Filled Star:Star:Star:Star:Star:</td>\n",
              "      <td>Full of appalling errors that have been presen...</td>\n",
              "      <td>1</td>\n",
              "    </tr>\n",
              "    <tr>\n",
              "      <th>3</th>\n",
              "      <td>4</td>\n",
              "      <td>Filled Star:Filled Star:Filled Star:Star:Star:</td>\n",
              "      <td>I really like the deeplearning.ai specializati...</td>\n",
              "      <td>3</td>\n",
              "    </tr>\n",
              "    <tr>\n",
              "      <th>4</th>\n",
              "      <td>5</td>\n",
              "      <td>Filled Star:Filled Star:Star:Star:Star:</td>\n",
              "      <td>The lectures were great. Andrew is a wonderful...</td>\n",
              "      <td>2</td>\n",
              "    </tr>\n",
              "  </tbody>\n",
              "</table>\n",
              "</div>\n",
              "      <button class=\"colab-df-convert\" onclick=\"convertToInteractive('df-0a11741e-9419-4794-8cfa-acd5cf9efea0')\"\n",
              "              title=\"Convert this dataframe to an interactive table.\"\n",
              "              style=\"display:none;\">\n",
              "        \n",
              "  <svg xmlns=\"http://www.w3.org/2000/svg\" height=\"24px\"viewBox=\"0 0 24 24\"\n",
              "       width=\"24px\">\n",
              "    <path d=\"M0 0h24v24H0V0z\" fill=\"none\"/>\n",
              "    <path d=\"M18.56 5.44l.94 2.06.94-2.06 2.06-.94-2.06-.94-.94-2.06-.94 2.06-2.06.94zm-11 1L8.5 8.5l.94-2.06 2.06-.94-2.06-.94L8.5 2.5l-.94 2.06-2.06.94zm10 10l.94 2.06.94-2.06 2.06-.94-2.06-.94-.94-2.06-.94 2.06-2.06.94z\"/><path d=\"M17.41 7.96l-1.37-1.37c-.4-.4-.92-.59-1.43-.59-.52 0-1.04.2-1.43.59L10.3 9.45l-7.72 7.72c-.78.78-.78 2.05 0 2.83L4 21.41c.39.39.9.59 1.41.59.51 0 1.02-.2 1.41-.59l7.78-7.78 2.81-2.81c.8-.78.8-2.07 0-2.86zM5.41 20L4 18.59l7.72-7.72 1.47 1.35L5.41 20z\"/>\n",
              "  </svg>\n",
              "      </button>\n",
              "      \n",
              "  <style>\n",
              "    .colab-df-container {\n",
              "      display:flex;\n",
              "      flex-wrap:wrap;\n",
              "      gap: 12px;\n",
              "    }\n",
              "\n",
              "    .colab-df-convert {\n",
              "      background-color: #E8F0FE;\n",
              "      border: none;\n",
              "      border-radius: 50%;\n",
              "      cursor: pointer;\n",
              "      display: none;\n",
              "      fill: #1967D2;\n",
              "      height: 32px;\n",
              "      padding: 0 0 0 0;\n",
              "      width: 32px;\n",
              "    }\n",
              "\n",
              "    .colab-df-convert:hover {\n",
              "      background-color: #E2EBFA;\n",
              "      box-shadow: 0px 1px 2px rgba(60, 64, 67, 0.3), 0px 1px 3px 1px rgba(60, 64, 67, 0.15);\n",
              "      fill: #174EA6;\n",
              "    }\n",
              "\n",
              "    [theme=dark] .colab-df-convert {\n",
              "      background-color: #3B4455;\n",
              "      fill: #D2E3FC;\n",
              "    }\n",
              "\n",
              "    [theme=dark] .colab-df-convert:hover {\n",
              "      background-color: #434B5C;\n",
              "      box-shadow: 0px 1px 3px 1px rgba(0, 0, 0, 0.15);\n",
              "      filter: drop-shadow(0px 1px 2px rgba(0, 0, 0, 0.3));\n",
              "      fill: #FFFFFF;\n",
              "    }\n",
              "  </style>\n",
              "\n",
              "      <script>\n",
              "        const buttonEl =\n",
              "          document.querySelector('#df-0a11741e-9419-4794-8cfa-acd5cf9efea0 button.colab-df-convert');\n",
              "        buttonEl.style.display =\n",
              "          google.colab.kernel.accessAllowed ? 'block' : 'none';\n",
              "\n",
              "        async function convertToInteractive(key) {\n",
              "          const element = document.querySelector('#df-0a11741e-9419-4794-8cfa-acd5cf9efea0');\n",
              "          const dataTable =\n",
              "            await google.colab.kernel.invokeFunction('convertToInteractive',\n",
              "                                                     [key], {});\n",
              "          if (!dataTable) return;\n",
              "\n",
              "          const docLinkHtml = 'Like what you see? Visit the ' +\n",
              "            '<a target=\"_blank\" href=https://colab.research.google.com/notebooks/data_table.ipynb>data table notebook</a>'\n",
              "            + ' to learn more about interactive tables.';\n",
              "          element.innerHTML = '';\n",
              "          dataTable['output_type'] = 'display_data';\n",
              "          await google.colab.output.renderOutput(dataTable, element);\n",
              "          const docLink = document.createElement('div');\n",
              "          docLink.innerHTML = docLinkHtml;\n",
              "          element.appendChild(docLink);\n",
              "        }\n",
              "      </script>\n",
              "    </div>\n",
              "  </div>\n",
              "  "
            ]
          },
          "metadata": {},
          "execution_count": 7
        }
      ]
    },
    {
      "cell_type": "markdown",
      "source": [
        "Examinando a distribuição da quantidade de estrelas para averiguar a possibilidade de agregar as avaliações em apenas duas categorias, caso os conteúdos façam sentido, de maneira a não distorcer o significado que se pretende aferir pelo treinamento."
      ],
      "metadata": {
        "id": "JE4ONk7iAoVU"
      }
    },
    {
      "cell_type": "code",
      "source": [
        "(df.groupby('qtd_estrelas').count())"
      ],
      "metadata": {
        "id": "vbittLM6v01g",
        "colab": {
          "base_uri": "https://localhost:8080/",
          "height": 237
        },
        "outputId": "f554f296-c59d-4046-acc6-bc6080b1e470"
      },
      "execution_count": null,
      "outputs": [
        {
          "output_type": "execute_result",
          "data": {
            "text/plain": [
              "              indice  estrelas  comentario\n",
              "qtd_estrelas                              \n",
              "1                 45        45          45\n",
              "2                 81        81          81\n",
              "3                396       396         396\n",
              "4               1131      1131        1131\n",
              "5               4814      4814        4814"
            ],
            "text/html": [
              "\n",
              "  <div id=\"df-ee0b7ada-e718-46f7-9cd0-dab03bd96e82\">\n",
              "    <div class=\"colab-df-container\">\n",
              "      <div>\n",
              "<style scoped>\n",
              "    .dataframe tbody tr th:only-of-type {\n",
              "        vertical-align: middle;\n",
              "    }\n",
              "\n",
              "    .dataframe tbody tr th {\n",
              "        vertical-align: top;\n",
              "    }\n",
              "\n",
              "    .dataframe thead th {\n",
              "        text-align: right;\n",
              "    }\n",
              "</style>\n",
              "<table border=\"1\" class=\"dataframe\">\n",
              "  <thead>\n",
              "    <tr style=\"text-align: right;\">\n",
              "      <th></th>\n",
              "      <th>indice</th>\n",
              "      <th>estrelas</th>\n",
              "      <th>comentario</th>\n",
              "    </tr>\n",
              "    <tr>\n",
              "      <th>qtd_estrelas</th>\n",
              "      <th></th>\n",
              "      <th></th>\n",
              "      <th></th>\n",
              "    </tr>\n",
              "  </thead>\n",
              "  <tbody>\n",
              "    <tr>\n",
              "      <th>1</th>\n",
              "      <td>45</td>\n",
              "      <td>45</td>\n",
              "      <td>45</td>\n",
              "    </tr>\n",
              "    <tr>\n",
              "      <th>2</th>\n",
              "      <td>81</td>\n",
              "      <td>81</td>\n",
              "      <td>81</td>\n",
              "    </tr>\n",
              "    <tr>\n",
              "      <th>3</th>\n",
              "      <td>396</td>\n",
              "      <td>396</td>\n",
              "      <td>396</td>\n",
              "    </tr>\n",
              "    <tr>\n",
              "      <th>4</th>\n",
              "      <td>1131</td>\n",
              "      <td>1131</td>\n",
              "      <td>1131</td>\n",
              "    </tr>\n",
              "    <tr>\n",
              "      <th>5</th>\n",
              "      <td>4814</td>\n",
              "      <td>4814</td>\n",
              "      <td>4814</td>\n",
              "    </tr>\n",
              "  </tbody>\n",
              "</table>\n",
              "</div>\n",
              "      <button class=\"colab-df-convert\" onclick=\"convertToInteractive('df-ee0b7ada-e718-46f7-9cd0-dab03bd96e82')\"\n",
              "              title=\"Convert this dataframe to an interactive table.\"\n",
              "              style=\"display:none;\">\n",
              "        \n",
              "  <svg xmlns=\"http://www.w3.org/2000/svg\" height=\"24px\"viewBox=\"0 0 24 24\"\n",
              "       width=\"24px\">\n",
              "    <path d=\"M0 0h24v24H0V0z\" fill=\"none\"/>\n",
              "    <path d=\"M18.56 5.44l.94 2.06.94-2.06 2.06-.94-2.06-.94-.94-2.06-.94 2.06-2.06.94zm-11 1L8.5 8.5l.94-2.06 2.06-.94-2.06-.94L8.5 2.5l-.94 2.06-2.06.94zm10 10l.94 2.06.94-2.06 2.06-.94-2.06-.94-.94-2.06-.94 2.06-2.06.94z\"/><path d=\"M17.41 7.96l-1.37-1.37c-.4-.4-.92-.59-1.43-.59-.52 0-1.04.2-1.43.59L10.3 9.45l-7.72 7.72c-.78.78-.78 2.05 0 2.83L4 21.41c.39.39.9.59 1.41.59.51 0 1.02-.2 1.41-.59l7.78-7.78 2.81-2.81c.8-.78.8-2.07 0-2.86zM5.41 20L4 18.59l7.72-7.72 1.47 1.35L5.41 20z\"/>\n",
              "  </svg>\n",
              "      </button>\n",
              "      \n",
              "  <style>\n",
              "    .colab-df-container {\n",
              "      display:flex;\n",
              "      flex-wrap:wrap;\n",
              "      gap: 12px;\n",
              "    }\n",
              "\n",
              "    .colab-df-convert {\n",
              "      background-color: #E8F0FE;\n",
              "      border: none;\n",
              "      border-radius: 50%;\n",
              "      cursor: pointer;\n",
              "      display: none;\n",
              "      fill: #1967D2;\n",
              "      height: 32px;\n",
              "      padding: 0 0 0 0;\n",
              "      width: 32px;\n",
              "    }\n",
              "\n",
              "    .colab-df-convert:hover {\n",
              "      background-color: #E2EBFA;\n",
              "      box-shadow: 0px 1px 2px rgba(60, 64, 67, 0.3), 0px 1px 3px 1px rgba(60, 64, 67, 0.15);\n",
              "      fill: #174EA6;\n",
              "    }\n",
              "\n",
              "    [theme=dark] .colab-df-convert {\n",
              "      background-color: #3B4455;\n",
              "      fill: #D2E3FC;\n",
              "    }\n",
              "\n",
              "    [theme=dark] .colab-df-convert:hover {\n",
              "      background-color: #434B5C;\n",
              "      box-shadow: 0px 1px 3px 1px rgba(0, 0, 0, 0.15);\n",
              "      filter: drop-shadow(0px 1px 2px rgba(0, 0, 0, 0.3));\n",
              "      fill: #FFFFFF;\n",
              "    }\n",
              "  </style>\n",
              "\n",
              "      <script>\n",
              "        const buttonEl =\n",
              "          document.querySelector('#df-ee0b7ada-e718-46f7-9cd0-dab03bd96e82 button.colab-df-convert');\n",
              "        buttonEl.style.display =\n",
              "          google.colab.kernel.accessAllowed ? 'block' : 'none';\n",
              "\n",
              "        async function convertToInteractive(key) {\n",
              "          const element = document.querySelector('#df-ee0b7ada-e718-46f7-9cd0-dab03bd96e82');\n",
              "          const dataTable =\n",
              "            await google.colab.kernel.invokeFunction('convertToInteractive',\n",
              "                                                     [key], {});\n",
              "          if (!dataTable) return;\n",
              "\n",
              "          const docLinkHtml = 'Like what you see? Visit the ' +\n",
              "            '<a target=\"_blank\" href=https://colab.research.google.com/notebooks/data_table.ipynb>data table notebook</a>'\n",
              "            + ' to learn more about interactive tables.';\n",
              "          element.innerHTML = '';\n",
              "          dataTable['output_type'] = 'display_data';\n",
              "          await google.colab.output.renderOutput(dataTable, element);\n",
              "          const docLink = document.createElement('div');\n",
              "          docLink.innerHTML = docLinkHtml;\n",
              "          element.appendChild(docLink);\n",
              "        }\n",
              "      </script>\n",
              "    </div>\n",
              "  </div>\n",
              "  "
            ]
          },
          "metadata": {},
          "execution_count": 8
        }
      ]
    },
    {
      "cell_type": "code",
      "source": [
        "print(df[df['qtd_estrelas']==3][['comentario','indice']])"
      ],
      "metadata": {
        "id": "Bz1X43Mlv1Al",
        "colab": {
          "base_uri": "https://localhost:8080/"
        },
        "outputId": "2bd626a3-f2c5-465a-cc88-05f578897ca1"
      },
      "execution_count": null,
      "outputs": [
        {
          "output_type": "stream",
          "name": "stdout",
          "text": [
            "                                             comentario  indice\n",
            "3     I really like the deeplearning.ai specializati...       4\n",
            "11    5 stars for the very informative lectures.  I ...      12\n",
            "75    The first week is amazing. The last week is th...      76\n",
            "76    Week 4 coding exercise is incomparably harder ...      77\n",
            "3148  in comparison to the previous courses from thi...    3149\n",
            "...                                                 ...     ...\n",
            "6462  Overall a great class. I had some trouble unde...    6463\n",
            "6463  This felt the the least prepared and organized...    6464\n",
            "6464  give projects that we can build from ground up...    6465\n",
            "6465  Good theoretical overview - project just requi...    6466\n",
            "6466  Lectures on week4 are not complete as confirme...    6467\n",
            "\n",
            "[396 rows x 2 columns]\n"
          ]
        }
      ]
    },
    {
      "cell_type": "code",
      "source": [
        "df[df['indice']==4]['comentario'].tolist()"
      ],
      "metadata": {
        "id": "cs3ZB1lNwAEB",
        "colab": {
          "base_uri": "https://localhost:8080/"
        },
        "outputId": "7b9828af-f379-4883-eebf-81d64a649c26"
      },
      "execution_count": null,
      "outputs": [
        {
          "output_type": "execute_result",
          "data": {
            "text/plain": [
              "['I really like the deeplearning.ai specialization. And also I like the Sequence Models course. However, I feel that I have learned less during this course comparing to the other ones in the specialization. First, I believe it was an extensive use of Keras. Whereas the framework is great, it would be much better for understanding if all the exercises were in numpy, whereas Keras tween-projects be optional.  Doing both numpy and Keras versions would allow to better understand the material and learn through repetition. Second, even though the course is great, I perceived the number of errors/typos was much higher than in other courses. Is that true? For example, the Jazz Improvisation exercise was a nightmare. Overall, thank you for the course. Despite those problems, I would still recommend it.']"
            ]
          },
          "metadata": {},
          "execution_count": 10
        }
      ]
    },
    {
      "cell_type": "code",
      "source": [
        "df[df['indice']==6467]['comentario'].tolist()"
      ],
      "metadata": {
        "id": "IgWixzztwANB",
        "colab": {
          "base_uri": "https://localhost:8080/"
        },
        "outputId": "f597571b-cb15-43e6-ff95-167f5d6b54ef"
      },
      "execution_count": null,
      "outputs": [
        {
          "output_type": "execute_result",
          "data": {
            "text/plain": [
              "['Lectures on week4 are not complete as confirmed by mentor in the community']"
            ]
          },
          "metadata": {},
          "execution_count": 11
        }
      ]
    },
    {
      "cell_type": "markdown",
      "source": [
        "Função para criar coluna que junta as avaliações das revisões em dois grupos: \"0\" para uma avaliação ruim, agregando as revisões de 1 a 3 estrelas e \"1\" para uma avaliação boa, agregando as revisões com 4 e 5 estrelas.\n",
        "\n"
      ],
      "metadata": {
        "id": "cIUIFmxpwSgu"
      }
    },
    {
      "cell_type": "code",
      "source": [
        "avaliacoes_rotulos = ['ruim','boa']"
      ],
      "metadata": {
        "id": "qHX3GmPB1qu1"
      },
      "execution_count": null,
      "outputs": []
    },
    {
      "cell_type": "code",
      "source": [
        "def classifica_revisao_em_boa_ou_ruim(estrelas):\n",
        "  avaliacao = 0\n",
        "  if estrelas > 3:\n",
        "    avaliacao = 1\n",
        "  return avaliacao\n",
        "\n",
        "df['avaliacao'] = df.qtd_estrelas.apply(classifica_revisao_em_boa_ou_ruim)\n",
        "\n",
        "print('A base possui um total de {} registros. Os 10 primeiros são:'.format(len(df)))\n",
        "df.head(10)"
      ],
      "metadata": {
        "id": "vd6m6objwM7c",
        "colab": {
          "base_uri": "https://localhost:8080/",
          "height": 380
        },
        "outputId": "eb817b9e-0c5d-4ff7-bf42-09c001cd0459"
      },
      "execution_count": null,
      "outputs": [
        {
          "output_type": "stream",
          "name": "stdout",
          "text": [
            "A base possui um total de 6467 registros. Os 10 primeiros são:\n"
          ]
        },
        {
          "output_type": "execute_result",
          "data": {
            "text/plain": [
              "   indice                                           estrelas  \\\n",
              "0       1                   Filled Star:Star:Star:Star:Star:   \n",
              "1       2            Filled Star:Filled Star:Star:Star:Star:   \n",
              "2       3                   Filled Star:Star:Star:Star:Star:   \n",
              "3       4     Filled Star:Filled Star:Filled Star:Star:Star:   \n",
              "4       5            Filled Star:Filled Star:Star:Star:Star:   \n",
              "5       6                   Filled Star:Star:Star:Star:Star:   \n",
              "6       7  Filled Star:Filled Star:Filled Star:Filled Sta...   \n",
              "7       8  Filled Star:Filled Star:Filled Star:Filled Sta...   \n",
              "8       9  Filled Star:Filled Star:Filled Star:Filled Sta...   \n",
              "9      10            Filled Star:Filled Star:Star:Star:Star:   \n",
              "\n",
              "                                          comentario  qtd_estrelas  avaliacao  \n",
              "0  Tons of editing errors in lectures, and the pr...             1          0  \n",
              "1  This course is by far the weakest out of the 5...             2          0  \n",
              "2  Full of appalling errors that have been presen...             1          0  \n",
              "3  I really like the deeplearning.ai specializati...             3          0  \n",
              "4  The lectures were great. Andrew is a wonderful...             2          0  \n",
              "5  Keras is required to pass the assignments but ...             1          0  \n",
              "6  To set the context, I have a PhD in Computer E...             5          1  \n",
              "7  I am so grateful that Andrew and the team prov...             5          1  \n",
              "8  I want to thank Andrew Ng and his team for the...             5          1  \n",
              "9  I went through all course of DeepLearning.ai S...             2          0  "
            ],
            "text/html": [
              "\n",
              "  <div id=\"df-16b2c3d2-2ad5-4750-a6e9-97957cdc3a12\">\n",
              "    <div class=\"colab-df-container\">\n",
              "      <div>\n",
              "<style scoped>\n",
              "    .dataframe tbody tr th:only-of-type {\n",
              "        vertical-align: middle;\n",
              "    }\n",
              "\n",
              "    .dataframe tbody tr th {\n",
              "        vertical-align: top;\n",
              "    }\n",
              "\n",
              "    .dataframe thead th {\n",
              "        text-align: right;\n",
              "    }\n",
              "</style>\n",
              "<table border=\"1\" class=\"dataframe\">\n",
              "  <thead>\n",
              "    <tr style=\"text-align: right;\">\n",
              "      <th></th>\n",
              "      <th>indice</th>\n",
              "      <th>estrelas</th>\n",
              "      <th>comentario</th>\n",
              "      <th>qtd_estrelas</th>\n",
              "      <th>avaliacao</th>\n",
              "    </tr>\n",
              "  </thead>\n",
              "  <tbody>\n",
              "    <tr>\n",
              "      <th>0</th>\n",
              "      <td>1</td>\n",
              "      <td>Filled Star:Star:Star:Star:Star:</td>\n",
              "      <td>Tons of editing errors in lectures, and the pr...</td>\n",
              "      <td>1</td>\n",
              "      <td>0</td>\n",
              "    </tr>\n",
              "    <tr>\n",
              "      <th>1</th>\n",
              "      <td>2</td>\n",
              "      <td>Filled Star:Filled Star:Star:Star:Star:</td>\n",
              "      <td>This course is by far the weakest out of the 5...</td>\n",
              "      <td>2</td>\n",
              "      <td>0</td>\n",
              "    </tr>\n",
              "    <tr>\n",
              "      <th>2</th>\n",
              "      <td>3</td>\n",
              "      <td>Filled Star:Star:Star:Star:Star:</td>\n",
              "      <td>Full of appalling errors that have been presen...</td>\n",
              "      <td>1</td>\n",
              "      <td>0</td>\n",
              "    </tr>\n",
              "    <tr>\n",
              "      <th>3</th>\n",
              "      <td>4</td>\n",
              "      <td>Filled Star:Filled Star:Filled Star:Star:Star:</td>\n",
              "      <td>I really like the deeplearning.ai specializati...</td>\n",
              "      <td>3</td>\n",
              "      <td>0</td>\n",
              "    </tr>\n",
              "    <tr>\n",
              "      <th>4</th>\n",
              "      <td>5</td>\n",
              "      <td>Filled Star:Filled Star:Star:Star:Star:</td>\n",
              "      <td>The lectures were great. Andrew is a wonderful...</td>\n",
              "      <td>2</td>\n",
              "      <td>0</td>\n",
              "    </tr>\n",
              "    <tr>\n",
              "      <th>5</th>\n",
              "      <td>6</td>\n",
              "      <td>Filled Star:Star:Star:Star:Star:</td>\n",
              "      <td>Keras is required to pass the assignments but ...</td>\n",
              "      <td>1</td>\n",
              "      <td>0</td>\n",
              "    </tr>\n",
              "    <tr>\n",
              "      <th>6</th>\n",
              "      <td>7</td>\n",
              "      <td>Filled Star:Filled Star:Filled Star:Filled Sta...</td>\n",
              "      <td>To set the context, I have a PhD in Computer E...</td>\n",
              "      <td>5</td>\n",
              "      <td>1</td>\n",
              "    </tr>\n",
              "    <tr>\n",
              "      <th>7</th>\n",
              "      <td>8</td>\n",
              "      <td>Filled Star:Filled Star:Filled Star:Filled Sta...</td>\n",
              "      <td>I am so grateful that Andrew and the team prov...</td>\n",
              "      <td>5</td>\n",
              "      <td>1</td>\n",
              "    </tr>\n",
              "    <tr>\n",
              "      <th>8</th>\n",
              "      <td>9</td>\n",
              "      <td>Filled Star:Filled Star:Filled Star:Filled Sta...</td>\n",
              "      <td>I want to thank Andrew Ng and his team for the...</td>\n",
              "      <td>5</td>\n",
              "      <td>1</td>\n",
              "    </tr>\n",
              "    <tr>\n",
              "      <th>9</th>\n",
              "      <td>10</td>\n",
              "      <td>Filled Star:Filled Star:Star:Star:Star:</td>\n",
              "      <td>I went through all course of DeepLearning.ai S...</td>\n",
              "      <td>2</td>\n",
              "      <td>0</td>\n",
              "    </tr>\n",
              "  </tbody>\n",
              "</table>\n",
              "</div>\n",
              "      <button class=\"colab-df-convert\" onclick=\"convertToInteractive('df-16b2c3d2-2ad5-4750-a6e9-97957cdc3a12')\"\n",
              "              title=\"Convert this dataframe to an interactive table.\"\n",
              "              style=\"display:none;\">\n",
              "        \n",
              "  <svg xmlns=\"http://www.w3.org/2000/svg\" height=\"24px\"viewBox=\"0 0 24 24\"\n",
              "       width=\"24px\">\n",
              "    <path d=\"M0 0h24v24H0V0z\" fill=\"none\"/>\n",
              "    <path d=\"M18.56 5.44l.94 2.06.94-2.06 2.06-.94-2.06-.94-.94-2.06-.94 2.06-2.06.94zm-11 1L8.5 8.5l.94-2.06 2.06-.94-2.06-.94L8.5 2.5l-.94 2.06-2.06.94zm10 10l.94 2.06.94-2.06 2.06-.94-2.06-.94-.94-2.06-.94 2.06-2.06.94z\"/><path d=\"M17.41 7.96l-1.37-1.37c-.4-.4-.92-.59-1.43-.59-.52 0-1.04.2-1.43.59L10.3 9.45l-7.72 7.72c-.78.78-.78 2.05 0 2.83L4 21.41c.39.39.9.59 1.41.59.51 0 1.02-.2 1.41-.59l7.78-7.78 2.81-2.81c.8-.78.8-2.07 0-2.86zM5.41 20L4 18.59l7.72-7.72 1.47 1.35L5.41 20z\"/>\n",
              "  </svg>\n",
              "      </button>\n",
              "      \n",
              "  <style>\n",
              "    .colab-df-container {\n",
              "      display:flex;\n",
              "      flex-wrap:wrap;\n",
              "      gap: 12px;\n",
              "    }\n",
              "\n",
              "    .colab-df-convert {\n",
              "      background-color: #E8F0FE;\n",
              "      border: none;\n",
              "      border-radius: 50%;\n",
              "      cursor: pointer;\n",
              "      display: none;\n",
              "      fill: #1967D2;\n",
              "      height: 32px;\n",
              "      padding: 0 0 0 0;\n",
              "      width: 32px;\n",
              "    }\n",
              "\n",
              "    .colab-df-convert:hover {\n",
              "      background-color: #E2EBFA;\n",
              "      box-shadow: 0px 1px 2px rgba(60, 64, 67, 0.3), 0px 1px 3px 1px rgba(60, 64, 67, 0.15);\n",
              "      fill: #174EA6;\n",
              "    }\n",
              "\n",
              "    [theme=dark] .colab-df-convert {\n",
              "      background-color: #3B4455;\n",
              "      fill: #D2E3FC;\n",
              "    }\n",
              "\n",
              "    [theme=dark] .colab-df-convert:hover {\n",
              "      background-color: #434B5C;\n",
              "      box-shadow: 0px 1px 3px 1px rgba(0, 0, 0, 0.15);\n",
              "      filter: drop-shadow(0px 1px 2px rgba(0, 0, 0, 0.3));\n",
              "      fill: #FFFFFF;\n",
              "    }\n",
              "  </style>\n",
              "\n",
              "      <script>\n",
              "        const buttonEl =\n",
              "          document.querySelector('#df-16b2c3d2-2ad5-4750-a6e9-97957cdc3a12 button.colab-df-convert');\n",
              "        buttonEl.style.display =\n",
              "          google.colab.kernel.accessAllowed ? 'block' : 'none';\n",
              "\n",
              "        async function convertToInteractive(key) {\n",
              "          const element = document.querySelector('#df-16b2c3d2-2ad5-4750-a6e9-97957cdc3a12');\n",
              "          const dataTable =\n",
              "            await google.colab.kernel.invokeFunction('convertToInteractive',\n",
              "                                                     [key], {});\n",
              "          if (!dataTable) return;\n",
              "\n",
              "          const docLinkHtml = 'Like what you see? Visit the ' +\n",
              "            '<a target=\"_blank\" href=https://colab.research.google.com/notebooks/data_table.ipynb>data table notebook</a>'\n",
              "            + ' to learn more about interactive tables.';\n",
              "          element.innerHTML = '';\n",
              "          dataTable['output_type'] = 'display_data';\n",
              "          await google.colab.output.renderOutput(dataTable, element);\n",
              "          const docLink = document.createElement('div');\n",
              "          docLink.innerHTML = docLinkHtml;\n",
              "          element.appendChild(docLink);\n",
              "        }\n",
              "      </script>\n",
              "    </div>\n",
              "  </div>\n",
              "  "
            ]
          },
          "metadata": {},
          "execution_count": 12
        }
      ]
    },
    {
      "cell_type": "code",
      "source": [
        "(df.groupby('avaliacao').count())"
      ],
      "metadata": {
        "id": "HOdcbgtVwp48",
        "colab": {
          "base_uri": "https://localhost:8080/",
          "height": 143
        },
        "outputId": "df851eca-f314-4c29-b309-4e630c543e75"
      },
      "execution_count": null,
      "outputs": [
        {
          "output_type": "execute_result",
          "data": {
            "text/plain": [
              "           indice  estrelas  comentario  qtd_estrelas\n",
              "avaliacao                                            \n",
              "0             522       522         522           522\n",
              "1            5945      5945        5945          5945"
            ],
            "text/html": [
              "\n",
              "  <div id=\"df-f01e4b46-f09b-43a5-8f2a-0f258cf04bdf\">\n",
              "    <div class=\"colab-df-container\">\n",
              "      <div>\n",
              "<style scoped>\n",
              "    .dataframe tbody tr th:only-of-type {\n",
              "        vertical-align: middle;\n",
              "    }\n",
              "\n",
              "    .dataframe tbody tr th {\n",
              "        vertical-align: top;\n",
              "    }\n",
              "\n",
              "    .dataframe thead th {\n",
              "        text-align: right;\n",
              "    }\n",
              "</style>\n",
              "<table border=\"1\" class=\"dataframe\">\n",
              "  <thead>\n",
              "    <tr style=\"text-align: right;\">\n",
              "      <th></th>\n",
              "      <th>indice</th>\n",
              "      <th>estrelas</th>\n",
              "      <th>comentario</th>\n",
              "      <th>qtd_estrelas</th>\n",
              "    </tr>\n",
              "    <tr>\n",
              "      <th>avaliacao</th>\n",
              "      <th></th>\n",
              "      <th></th>\n",
              "      <th></th>\n",
              "      <th></th>\n",
              "    </tr>\n",
              "  </thead>\n",
              "  <tbody>\n",
              "    <tr>\n",
              "      <th>0</th>\n",
              "      <td>522</td>\n",
              "      <td>522</td>\n",
              "      <td>522</td>\n",
              "      <td>522</td>\n",
              "    </tr>\n",
              "    <tr>\n",
              "      <th>1</th>\n",
              "      <td>5945</td>\n",
              "      <td>5945</td>\n",
              "      <td>5945</td>\n",
              "      <td>5945</td>\n",
              "    </tr>\n",
              "  </tbody>\n",
              "</table>\n",
              "</div>\n",
              "      <button class=\"colab-df-convert\" onclick=\"convertToInteractive('df-f01e4b46-f09b-43a5-8f2a-0f258cf04bdf')\"\n",
              "              title=\"Convert this dataframe to an interactive table.\"\n",
              "              style=\"display:none;\">\n",
              "        \n",
              "  <svg xmlns=\"http://www.w3.org/2000/svg\" height=\"24px\"viewBox=\"0 0 24 24\"\n",
              "       width=\"24px\">\n",
              "    <path d=\"M0 0h24v24H0V0z\" fill=\"none\"/>\n",
              "    <path d=\"M18.56 5.44l.94 2.06.94-2.06 2.06-.94-2.06-.94-.94-2.06-.94 2.06-2.06.94zm-11 1L8.5 8.5l.94-2.06 2.06-.94-2.06-.94L8.5 2.5l-.94 2.06-2.06.94zm10 10l.94 2.06.94-2.06 2.06-.94-2.06-.94-.94-2.06-.94 2.06-2.06.94z\"/><path d=\"M17.41 7.96l-1.37-1.37c-.4-.4-.92-.59-1.43-.59-.52 0-1.04.2-1.43.59L10.3 9.45l-7.72 7.72c-.78.78-.78 2.05 0 2.83L4 21.41c.39.39.9.59 1.41.59.51 0 1.02-.2 1.41-.59l7.78-7.78 2.81-2.81c.8-.78.8-2.07 0-2.86zM5.41 20L4 18.59l7.72-7.72 1.47 1.35L5.41 20z\"/>\n",
              "  </svg>\n",
              "      </button>\n",
              "      \n",
              "  <style>\n",
              "    .colab-df-container {\n",
              "      display:flex;\n",
              "      flex-wrap:wrap;\n",
              "      gap: 12px;\n",
              "    }\n",
              "\n",
              "    .colab-df-convert {\n",
              "      background-color: #E8F0FE;\n",
              "      border: none;\n",
              "      border-radius: 50%;\n",
              "      cursor: pointer;\n",
              "      display: none;\n",
              "      fill: #1967D2;\n",
              "      height: 32px;\n",
              "      padding: 0 0 0 0;\n",
              "      width: 32px;\n",
              "    }\n",
              "\n",
              "    .colab-df-convert:hover {\n",
              "      background-color: #E2EBFA;\n",
              "      box-shadow: 0px 1px 2px rgba(60, 64, 67, 0.3), 0px 1px 3px 1px rgba(60, 64, 67, 0.15);\n",
              "      fill: #174EA6;\n",
              "    }\n",
              "\n",
              "    [theme=dark] .colab-df-convert {\n",
              "      background-color: #3B4455;\n",
              "      fill: #D2E3FC;\n",
              "    }\n",
              "\n",
              "    [theme=dark] .colab-df-convert:hover {\n",
              "      background-color: #434B5C;\n",
              "      box-shadow: 0px 1px 3px 1px rgba(0, 0, 0, 0.15);\n",
              "      filter: drop-shadow(0px 1px 2px rgba(0, 0, 0, 0.3));\n",
              "      fill: #FFFFFF;\n",
              "    }\n",
              "  </style>\n",
              "\n",
              "      <script>\n",
              "        const buttonEl =\n",
              "          document.querySelector('#df-f01e4b46-f09b-43a5-8f2a-0f258cf04bdf button.colab-df-convert');\n",
              "        buttonEl.style.display =\n",
              "          google.colab.kernel.accessAllowed ? 'block' : 'none';\n",
              "\n",
              "        async function convertToInteractive(key) {\n",
              "          const element = document.querySelector('#df-f01e4b46-f09b-43a5-8f2a-0f258cf04bdf');\n",
              "          const dataTable =\n",
              "            await google.colab.kernel.invokeFunction('convertToInteractive',\n",
              "                                                     [key], {});\n",
              "          if (!dataTable) return;\n",
              "\n",
              "          const docLinkHtml = 'Like what you see? Visit the ' +\n",
              "            '<a target=\"_blank\" href=https://colab.research.google.com/notebooks/data_table.ipynb>data table notebook</a>'\n",
              "            + ' to learn more about interactive tables.';\n",
              "          element.innerHTML = '';\n",
              "          dataTable['output_type'] = 'display_data';\n",
              "          await google.colab.output.renderOutput(dataTable, element);\n",
              "          const docLink = document.createElement('div');\n",
              "          docLink.innerHTML = docLinkHtml;\n",
              "          element.appendChild(docLink);\n",
              "        }\n",
              "      </script>\n",
              "    </div>\n",
              "  </div>\n",
              "  "
            ]
          },
          "metadata": {},
          "execution_count": 13
        }
      ]
    },
    {
      "cell_type": "markdown",
      "source": [
        "Função para criar coluna com tamanho do comentário a fim de ajudar na definição do tamanho máximo a ser considerado no treinamento do modelo."
      ],
      "metadata": {
        "id": "wVIUVRkVB3FL"
      }
    },
    {
      "cell_type": "code",
      "source": [
        "def Registra_tamanho_do_comentario(comentario):\n",
        "  #l1 = comentario.tolist()\n",
        "  return len(comentario)\n",
        "\n",
        "df['tamanho_comentario'] = df.comentario.apply(Registra_tamanho_do_comentario)\n",
        "\n",
        "print('A base possui um total de {} registros. Os 10 primeiros são:'.format(len(df)))\n",
        "df.head(10)"
      ],
      "metadata": {
        "colab": {
          "base_uri": "https://localhost:8080/",
          "height": 380
        },
        "id": "jDbXtAUP8cAp",
        "outputId": "35f21486-246a-40a9-c84a-4e2bd95fe088"
      },
      "execution_count": null,
      "outputs": [
        {
          "output_type": "stream",
          "name": "stdout",
          "text": [
            "A base possui um total de 6467 registros. Os 10 primeiros são:\n"
          ]
        },
        {
          "output_type": "execute_result",
          "data": {
            "text/plain": [
              "   indice                                           estrelas  \\\n",
              "0       1                   Filled Star:Star:Star:Star:Star:   \n",
              "1       2            Filled Star:Filled Star:Star:Star:Star:   \n",
              "2       3                   Filled Star:Star:Star:Star:Star:   \n",
              "3       4     Filled Star:Filled Star:Filled Star:Star:Star:   \n",
              "4       5            Filled Star:Filled Star:Star:Star:Star:   \n",
              "5       6                   Filled Star:Star:Star:Star:Star:   \n",
              "6       7  Filled Star:Filled Star:Filled Star:Filled Sta...   \n",
              "7       8  Filled Star:Filled Star:Filled Star:Filled Sta...   \n",
              "8       9  Filled Star:Filled Star:Filled Star:Filled Sta...   \n",
              "9      10            Filled Star:Filled Star:Star:Star:Star:   \n",
              "\n",
              "                                          comentario  qtd_estrelas  avaliacao  \\\n",
              "0  Tons of editing errors in lectures, and the pr...             1          0   \n",
              "1  This course is by far the weakest out of the 5...             2          0   \n",
              "2  Full of appalling errors that have been presen...             1          0   \n",
              "3  I really like the deeplearning.ai specializati...             3          0   \n",
              "4  The lectures were great. Andrew is a wonderful...             2          0   \n",
              "5  Keras is required to pass the assignments but ...             1          0   \n",
              "6  To set the context, I have a PhD in Computer E...             5          1   \n",
              "7  I am so grateful that Andrew and the team prov...             5          1   \n",
              "8  I want to thank Andrew Ng and his team for the...             5          1   \n",
              "9  I went through all course of DeepLearning.ai S...             2          0   \n",
              "\n",
              "   tamanho_comentario  \n",
              "0                 249  \n",
              "1                 645  \n",
              "2                 419  \n",
              "3                 802  \n",
              "4                 835  \n",
              "5                 160  \n",
              "6                 264  \n",
              "7                 199  \n",
              "8                 155  \n",
              "9                 365  "
            ],
            "text/html": [
              "\n",
              "  <div id=\"df-c001423c-b223-404b-a919-44b238c5214c\">\n",
              "    <div class=\"colab-df-container\">\n",
              "      <div>\n",
              "<style scoped>\n",
              "    .dataframe tbody tr th:only-of-type {\n",
              "        vertical-align: middle;\n",
              "    }\n",
              "\n",
              "    .dataframe tbody tr th {\n",
              "        vertical-align: top;\n",
              "    }\n",
              "\n",
              "    .dataframe thead th {\n",
              "        text-align: right;\n",
              "    }\n",
              "</style>\n",
              "<table border=\"1\" class=\"dataframe\">\n",
              "  <thead>\n",
              "    <tr style=\"text-align: right;\">\n",
              "      <th></th>\n",
              "      <th>indice</th>\n",
              "      <th>estrelas</th>\n",
              "      <th>comentario</th>\n",
              "      <th>qtd_estrelas</th>\n",
              "      <th>avaliacao</th>\n",
              "      <th>tamanho_comentario</th>\n",
              "    </tr>\n",
              "  </thead>\n",
              "  <tbody>\n",
              "    <tr>\n",
              "      <th>0</th>\n",
              "      <td>1</td>\n",
              "      <td>Filled Star:Star:Star:Star:Star:</td>\n",
              "      <td>Tons of editing errors in lectures, and the pr...</td>\n",
              "      <td>1</td>\n",
              "      <td>0</td>\n",
              "      <td>249</td>\n",
              "    </tr>\n",
              "    <tr>\n",
              "      <th>1</th>\n",
              "      <td>2</td>\n",
              "      <td>Filled Star:Filled Star:Star:Star:Star:</td>\n",
              "      <td>This course is by far the weakest out of the 5...</td>\n",
              "      <td>2</td>\n",
              "      <td>0</td>\n",
              "      <td>645</td>\n",
              "    </tr>\n",
              "    <tr>\n",
              "      <th>2</th>\n",
              "      <td>3</td>\n",
              "      <td>Filled Star:Star:Star:Star:Star:</td>\n",
              "      <td>Full of appalling errors that have been presen...</td>\n",
              "      <td>1</td>\n",
              "      <td>0</td>\n",
              "      <td>419</td>\n",
              "    </tr>\n",
              "    <tr>\n",
              "      <th>3</th>\n",
              "      <td>4</td>\n",
              "      <td>Filled Star:Filled Star:Filled Star:Star:Star:</td>\n",
              "      <td>I really like the deeplearning.ai specializati...</td>\n",
              "      <td>3</td>\n",
              "      <td>0</td>\n",
              "      <td>802</td>\n",
              "    </tr>\n",
              "    <tr>\n",
              "      <th>4</th>\n",
              "      <td>5</td>\n",
              "      <td>Filled Star:Filled Star:Star:Star:Star:</td>\n",
              "      <td>The lectures were great. Andrew is a wonderful...</td>\n",
              "      <td>2</td>\n",
              "      <td>0</td>\n",
              "      <td>835</td>\n",
              "    </tr>\n",
              "    <tr>\n",
              "      <th>5</th>\n",
              "      <td>6</td>\n",
              "      <td>Filled Star:Star:Star:Star:Star:</td>\n",
              "      <td>Keras is required to pass the assignments but ...</td>\n",
              "      <td>1</td>\n",
              "      <td>0</td>\n",
              "      <td>160</td>\n",
              "    </tr>\n",
              "    <tr>\n",
              "      <th>6</th>\n",
              "      <td>7</td>\n",
              "      <td>Filled Star:Filled Star:Filled Star:Filled Sta...</td>\n",
              "      <td>To set the context, I have a PhD in Computer E...</td>\n",
              "      <td>5</td>\n",
              "      <td>1</td>\n",
              "      <td>264</td>\n",
              "    </tr>\n",
              "    <tr>\n",
              "      <th>7</th>\n",
              "      <td>8</td>\n",
              "      <td>Filled Star:Filled Star:Filled Star:Filled Sta...</td>\n",
              "      <td>I am so grateful that Andrew and the team prov...</td>\n",
              "      <td>5</td>\n",
              "      <td>1</td>\n",
              "      <td>199</td>\n",
              "    </tr>\n",
              "    <tr>\n",
              "      <th>8</th>\n",
              "      <td>9</td>\n",
              "      <td>Filled Star:Filled Star:Filled Star:Filled Sta...</td>\n",
              "      <td>I want to thank Andrew Ng and his team for the...</td>\n",
              "      <td>5</td>\n",
              "      <td>1</td>\n",
              "      <td>155</td>\n",
              "    </tr>\n",
              "    <tr>\n",
              "      <th>9</th>\n",
              "      <td>10</td>\n",
              "      <td>Filled Star:Filled Star:Star:Star:Star:</td>\n",
              "      <td>I went through all course of DeepLearning.ai S...</td>\n",
              "      <td>2</td>\n",
              "      <td>0</td>\n",
              "      <td>365</td>\n",
              "    </tr>\n",
              "  </tbody>\n",
              "</table>\n",
              "</div>\n",
              "      <button class=\"colab-df-convert\" onclick=\"convertToInteractive('df-c001423c-b223-404b-a919-44b238c5214c')\"\n",
              "              title=\"Convert this dataframe to an interactive table.\"\n",
              "              style=\"display:none;\">\n",
              "        \n",
              "  <svg xmlns=\"http://www.w3.org/2000/svg\" height=\"24px\"viewBox=\"0 0 24 24\"\n",
              "       width=\"24px\">\n",
              "    <path d=\"M0 0h24v24H0V0z\" fill=\"none\"/>\n",
              "    <path d=\"M18.56 5.44l.94 2.06.94-2.06 2.06-.94-2.06-.94-.94-2.06-.94 2.06-2.06.94zm-11 1L8.5 8.5l.94-2.06 2.06-.94-2.06-.94L8.5 2.5l-.94 2.06-2.06.94zm10 10l.94 2.06.94-2.06 2.06-.94-2.06-.94-.94-2.06-.94 2.06-2.06.94z\"/><path d=\"M17.41 7.96l-1.37-1.37c-.4-.4-.92-.59-1.43-.59-.52 0-1.04.2-1.43.59L10.3 9.45l-7.72 7.72c-.78.78-.78 2.05 0 2.83L4 21.41c.39.39.9.59 1.41.59.51 0 1.02-.2 1.41-.59l7.78-7.78 2.81-2.81c.8-.78.8-2.07 0-2.86zM5.41 20L4 18.59l7.72-7.72 1.47 1.35L5.41 20z\"/>\n",
              "  </svg>\n",
              "      </button>\n",
              "      \n",
              "  <style>\n",
              "    .colab-df-container {\n",
              "      display:flex;\n",
              "      flex-wrap:wrap;\n",
              "      gap: 12px;\n",
              "    }\n",
              "\n",
              "    .colab-df-convert {\n",
              "      background-color: #E8F0FE;\n",
              "      border: none;\n",
              "      border-radius: 50%;\n",
              "      cursor: pointer;\n",
              "      display: none;\n",
              "      fill: #1967D2;\n",
              "      height: 32px;\n",
              "      padding: 0 0 0 0;\n",
              "      width: 32px;\n",
              "    }\n",
              "\n",
              "    .colab-df-convert:hover {\n",
              "      background-color: #E2EBFA;\n",
              "      box-shadow: 0px 1px 2px rgba(60, 64, 67, 0.3), 0px 1px 3px 1px rgba(60, 64, 67, 0.15);\n",
              "      fill: #174EA6;\n",
              "    }\n",
              "\n",
              "    [theme=dark] .colab-df-convert {\n",
              "      background-color: #3B4455;\n",
              "      fill: #D2E3FC;\n",
              "    }\n",
              "\n",
              "    [theme=dark] .colab-df-convert:hover {\n",
              "      background-color: #434B5C;\n",
              "      box-shadow: 0px 1px 3px 1px rgba(0, 0, 0, 0.15);\n",
              "      filter: drop-shadow(0px 1px 2px rgba(0, 0, 0, 0.3));\n",
              "      fill: #FFFFFF;\n",
              "    }\n",
              "  </style>\n",
              "\n",
              "      <script>\n",
              "        const buttonEl =\n",
              "          document.querySelector('#df-c001423c-b223-404b-a919-44b238c5214c button.colab-df-convert');\n",
              "        buttonEl.style.display =\n",
              "          google.colab.kernel.accessAllowed ? 'block' : 'none';\n",
              "\n",
              "        async function convertToInteractive(key) {\n",
              "          const element = document.querySelector('#df-c001423c-b223-404b-a919-44b238c5214c');\n",
              "          const dataTable =\n",
              "            await google.colab.kernel.invokeFunction('convertToInteractive',\n",
              "                                                     [key], {});\n",
              "          if (!dataTable) return;\n",
              "\n",
              "          const docLinkHtml = 'Like what you see? Visit the ' +\n",
              "            '<a target=\"_blank\" href=https://colab.research.google.com/notebooks/data_table.ipynb>data table notebook</a>'\n",
              "            + ' to learn more about interactive tables.';\n",
              "          element.innerHTML = '';\n",
              "          dataTable['output_type'] = 'display_data';\n",
              "          await google.colab.output.renderOutput(dataTable, element);\n",
              "          const docLink = document.createElement('div');\n",
              "          docLink.innerHTML = docLinkHtml;\n",
              "          element.appendChild(docLink);\n",
              "        }\n",
              "      </script>\n",
              "    </div>\n",
              "  </div>\n",
              "  "
            ]
          },
          "metadata": {},
          "execution_count": 28
        }
      ]
    },
    {
      "cell_type": "code",
      "source": [
        "df[df['indice']==6467]"
      ],
      "metadata": {
        "colab": {
          "base_uri": "https://localhost:8080/",
          "height": 81
        },
        "id": "SkRzIvof9wXM",
        "outputId": "2b1f6cb9-d117-4efe-ecd0-08b1a09d5b17"
      },
      "execution_count": null,
      "outputs": [
        {
          "output_type": "execute_result",
          "data": {
            "text/plain": [
              "      indice                                        estrelas  \\\n",
              "6466    6467  Filled Star:Filled Star:Filled Star:Star:Star:   \n",
              "\n",
              "                                             comentario  qtd_estrelas  \\\n",
              "6466  Lectures on week4 are not complete as confirme...             3   \n",
              "\n",
              "      avaliacao  tamanho_comentario  \n",
              "6466          0                  74  "
            ],
            "text/html": [
              "\n",
              "  <div id=\"df-ca113e88-8d9d-45e4-ae2a-8e8260da7124\">\n",
              "    <div class=\"colab-df-container\">\n",
              "      <div>\n",
              "<style scoped>\n",
              "    .dataframe tbody tr th:only-of-type {\n",
              "        vertical-align: middle;\n",
              "    }\n",
              "\n",
              "    .dataframe tbody tr th {\n",
              "        vertical-align: top;\n",
              "    }\n",
              "\n",
              "    .dataframe thead th {\n",
              "        text-align: right;\n",
              "    }\n",
              "</style>\n",
              "<table border=\"1\" class=\"dataframe\">\n",
              "  <thead>\n",
              "    <tr style=\"text-align: right;\">\n",
              "      <th></th>\n",
              "      <th>indice</th>\n",
              "      <th>estrelas</th>\n",
              "      <th>comentario</th>\n",
              "      <th>qtd_estrelas</th>\n",
              "      <th>avaliacao</th>\n",
              "      <th>tamanho_comentario</th>\n",
              "    </tr>\n",
              "  </thead>\n",
              "  <tbody>\n",
              "    <tr>\n",
              "      <th>6466</th>\n",
              "      <td>6467</td>\n",
              "      <td>Filled Star:Filled Star:Filled Star:Star:Star:</td>\n",
              "      <td>Lectures on week4 are not complete as confirme...</td>\n",
              "      <td>3</td>\n",
              "      <td>0</td>\n",
              "      <td>74</td>\n",
              "    </tr>\n",
              "  </tbody>\n",
              "</table>\n",
              "</div>\n",
              "      <button class=\"colab-df-convert\" onclick=\"convertToInteractive('df-ca113e88-8d9d-45e4-ae2a-8e8260da7124')\"\n",
              "              title=\"Convert this dataframe to an interactive table.\"\n",
              "              style=\"display:none;\">\n",
              "        \n",
              "  <svg xmlns=\"http://www.w3.org/2000/svg\" height=\"24px\"viewBox=\"0 0 24 24\"\n",
              "       width=\"24px\">\n",
              "    <path d=\"M0 0h24v24H0V0z\" fill=\"none\"/>\n",
              "    <path d=\"M18.56 5.44l.94 2.06.94-2.06 2.06-.94-2.06-.94-.94-2.06-.94 2.06-2.06.94zm-11 1L8.5 8.5l.94-2.06 2.06-.94-2.06-.94L8.5 2.5l-.94 2.06-2.06.94zm10 10l.94 2.06.94-2.06 2.06-.94-2.06-.94-.94-2.06-.94 2.06-2.06.94z\"/><path d=\"M17.41 7.96l-1.37-1.37c-.4-.4-.92-.59-1.43-.59-.52 0-1.04.2-1.43.59L10.3 9.45l-7.72 7.72c-.78.78-.78 2.05 0 2.83L4 21.41c.39.39.9.59 1.41.59.51 0 1.02-.2 1.41-.59l7.78-7.78 2.81-2.81c.8-.78.8-2.07 0-2.86zM5.41 20L4 18.59l7.72-7.72 1.47 1.35L5.41 20z\"/>\n",
              "  </svg>\n",
              "      </button>\n",
              "      \n",
              "  <style>\n",
              "    .colab-df-container {\n",
              "      display:flex;\n",
              "      flex-wrap:wrap;\n",
              "      gap: 12px;\n",
              "    }\n",
              "\n",
              "    .colab-df-convert {\n",
              "      background-color: #E8F0FE;\n",
              "      border: none;\n",
              "      border-radius: 50%;\n",
              "      cursor: pointer;\n",
              "      display: none;\n",
              "      fill: #1967D2;\n",
              "      height: 32px;\n",
              "      padding: 0 0 0 0;\n",
              "      width: 32px;\n",
              "    }\n",
              "\n",
              "    .colab-df-convert:hover {\n",
              "      background-color: #E2EBFA;\n",
              "      box-shadow: 0px 1px 2px rgba(60, 64, 67, 0.3), 0px 1px 3px 1px rgba(60, 64, 67, 0.15);\n",
              "      fill: #174EA6;\n",
              "    }\n",
              "\n",
              "    [theme=dark] .colab-df-convert {\n",
              "      background-color: #3B4455;\n",
              "      fill: #D2E3FC;\n",
              "    }\n",
              "\n",
              "    [theme=dark] .colab-df-convert:hover {\n",
              "      background-color: #434B5C;\n",
              "      box-shadow: 0px 1px 3px 1px rgba(0, 0, 0, 0.15);\n",
              "      filter: drop-shadow(0px 1px 2px rgba(0, 0, 0, 0.3));\n",
              "      fill: #FFFFFF;\n",
              "    }\n",
              "  </style>\n",
              "\n",
              "      <script>\n",
              "        const buttonEl =\n",
              "          document.querySelector('#df-ca113e88-8d9d-45e4-ae2a-8e8260da7124 button.colab-df-convert');\n",
              "        buttonEl.style.display =\n",
              "          google.colab.kernel.accessAllowed ? 'block' : 'none';\n",
              "\n",
              "        async function convertToInteractive(key) {\n",
              "          const element = document.querySelector('#df-ca113e88-8d9d-45e4-ae2a-8e8260da7124');\n",
              "          const dataTable =\n",
              "            await google.colab.kernel.invokeFunction('convertToInteractive',\n",
              "                                                     [key], {});\n",
              "          if (!dataTable) return;\n",
              "\n",
              "          const docLinkHtml = 'Like what you see? Visit the ' +\n",
              "            '<a target=\"_blank\" href=https://colab.research.google.com/notebooks/data_table.ipynb>data table notebook</a>'\n",
              "            + ' to learn more about interactive tables.';\n",
              "          element.innerHTML = '';\n",
              "          dataTable['output_type'] = 'display_data';\n",
              "          await google.colab.output.renderOutput(dataTable, element);\n",
              "          const docLink = document.createElement('div');\n",
              "          docLink.innerHTML = docLinkHtml;\n",
              "          element.appendChild(docLink);\n",
              "        }\n",
              "      </script>\n",
              "    </div>\n",
              "  </div>\n",
              "  "
            ]
          },
          "metadata": {},
          "execution_count": 29
        }
      ]
    },
    {
      "cell_type": "markdown",
      "source": [
        "Analisando o tamanho dos comentários a fim de definir um tamanho máximo para ser usado no treinamento"
      ],
      "metadata": {
        "id": "yg3hBKKE3-b-"
      }
    },
    {
      "cell_type": "code",
      "source": [
        "# Tamanho do maior comentário\n",
        "df['tamanho_comentario'].max()"
      ],
      "metadata": {
        "colab": {
          "base_uri": "https://localhost:8080/"
        },
        "id": "WaKM033V2kno",
        "outputId": "27ad081c-894b-42ad-e0b1-2c78024a38bb"
      },
      "execution_count": null,
      "outputs": [
        {
          "output_type": "execute_result",
          "data": {
            "text/plain": [
              "1904"
            ]
          },
          "metadata": {},
          "execution_count": 91
        }
      ]
    },
    {
      "cell_type": "code",
      "source": [
        "df['tamanho_comentario'].describe()"
      ],
      "metadata": {
        "colab": {
          "base_uri": "https://localhost:8080/"
        },
        "id": "nGC8e6N23sZM",
        "outputId": "9bc62158-d500-4f33-f187-c254f2e8dcd6"
      },
      "execution_count": null,
      "outputs": [
        {
          "output_type": "execute_result",
          "data": {
            "text/plain": [
              "count    6467.000000\n",
              "mean      110.552807\n",
              "std       124.203054\n",
              "min         1.000000\n",
              "25%        31.000000\n",
              "50%        73.000000\n",
              "75%       146.000000\n",
              "max      1904.000000\n",
              "Name: tamanho_comentario, dtype: float64"
            ]
          },
          "metadata": {},
          "execution_count": 99
        }
      ]
    },
    {
      "cell_type": "code",
      "source": [
        "df[df['tamanho_comentario']>500]['tamanho_comentario'].count()"
      ],
      "metadata": {
        "colab": {
          "base_uri": "https://localhost:8080/"
        },
        "id": "yJTU4CNy27s4",
        "outputId": "a9ef2bae-5c6f-425d-d72b-c7c92779b79d"
      },
      "execution_count": null,
      "outputs": [
        {
          "output_type": "execute_result",
          "data": {
            "text/plain": [
              "88"
            ]
          },
          "metadata": {},
          "execution_count": 98
        }
      ]
    },
    {
      "cell_type": "code",
      "source": [
        "df[df['tamanho_comentario']>1000]['tamanho_comentario'].count()"
      ],
      "metadata": {
        "colab": {
          "base_uri": "https://localhost:8080/"
        },
        "id": "MY4cuW7j4Yfe",
        "outputId": "aff14142-b455-43b2-a7b1-16f91ee7181b"
      },
      "execution_count": null,
      "outputs": [
        {
          "output_type": "execute_result",
          "data": {
            "text/plain": [
              "7"
            ]
          },
          "metadata": {},
          "execution_count": 100
        }
      ]
    },
    {
      "cell_type": "code",
      "source": [
        "max_sent_length = 500"
      ],
      "metadata": {
        "id": "vaa6Fp9b4lAR"
      },
      "execution_count": null,
      "outputs": []
    },
    {
      "cell_type": "code",
      "source": [
        "df.to_csv(\"coursera-processado.csv\", index=False)"
      ],
      "metadata": {
        "id": "UeZmrY_j5GN-"
      },
      "execution_count": null,
      "outputs": []
    },
    {
      "cell_type": "code",
      "source": [
        "!ls"
      ],
      "metadata": {
        "colab": {
          "base_uri": "https://localhost:8080/"
        },
        "id": "fVwGj1lO6hIe",
        "outputId": "b18ec47f-f35c-4135-cec8-3ae87a835772"
      },
      "execution_count": null,
      "outputs": [
        {
          "output_type": "stream",
          "name": "stdout",
          "text": [
            "aulas\t\t\t  coursera-processado.csv\t\t  PLN01.ipynb\n",
            "coursera2.csv\t\t  coursera-processado-segunda-parte.csv   PLN02.ipynb\n",
            "coursera.csv\t\t  coursera-processado-versao-inicial.csv\n",
            "coursera-processado2.csv  coursera.py\n"
          ]
        }
      ]
    },
    {
      "cell_type": "code",
      "source": [
        "df = pd.read_csv(\"coursera-processado.csv\")\n",
        "df.shape"
      ],
      "metadata": {
        "colab": {
          "base_uri": "https://localhost:8080/"
        },
        "id": "m_-RC8OL6i-c",
        "outputId": "f98f28fb-f829-464e-9fe8-984c9e4303ff"
      },
      "execution_count": null,
      "outputs": [
        {
          "output_type": "execute_result",
          "data": {
            "text/plain": [
              "(6467, 6)"
            ]
          },
          "metadata": {},
          "execution_count": 32
        }
      ]
    },
    {
      "cell_type": "code",
      "source": [
        "print('A base possui um total de {} registros. Os 10 primeiros são:'.format(len(df)))\n",
        "\n",
        "df.head(10)"
      ],
      "metadata": {
        "colab": {
          "base_uri": "https://localhost:8080/",
          "height": 380
        },
        "id": "NjX70J216hNc",
        "outputId": "becdc9fe-41f2-4b85-ab58-ff6167e420b9"
      },
      "execution_count": null,
      "outputs": [
        {
          "output_type": "stream",
          "name": "stdout",
          "text": [
            "A base possui um total de 6467 registros. Os 10 primeiros são:\n"
          ]
        },
        {
          "output_type": "execute_result",
          "data": {
            "text/plain": [
              "   indice                                           estrelas  \\\n",
              "0       1                   Filled Star:Star:Star:Star:Star:   \n",
              "1       2            Filled Star:Filled Star:Star:Star:Star:   \n",
              "2       3                   Filled Star:Star:Star:Star:Star:   \n",
              "3       4     Filled Star:Filled Star:Filled Star:Star:Star:   \n",
              "4       5            Filled Star:Filled Star:Star:Star:Star:   \n",
              "5       6                   Filled Star:Star:Star:Star:Star:   \n",
              "6       7  Filled Star:Filled Star:Filled Star:Filled Sta...   \n",
              "7       8  Filled Star:Filled Star:Filled Star:Filled Sta...   \n",
              "8       9  Filled Star:Filled Star:Filled Star:Filled Sta...   \n",
              "9      10            Filled Star:Filled Star:Star:Star:Star:   \n",
              "\n",
              "                                          comentario  qtd_estrelas  avaliacao  \\\n",
              "0  Tons of editing errors in lectures, and the pr...             1          0   \n",
              "1  This course is by far the weakest out of the 5...             2          0   \n",
              "2  Full of appalling errors that have been presen...             1          0   \n",
              "3  I really like the deeplearning.ai specializati...             3          0   \n",
              "4  The lectures were great. Andrew is a wonderful...             2          0   \n",
              "5  Keras is required to pass the assignments but ...             1          0   \n",
              "6  To set the context, I have a PhD in Computer E...             5          1   \n",
              "7  I am so grateful that Andrew and the team prov...             5          1   \n",
              "8  I want to thank Andrew Ng and his team for the...             5          1   \n",
              "9  I went through all course of DeepLearning.ai S...             2          0   \n",
              "\n",
              "   tamanho_comentario  \n",
              "0                 249  \n",
              "1                 645  \n",
              "2                 419  \n",
              "3                 802  \n",
              "4                 835  \n",
              "5                 160  \n",
              "6                 264  \n",
              "7                 199  \n",
              "8                 155  \n",
              "9                 365  "
            ],
            "text/html": [
              "\n",
              "  <div id=\"df-f3a97025-1da5-4e66-a802-22cd037ecbcb\">\n",
              "    <div class=\"colab-df-container\">\n",
              "      <div>\n",
              "<style scoped>\n",
              "    .dataframe tbody tr th:only-of-type {\n",
              "        vertical-align: middle;\n",
              "    }\n",
              "\n",
              "    .dataframe tbody tr th {\n",
              "        vertical-align: top;\n",
              "    }\n",
              "\n",
              "    .dataframe thead th {\n",
              "        text-align: right;\n",
              "    }\n",
              "</style>\n",
              "<table border=\"1\" class=\"dataframe\">\n",
              "  <thead>\n",
              "    <tr style=\"text-align: right;\">\n",
              "      <th></th>\n",
              "      <th>indice</th>\n",
              "      <th>estrelas</th>\n",
              "      <th>comentario</th>\n",
              "      <th>qtd_estrelas</th>\n",
              "      <th>avaliacao</th>\n",
              "      <th>tamanho_comentario</th>\n",
              "    </tr>\n",
              "  </thead>\n",
              "  <tbody>\n",
              "    <tr>\n",
              "      <th>0</th>\n",
              "      <td>1</td>\n",
              "      <td>Filled Star:Star:Star:Star:Star:</td>\n",
              "      <td>Tons of editing errors in lectures, and the pr...</td>\n",
              "      <td>1</td>\n",
              "      <td>0</td>\n",
              "      <td>249</td>\n",
              "    </tr>\n",
              "    <tr>\n",
              "      <th>1</th>\n",
              "      <td>2</td>\n",
              "      <td>Filled Star:Filled Star:Star:Star:Star:</td>\n",
              "      <td>This course is by far the weakest out of the 5...</td>\n",
              "      <td>2</td>\n",
              "      <td>0</td>\n",
              "      <td>645</td>\n",
              "    </tr>\n",
              "    <tr>\n",
              "      <th>2</th>\n",
              "      <td>3</td>\n",
              "      <td>Filled Star:Star:Star:Star:Star:</td>\n",
              "      <td>Full of appalling errors that have been presen...</td>\n",
              "      <td>1</td>\n",
              "      <td>0</td>\n",
              "      <td>419</td>\n",
              "    </tr>\n",
              "    <tr>\n",
              "      <th>3</th>\n",
              "      <td>4</td>\n",
              "      <td>Filled Star:Filled Star:Filled Star:Star:Star:</td>\n",
              "      <td>I really like the deeplearning.ai specializati...</td>\n",
              "      <td>3</td>\n",
              "      <td>0</td>\n",
              "      <td>802</td>\n",
              "    </tr>\n",
              "    <tr>\n",
              "      <th>4</th>\n",
              "      <td>5</td>\n",
              "      <td>Filled Star:Filled Star:Star:Star:Star:</td>\n",
              "      <td>The lectures were great. Andrew is a wonderful...</td>\n",
              "      <td>2</td>\n",
              "      <td>0</td>\n",
              "      <td>835</td>\n",
              "    </tr>\n",
              "    <tr>\n",
              "      <th>5</th>\n",
              "      <td>6</td>\n",
              "      <td>Filled Star:Star:Star:Star:Star:</td>\n",
              "      <td>Keras is required to pass the assignments but ...</td>\n",
              "      <td>1</td>\n",
              "      <td>0</td>\n",
              "      <td>160</td>\n",
              "    </tr>\n",
              "    <tr>\n",
              "      <th>6</th>\n",
              "      <td>7</td>\n",
              "      <td>Filled Star:Filled Star:Filled Star:Filled Sta...</td>\n",
              "      <td>To set the context, I have a PhD in Computer E...</td>\n",
              "      <td>5</td>\n",
              "      <td>1</td>\n",
              "      <td>264</td>\n",
              "    </tr>\n",
              "    <tr>\n",
              "      <th>7</th>\n",
              "      <td>8</td>\n",
              "      <td>Filled Star:Filled Star:Filled Star:Filled Sta...</td>\n",
              "      <td>I am so grateful that Andrew and the team prov...</td>\n",
              "      <td>5</td>\n",
              "      <td>1</td>\n",
              "      <td>199</td>\n",
              "    </tr>\n",
              "    <tr>\n",
              "      <th>8</th>\n",
              "      <td>9</td>\n",
              "      <td>Filled Star:Filled Star:Filled Star:Filled Sta...</td>\n",
              "      <td>I want to thank Andrew Ng and his team for the...</td>\n",
              "      <td>5</td>\n",
              "      <td>1</td>\n",
              "      <td>155</td>\n",
              "    </tr>\n",
              "    <tr>\n",
              "      <th>9</th>\n",
              "      <td>10</td>\n",
              "      <td>Filled Star:Filled Star:Star:Star:Star:</td>\n",
              "      <td>I went through all course of DeepLearning.ai S...</td>\n",
              "      <td>2</td>\n",
              "      <td>0</td>\n",
              "      <td>365</td>\n",
              "    </tr>\n",
              "  </tbody>\n",
              "</table>\n",
              "</div>\n",
              "      <button class=\"colab-df-convert\" onclick=\"convertToInteractive('df-f3a97025-1da5-4e66-a802-22cd037ecbcb')\"\n",
              "              title=\"Convert this dataframe to an interactive table.\"\n",
              "              style=\"display:none;\">\n",
              "        \n",
              "  <svg xmlns=\"http://www.w3.org/2000/svg\" height=\"24px\"viewBox=\"0 0 24 24\"\n",
              "       width=\"24px\">\n",
              "    <path d=\"M0 0h24v24H0V0z\" fill=\"none\"/>\n",
              "    <path d=\"M18.56 5.44l.94 2.06.94-2.06 2.06-.94-2.06-.94-.94-2.06-.94 2.06-2.06.94zm-11 1L8.5 8.5l.94-2.06 2.06-.94-2.06-.94L8.5 2.5l-.94 2.06-2.06.94zm10 10l.94 2.06.94-2.06 2.06-.94-2.06-.94-.94-2.06-.94 2.06-2.06.94z\"/><path d=\"M17.41 7.96l-1.37-1.37c-.4-.4-.92-.59-1.43-.59-.52 0-1.04.2-1.43.59L10.3 9.45l-7.72 7.72c-.78.78-.78 2.05 0 2.83L4 21.41c.39.39.9.59 1.41.59.51 0 1.02-.2 1.41-.59l7.78-7.78 2.81-2.81c.8-.78.8-2.07 0-2.86zM5.41 20L4 18.59l7.72-7.72 1.47 1.35L5.41 20z\"/>\n",
              "  </svg>\n",
              "      </button>\n",
              "      \n",
              "  <style>\n",
              "    .colab-df-container {\n",
              "      display:flex;\n",
              "      flex-wrap:wrap;\n",
              "      gap: 12px;\n",
              "    }\n",
              "\n",
              "    .colab-df-convert {\n",
              "      background-color: #E8F0FE;\n",
              "      border: none;\n",
              "      border-radius: 50%;\n",
              "      cursor: pointer;\n",
              "      display: none;\n",
              "      fill: #1967D2;\n",
              "      height: 32px;\n",
              "      padding: 0 0 0 0;\n",
              "      width: 32px;\n",
              "    }\n",
              "\n",
              "    .colab-df-convert:hover {\n",
              "      background-color: #E2EBFA;\n",
              "      box-shadow: 0px 1px 2px rgba(60, 64, 67, 0.3), 0px 1px 3px 1px rgba(60, 64, 67, 0.15);\n",
              "      fill: #174EA6;\n",
              "    }\n",
              "\n",
              "    [theme=dark] .colab-df-convert {\n",
              "      background-color: #3B4455;\n",
              "      fill: #D2E3FC;\n",
              "    }\n",
              "\n",
              "    [theme=dark] .colab-df-convert:hover {\n",
              "      background-color: #434B5C;\n",
              "      box-shadow: 0px 1px 3px 1px rgba(0, 0, 0, 0.15);\n",
              "      filter: drop-shadow(0px 1px 2px rgba(0, 0, 0, 0.3));\n",
              "      fill: #FFFFFF;\n",
              "    }\n",
              "  </style>\n",
              "\n",
              "      <script>\n",
              "        const buttonEl =\n",
              "          document.querySelector('#df-f3a97025-1da5-4e66-a802-22cd037ecbcb button.colab-df-convert');\n",
              "        buttonEl.style.display =\n",
              "          google.colab.kernel.accessAllowed ? 'block' : 'none';\n",
              "\n",
              "        async function convertToInteractive(key) {\n",
              "          const element = document.querySelector('#df-f3a97025-1da5-4e66-a802-22cd037ecbcb');\n",
              "          const dataTable =\n",
              "            await google.colab.kernel.invokeFunction('convertToInteractive',\n",
              "                                                     [key], {});\n",
              "          if (!dataTable) return;\n",
              "\n",
              "          const docLinkHtml = 'Like what you see? Visit the ' +\n",
              "            '<a target=\"_blank\" href=https://colab.research.google.com/notebooks/data_table.ipynb>data table notebook</a>'\n",
              "            + ' to learn more about interactive tables.';\n",
              "          element.innerHTML = '';\n",
              "          dataTable['output_type'] = 'display_data';\n",
              "          await google.colab.output.renderOutput(dataTable, element);\n",
              "          const docLink = document.createElement('div');\n",
              "          docLink.innerHTML = docLinkHtml;\n",
              "          element.appendChild(docLink);\n",
              "        }\n",
              "      </script>\n",
              "    </div>\n",
              "  </div>\n",
              "  "
            ]
          },
          "metadata": {},
          "execution_count": 33
        }
      ]
    },
    {
      "cell_type": "code",
      "source": [
        "df.tail(10)"
      ],
      "metadata": {
        "colab": {
          "base_uri": "https://localhost:8080/",
          "height": 363
        },
        "id": "6oEdotDjAjCv",
        "outputId": "4e97d32a-cdba-459e-f8a4-c0b2893b8dfd"
      },
      "execution_count": null,
      "outputs": [
        {
          "output_type": "execute_result",
          "data": {
            "text/plain": [
              "      indice                                        estrelas  \\\n",
              "6457    6458  Filled Star:Filled Star:Filled Star:Star:Star:   \n",
              "6458    6459  Filled Star:Filled Star:Filled Star:Star:Star:   \n",
              "6459    6460  Filled Star:Filled Star:Filled Star:Star:Star:   \n",
              "6460    6461  Filled Star:Filled Star:Filled Star:Star:Star:   \n",
              "6461    6462  Filled Star:Filled Star:Filled Star:Star:Star:   \n",
              "6462    6463  Filled Star:Filled Star:Filled Star:Star:Star:   \n",
              "6463    6464  Filled Star:Filled Star:Filled Star:Star:Star:   \n",
              "6464    6465  Filled Star:Filled Star:Filled Star:Star:Star:   \n",
              "6465    6466  Filled Star:Filled Star:Filled Star:Star:Star:   \n",
              "6466    6467  Filled Star:Filled Star:Filled Star:Star:Star:   \n",
              "\n",
              "                                             comentario  qtd_estrelas  \\\n",
              "6457  Really Nice course. Could have been more fun i...             3   \n",
              "6458  Course is got but grader compilations are horr...             3   \n",
              "6459  Not as good as structured in explanation nor i...             3   \n",
              "6460  This is only good enough, not good course. All...             3   \n",
              "6461  the lab and programming is not as intuitive as...             3   \n",
              "6462  Overall a great class. I had some trouble unde...             3   \n",
              "6463  This felt the the least prepared and organized...             3   \n",
              "6464  give projects that we can build from ground up...             3   \n",
              "6465  Good theoretical overview - project just requi...             3   \n",
              "6466  Lectures on week4 are not complete as confirme...             3   \n",
              "\n",
              "      avaliacao  tamanho_comentario  \n",
              "6457          0                  90  \n",
              "6458          0                  90  \n",
              "6459          0                  88  \n",
              "6460          0                  86  \n",
              "6461          0                  85  \n",
              "6462          0                  84  \n",
              "6463          0                  84  \n",
              "6464          0                  77  \n",
              "6465          0                  77  \n",
              "6466          0                  74  "
            ],
            "text/html": [
              "\n",
              "  <div id=\"df-61ea2f97-a6de-48ba-b95a-695458506971\">\n",
              "    <div class=\"colab-df-container\">\n",
              "      <div>\n",
              "<style scoped>\n",
              "    .dataframe tbody tr th:only-of-type {\n",
              "        vertical-align: middle;\n",
              "    }\n",
              "\n",
              "    .dataframe tbody tr th {\n",
              "        vertical-align: top;\n",
              "    }\n",
              "\n",
              "    .dataframe thead th {\n",
              "        text-align: right;\n",
              "    }\n",
              "</style>\n",
              "<table border=\"1\" class=\"dataframe\">\n",
              "  <thead>\n",
              "    <tr style=\"text-align: right;\">\n",
              "      <th></th>\n",
              "      <th>indice</th>\n",
              "      <th>estrelas</th>\n",
              "      <th>comentario</th>\n",
              "      <th>qtd_estrelas</th>\n",
              "      <th>avaliacao</th>\n",
              "      <th>tamanho_comentario</th>\n",
              "    </tr>\n",
              "  </thead>\n",
              "  <tbody>\n",
              "    <tr>\n",
              "      <th>6457</th>\n",
              "      <td>6458</td>\n",
              "      <td>Filled Star:Filled Star:Filled Star:Star:Star:</td>\n",
              "      <td>Really Nice course. Could have been more fun i...</td>\n",
              "      <td>3</td>\n",
              "      <td>0</td>\n",
              "      <td>90</td>\n",
              "    </tr>\n",
              "    <tr>\n",
              "      <th>6458</th>\n",
              "      <td>6459</td>\n",
              "      <td>Filled Star:Filled Star:Filled Star:Star:Star:</td>\n",
              "      <td>Course is got but grader compilations are horr...</td>\n",
              "      <td>3</td>\n",
              "      <td>0</td>\n",
              "      <td>90</td>\n",
              "    </tr>\n",
              "    <tr>\n",
              "      <th>6459</th>\n",
              "      <td>6460</td>\n",
              "      <td>Filled Star:Filled Star:Filled Star:Star:Star:</td>\n",
              "      <td>Not as good as structured in explanation nor i...</td>\n",
              "      <td>3</td>\n",
              "      <td>0</td>\n",
              "      <td>88</td>\n",
              "    </tr>\n",
              "    <tr>\n",
              "      <th>6460</th>\n",
              "      <td>6461</td>\n",
              "      <td>Filled Star:Filled Star:Filled Star:Star:Star:</td>\n",
              "      <td>This is only good enough, not good course. All...</td>\n",
              "      <td>3</td>\n",
              "      <td>0</td>\n",
              "      <td>86</td>\n",
              "    </tr>\n",
              "    <tr>\n",
              "      <th>6461</th>\n",
              "      <td>6462</td>\n",
              "      <td>Filled Star:Filled Star:Filled Star:Star:Star:</td>\n",
              "      <td>the lab and programming is not as intuitive as...</td>\n",
              "      <td>3</td>\n",
              "      <td>0</td>\n",
              "      <td>85</td>\n",
              "    </tr>\n",
              "    <tr>\n",
              "      <th>6462</th>\n",
              "      <td>6463</td>\n",
              "      <td>Filled Star:Filled Star:Filled Star:Star:Star:</td>\n",
              "      <td>Overall a great class. I had some trouble unde...</td>\n",
              "      <td>3</td>\n",
              "      <td>0</td>\n",
              "      <td>84</td>\n",
              "    </tr>\n",
              "    <tr>\n",
              "      <th>6463</th>\n",
              "      <td>6464</td>\n",
              "      <td>Filled Star:Filled Star:Filled Star:Star:Star:</td>\n",
              "      <td>This felt the the least prepared and organized...</td>\n",
              "      <td>3</td>\n",
              "      <td>0</td>\n",
              "      <td>84</td>\n",
              "    </tr>\n",
              "    <tr>\n",
              "      <th>6464</th>\n",
              "      <td>6465</td>\n",
              "      <td>Filled Star:Filled Star:Filled Star:Star:Star:</td>\n",
              "      <td>give projects that we can build from ground up...</td>\n",
              "      <td>3</td>\n",
              "      <td>0</td>\n",
              "      <td>77</td>\n",
              "    </tr>\n",
              "    <tr>\n",
              "      <th>6465</th>\n",
              "      <td>6466</td>\n",
              "      <td>Filled Star:Filled Star:Filled Star:Star:Star:</td>\n",
              "      <td>Good theoretical overview - project just requi...</td>\n",
              "      <td>3</td>\n",
              "      <td>0</td>\n",
              "      <td>77</td>\n",
              "    </tr>\n",
              "    <tr>\n",
              "      <th>6466</th>\n",
              "      <td>6467</td>\n",
              "      <td>Filled Star:Filled Star:Filled Star:Star:Star:</td>\n",
              "      <td>Lectures on week4 are not complete as confirme...</td>\n",
              "      <td>3</td>\n",
              "      <td>0</td>\n",
              "      <td>74</td>\n",
              "    </tr>\n",
              "  </tbody>\n",
              "</table>\n",
              "</div>\n",
              "      <button class=\"colab-df-convert\" onclick=\"convertToInteractive('df-61ea2f97-a6de-48ba-b95a-695458506971')\"\n",
              "              title=\"Convert this dataframe to an interactive table.\"\n",
              "              style=\"display:none;\">\n",
              "        \n",
              "  <svg xmlns=\"http://www.w3.org/2000/svg\" height=\"24px\"viewBox=\"0 0 24 24\"\n",
              "       width=\"24px\">\n",
              "    <path d=\"M0 0h24v24H0V0z\" fill=\"none\"/>\n",
              "    <path d=\"M18.56 5.44l.94 2.06.94-2.06 2.06-.94-2.06-.94-.94-2.06-.94 2.06-2.06.94zm-11 1L8.5 8.5l.94-2.06 2.06-.94-2.06-.94L8.5 2.5l-.94 2.06-2.06.94zm10 10l.94 2.06.94-2.06 2.06-.94-2.06-.94-.94-2.06-.94 2.06-2.06.94z\"/><path d=\"M17.41 7.96l-1.37-1.37c-.4-.4-.92-.59-1.43-.59-.52 0-1.04.2-1.43.59L10.3 9.45l-7.72 7.72c-.78.78-.78 2.05 0 2.83L4 21.41c.39.39.9.59 1.41.59.51 0 1.02-.2 1.41-.59l7.78-7.78 2.81-2.81c.8-.78.8-2.07 0-2.86zM5.41 20L4 18.59l7.72-7.72 1.47 1.35L5.41 20z\"/>\n",
              "  </svg>\n",
              "      </button>\n",
              "      \n",
              "  <style>\n",
              "    .colab-df-container {\n",
              "      display:flex;\n",
              "      flex-wrap:wrap;\n",
              "      gap: 12px;\n",
              "    }\n",
              "\n",
              "    .colab-df-convert {\n",
              "      background-color: #E8F0FE;\n",
              "      border: none;\n",
              "      border-radius: 50%;\n",
              "      cursor: pointer;\n",
              "      display: none;\n",
              "      fill: #1967D2;\n",
              "      height: 32px;\n",
              "      padding: 0 0 0 0;\n",
              "      width: 32px;\n",
              "    }\n",
              "\n",
              "    .colab-df-convert:hover {\n",
              "      background-color: #E2EBFA;\n",
              "      box-shadow: 0px 1px 2px rgba(60, 64, 67, 0.3), 0px 1px 3px 1px rgba(60, 64, 67, 0.15);\n",
              "      fill: #174EA6;\n",
              "    }\n",
              "\n",
              "    [theme=dark] .colab-df-convert {\n",
              "      background-color: #3B4455;\n",
              "      fill: #D2E3FC;\n",
              "    }\n",
              "\n",
              "    [theme=dark] .colab-df-convert:hover {\n",
              "      background-color: #434B5C;\n",
              "      box-shadow: 0px 1px 3px 1px rgba(0, 0, 0, 0.15);\n",
              "      filter: drop-shadow(0px 1px 2px rgba(0, 0, 0, 0.3));\n",
              "      fill: #FFFFFF;\n",
              "    }\n",
              "  </style>\n",
              "\n",
              "      <script>\n",
              "        const buttonEl =\n",
              "          document.querySelector('#df-61ea2f97-a6de-48ba-b95a-695458506971 button.colab-df-convert');\n",
              "        buttonEl.style.display =\n",
              "          google.colab.kernel.accessAllowed ? 'block' : 'none';\n",
              "\n",
              "        async function convertToInteractive(key) {\n",
              "          const element = document.querySelector('#df-61ea2f97-a6de-48ba-b95a-695458506971');\n",
              "          const dataTable =\n",
              "            await google.colab.kernel.invokeFunction('convertToInteractive',\n",
              "                                                     [key], {});\n",
              "          if (!dataTable) return;\n",
              "\n",
              "          const docLinkHtml = 'Like what you see? Visit the ' +\n",
              "            '<a target=\"_blank\" href=https://colab.research.google.com/notebooks/data_table.ipynb>data table notebook</a>'\n",
              "            + ' to learn more about interactive tables.';\n",
              "          element.innerHTML = '';\n",
              "          dataTable['output_type'] = 'display_data';\n",
              "          await google.colab.output.renderOutput(dataTable, element);\n",
              "          const docLink = document.createElement('div');\n",
              "          docLink.innerHTML = docLinkHtml;\n",
              "          element.appendChild(docLink);\n",
              "        }\n",
              "      </script>\n",
              "    </div>\n",
              "  </div>\n",
              "  "
            ]
          },
          "metadata": {},
          "execution_count": 34
        }
      ]
    },
    {
      "cell_type": "markdown",
      "source": [
        "# Pré-Processamento dos Dados para ser utilizado por SVM"
      ],
      "metadata": {
        "id": "4tlkvIkwwZ1g"
      }
    },
    {
      "cell_type": "code",
      "source": [
        "# Recuperando a base salva após pré-processamento inicial\n",
        "df = pd.read_csv(\"coursera-processado.csv\")\n",
        "df.shape"
      ],
      "metadata": {
        "id": "hLhIu-A0AjLC",
        "colab": {
          "base_uri": "https://localhost:8080/"
        },
        "outputId": "bee44a2e-5330-4340-816c-3d527f7e6299"
      },
      "execution_count": null,
      "outputs": [
        {
          "output_type": "execute_result",
          "data": {
            "text/plain": [
              "(6467, 6)"
            ]
          },
          "metadata": {},
          "execution_count": 6
        }
      ]
    },
    {
      "cell_type": "code",
      "source": [
        "df.info()"
      ],
      "metadata": {
        "colab": {
          "base_uri": "https://localhost:8080/"
        },
        "id": "C7ibeTp3wnHB",
        "outputId": "3a329dda-a86f-4518-f616-8b472332e0ad"
      },
      "execution_count": null,
      "outputs": [
        {
          "output_type": "stream",
          "name": "stdout",
          "text": [
            "<class 'pandas.core.frame.DataFrame'>\n",
            "RangeIndex: 6467 entries, 0 to 6466\n",
            "Data columns (total 6 columns):\n",
            " #   Column              Non-Null Count  Dtype \n",
            "---  ------              --------------  ----- \n",
            " 0   indice              6467 non-null   int64 \n",
            " 1   estrelas            6467 non-null   object\n",
            " 2   comentario          6467 non-null   object\n",
            " 3   qtd_estrelas        6467 non-null   int64 \n",
            " 4   avaliacao           6467 non-null   int64 \n",
            " 5   tamanho_comentario  6467 non-null   int64 \n",
            "dtypes: int64(4), object(2)\n",
            "memory usage: 303.3+ KB\n"
          ]
        }
      ]
    },
    {
      "cell_type": "code",
      "source": [
        "df.head(5)"
      ],
      "metadata": {
        "colab": {
          "base_uri": "https://localhost:8080/",
          "height": 206
        },
        "id": "kwSvKDqj5HU9",
        "outputId": "a9353231-410b-44ec-cb29-4e75eefe8966"
      },
      "execution_count": null,
      "outputs": [
        {
          "output_type": "execute_result",
          "data": {
            "text/plain": [
              "   indice                                       estrelas  \\\n",
              "0       1                Filled Star Star Star Star Star   \n",
              "1       2         Filled Star Filled Star Star Star Star   \n",
              "2       3                Filled Star Star Star Star Star   \n",
              "3       4  Filled Star Filled Star Filled Star Star Star   \n",
              "4       5         Filled Star Filled Star Star Star Star   \n",
              "\n",
              "                                          comentario  qtd_estrelas  avaliacao  \\\n",
              "0  of in and the rely more on knowledge of essent...             1          0   \n",
              "1  This course is by far the out of the course se...             2          0   \n",
              "2  Full of appalling that have been present for o...             1          0   \n",
              "3  I really like the ai specialization And also I...             3          0   \n",
              "4  The were great is a wonderful teacher but the ...             2          0   \n",
              "\n",
              "   tamanho_comentario  \n",
              "0                 249  \n",
              "1                 645  \n",
              "2                 419  \n",
              "3                 802  \n",
              "4                 835  "
            ],
            "text/html": [
              "\n",
              "  <div id=\"df-29ed2793-532c-403d-9016-13ccb490af86\">\n",
              "    <div class=\"colab-df-container\">\n",
              "      <div>\n",
              "<style scoped>\n",
              "    .dataframe tbody tr th:only-of-type {\n",
              "        vertical-align: middle;\n",
              "    }\n",
              "\n",
              "    .dataframe tbody tr th {\n",
              "        vertical-align: top;\n",
              "    }\n",
              "\n",
              "    .dataframe thead th {\n",
              "        text-align: right;\n",
              "    }\n",
              "</style>\n",
              "<table border=\"1\" class=\"dataframe\">\n",
              "  <thead>\n",
              "    <tr style=\"text-align: right;\">\n",
              "      <th></th>\n",
              "      <th>indice</th>\n",
              "      <th>estrelas</th>\n",
              "      <th>comentario</th>\n",
              "      <th>qtd_estrelas</th>\n",
              "      <th>avaliacao</th>\n",
              "      <th>tamanho_comentario</th>\n",
              "    </tr>\n",
              "  </thead>\n",
              "  <tbody>\n",
              "    <tr>\n",
              "      <th>0</th>\n",
              "      <td>1</td>\n",
              "      <td>Filled Star Star Star Star Star</td>\n",
              "      <td>of in and the rely more on knowledge of essent...</td>\n",
              "      <td>1</td>\n",
              "      <td>0</td>\n",
              "      <td>249</td>\n",
              "    </tr>\n",
              "    <tr>\n",
              "      <th>1</th>\n",
              "      <td>2</td>\n",
              "      <td>Filled Star Filled Star Star Star Star</td>\n",
              "      <td>This course is by far the out of the course se...</td>\n",
              "      <td>2</td>\n",
              "      <td>0</td>\n",
              "      <td>645</td>\n",
              "    </tr>\n",
              "    <tr>\n",
              "      <th>2</th>\n",
              "      <td>3</td>\n",
              "      <td>Filled Star Star Star Star Star</td>\n",
              "      <td>Full of appalling that have been present for o...</td>\n",
              "      <td>1</td>\n",
              "      <td>0</td>\n",
              "      <td>419</td>\n",
              "    </tr>\n",
              "    <tr>\n",
              "      <th>3</th>\n",
              "      <td>4</td>\n",
              "      <td>Filled Star Filled Star Filled Star Star Star</td>\n",
              "      <td>I really like the ai specialization And also I...</td>\n",
              "      <td>3</td>\n",
              "      <td>0</td>\n",
              "      <td>802</td>\n",
              "    </tr>\n",
              "    <tr>\n",
              "      <th>4</th>\n",
              "      <td>5</td>\n",
              "      <td>Filled Star Filled Star Star Star Star</td>\n",
              "      <td>The were great is a wonderful teacher but the ...</td>\n",
              "      <td>2</td>\n",
              "      <td>0</td>\n",
              "      <td>835</td>\n",
              "    </tr>\n",
              "  </tbody>\n",
              "</table>\n",
              "</div>\n",
              "      <button class=\"colab-df-convert\" onclick=\"convertToInteractive('df-29ed2793-532c-403d-9016-13ccb490af86')\"\n",
              "              title=\"Convert this dataframe to an interactive table.\"\n",
              "              style=\"display:none;\">\n",
              "        \n",
              "  <svg xmlns=\"http://www.w3.org/2000/svg\" height=\"24px\"viewBox=\"0 0 24 24\"\n",
              "       width=\"24px\">\n",
              "    <path d=\"M0 0h24v24H0V0z\" fill=\"none\"/>\n",
              "    <path d=\"M18.56 5.44l.94 2.06.94-2.06 2.06-.94-2.06-.94-.94-2.06-.94 2.06-2.06.94zm-11 1L8.5 8.5l.94-2.06 2.06-.94-2.06-.94L8.5 2.5l-.94 2.06-2.06.94zm10 10l.94 2.06.94-2.06 2.06-.94-2.06-.94-.94-2.06-.94 2.06-2.06.94z\"/><path d=\"M17.41 7.96l-1.37-1.37c-.4-.4-.92-.59-1.43-.59-.52 0-1.04.2-1.43.59L10.3 9.45l-7.72 7.72c-.78.78-.78 2.05 0 2.83L4 21.41c.39.39.9.59 1.41.59.51 0 1.02-.2 1.41-.59l7.78-7.78 2.81-2.81c.8-.78.8-2.07 0-2.86zM5.41 20L4 18.59l7.72-7.72 1.47 1.35L5.41 20z\"/>\n",
              "  </svg>\n",
              "      </button>\n",
              "      \n",
              "  <style>\n",
              "    .colab-df-container {\n",
              "      display:flex;\n",
              "      flex-wrap:wrap;\n",
              "      gap: 12px;\n",
              "    }\n",
              "\n",
              "    .colab-df-convert {\n",
              "      background-color: #E8F0FE;\n",
              "      border: none;\n",
              "      border-radius: 50%;\n",
              "      cursor: pointer;\n",
              "      display: none;\n",
              "      fill: #1967D2;\n",
              "      height: 32px;\n",
              "      padding: 0 0 0 0;\n",
              "      width: 32px;\n",
              "    }\n",
              "\n",
              "    .colab-df-convert:hover {\n",
              "      background-color: #E2EBFA;\n",
              "      box-shadow: 0px 1px 2px rgba(60, 64, 67, 0.3), 0px 1px 3px 1px rgba(60, 64, 67, 0.15);\n",
              "      fill: #174EA6;\n",
              "    }\n",
              "\n",
              "    [theme=dark] .colab-df-convert {\n",
              "      background-color: #3B4455;\n",
              "      fill: #D2E3FC;\n",
              "    }\n",
              "\n",
              "    [theme=dark] .colab-df-convert:hover {\n",
              "      background-color: #434B5C;\n",
              "      box-shadow: 0px 1px 3px 1px rgba(0, 0, 0, 0.15);\n",
              "      filter: drop-shadow(0px 1px 2px rgba(0, 0, 0, 0.3));\n",
              "      fill: #FFFFFF;\n",
              "    }\n",
              "  </style>\n",
              "\n",
              "      <script>\n",
              "        const buttonEl =\n",
              "          document.querySelector('#df-29ed2793-532c-403d-9016-13ccb490af86 button.colab-df-convert');\n",
              "        buttonEl.style.display =\n",
              "          google.colab.kernel.accessAllowed ? 'block' : 'none';\n",
              "\n",
              "        async function convertToInteractive(key) {\n",
              "          const element = document.querySelector('#df-29ed2793-532c-403d-9016-13ccb490af86');\n",
              "          const dataTable =\n",
              "            await google.colab.kernel.invokeFunction('convertToInteractive',\n",
              "                                                     [key], {});\n",
              "          if (!dataTable) return;\n",
              "\n",
              "          const docLinkHtml = 'Like what you see? Visit the ' +\n",
              "            '<a target=\"_blank\" href=https://colab.research.google.com/notebooks/data_table.ipynb>data table notebook</a>'\n",
              "            + ' to learn more about interactive tables.';\n",
              "          element.innerHTML = '';\n",
              "          dataTable['output_type'] = 'display_data';\n",
              "          await google.colab.output.renderOutput(dataTable, element);\n",
              "          const docLink = document.createElement('div');\n",
              "          docLink.innerHTML = docLinkHtml;\n",
              "          element.appendChild(docLink);\n",
              "        }\n",
              "      </script>\n",
              "    </div>\n",
              "  </div>\n",
              "  "
            ]
          },
          "metadata": {},
          "execution_count": 18
        }
      ]
    },
    {
      "cell_type": "code",
      "source": [
        "# Removendo palavras que não estão na língua inglesa\n",
        "# !pip install nltk\n",
        "import nltk\n",
        "nltk.download('words')\n",
        "words = set(nltk.corpus.words.words())\n",
        "\n",
        "f = lambda x: \" \".join(w for w in nltk.wordpunct_tokenize(x) if w.lower() in words)\n",
        "cols = df.select_dtypes(object).columns\n",
        "df[cols] = df[cols].applymap(f)\n",
        "  \n",
        "df.head(5)"
      ],
      "metadata": {
        "colab": {
          "base_uri": "https://localhost:8080/",
          "height": 242
        },
        "id": "zVnimhRX5Hdp",
        "outputId": "2f18019e-1f44-4967-fc61-1897e55de575"
      },
      "execution_count": null,
      "outputs": [
        {
          "output_type": "stream",
          "name": "stderr",
          "text": [
            "[nltk_data] Downloading package words to /root/nltk_data...\n",
            "[nltk_data]   Unzipping corpora/words.zip.\n"
          ]
        },
        {
          "output_type": "execute_result",
          "data": {
            "text/plain": [
              "   indice                                       estrelas  \\\n",
              "0       1                Filled Star Star Star Star Star   \n",
              "1       2         Filled Star Filled Star Star Star Star   \n",
              "2       3                Filled Star Star Star Star Star   \n",
              "3       4  Filled Star Filled Star Filled Star Star Star   \n",
              "4       5         Filled Star Filled Star Star Star Star   \n",
              "\n",
              "                                          comentario  qtd_estrelas  avaliacao  \\\n",
              "0  of in and the rely more on knowledge of essent...             1          0   \n",
              "1  This course is by far the out of the course se...             2          0   \n",
              "2  Full of appalling that have been present for o...             1          0   \n",
              "3  I really like the ai specialization And also I...             3          0   \n",
              "4  The were great is a wonderful teacher but the ...             2          0   \n",
              "\n",
              "   tamanho_comentario  \n",
              "0                 249  \n",
              "1                 645  \n",
              "2                 419  \n",
              "3                 802  \n",
              "4                 835  "
            ],
            "text/html": [
              "\n",
              "  <div id=\"df-9f53a8f4-3ffb-4709-90ba-6afeb1f185ac\">\n",
              "    <div class=\"colab-df-container\">\n",
              "      <div>\n",
              "<style scoped>\n",
              "    .dataframe tbody tr th:only-of-type {\n",
              "        vertical-align: middle;\n",
              "    }\n",
              "\n",
              "    .dataframe tbody tr th {\n",
              "        vertical-align: top;\n",
              "    }\n",
              "\n",
              "    .dataframe thead th {\n",
              "        text-align: right;\n",
              "    }\n",
              "</style>\n",
              "<table border=\"1\" class=\"dataframe\">\n",
              "  <thead>\n",
              "    <tr style=\"text-align: right;\">\n",
              "      <th></th>\n",
              "      <th>indice</th>\n",
              "      <th>estrelas</th>\n",
              "      <th>comentario</th>\n",
              "      <th>qtd_estrelas</th>\n",
              "      <th>avaliacao</th>\n",
              "      <th>tamanho_comentario</th>\n",
              "    </tr>\n",
              "  </thead>\n",
              "  <tbody>\n",
              "    <tr>\n",
              "      <th>0</th>\n",
              "      <td>1</td>\n",
              "      <td>Filled Star Star Star Star Star</td>\n",
              "      <td>of in and the rely more on knowledge of essent...</td>\n",
              "      <td>1</td>\n",
              "      <td>0</td>\n",
              "      <td>249</td>\n",
              "    </tr>\n",
              "    <tr>\n",
              "      <th>1</th>\n",
              "      <td>2</td>\n",
              "      <td>Filled Star Filled Star Star Star Star</td>\n",
              "      <td>This course is by far the out of the course se...</td>\n",
              "      <td>2</td>\n",
              "      <td>0</td>\n",
              "      <td>645</td>\n",
              "    </tr>\n",
              "    <tr>\n",
              "      <th>2</th>\n",
              "      <td>3</td>\n",
              "      <td>Filled Star Star Star Star Star</td>\n",
              "      <td>Full of appalling that have been present for o...</td>\n",
              "      <td>1</td>\n",
              "      <td>0</td>\n",
              "      <td>419</td>\n",
              "    </tr>\n",
              "    <tr>\n",
              "      <th>3</th>\n",
              "      <td>4</td>\n",
              "      <td>Filled Star Filled Star Filled Star Star Star</td>\n",
              "      <td>I really like the ai specialization And also I...</td>\n",
              "      <td>3</td>\n",
              "      <td>0</td>\n",
              "      <td>802</td>\n",
              "    </tr>\n",
              "    <tr>\n",
              "      <th>4</th>\n",
              "      <td>5</td>\n",
              "      <td>Filled Star Filled Star Star Star Star</td>\n",
              "      <td>The were great is a wonderful teacher but the ...</td>\n",
              "      <td>2</td>\n",
              "      <td>0</td>\n",
              "      <td>835</td>\n",
              "    </tr>\n",
              "  </tbody>\n",
              "</table>\n",
              "</div>\n",
              "      <button class=\"colab-df-convert\" onclick=\"convertToInteractive('df-9f53a8f4-3ffb-4709-90ba-6afeb1f185ac')\"\n",
              "              title=\"Convert this dataframe to an interactive table.\"\n",
              "              style=\"display:none;\">\n",
              "        \n",
              "  <svg xmlns=\"http://www.w3.org/2000/svg\" height=\"24px\"viewBox=\"0 0 24 24\"\n",
              "       width=\"24px\">\n",
              "    <path d=\"M0 0h24v24H0V0z\" fill=\"none\"/>\n",
              "    <path d=\"M18.56 5.44l.94 2.06.94-2.06 2.06-.94-2.06-.94-.94-2.06-.94 2.06-2.06.94zm-11 1L8.5 8.5l.94-2.06 2.06-.94-2.06-.94L8.5 2.5l-.94 2.06-2.06.94zm10 10l.94 2.06.94-2.06 2.06-.94-2.06-.94-.94-2.06-.94 2.06-2.06.94z\"/><path d=\"M17.41 7.96l-1.37-1.37c-.4-.4-.92-.59-1.43-.59-.52 0-1.04.2-1.43.59L10.3 9.45l-7.72 7.72c-.78.78-.78 2.05 0 2.83L4 21.41c.39.39.9.59 1.41.59.51 0 1.02-.2 1.41-.59l7.78-7.78 2.81-2.81c.8-.78.8-2.07 0-2.86zM5.41 20L4 18.59l7.72-7.72 1.47 1.35L5.41 20z\"/>\n",
              "  </svg>\n",
              "      </button>\n",
              "      \n",
              "  <style>\n",
              "    .colab-df-container {\n",
              "      display:flex;\n",
              "      flex-wrap:wrap;\n",
              "      gap: 12px;\n",
              "    }\n",
              "\n",
              "    .colab-df-convert {\n",
              "      background-color: #E8F0FE;\n",
              "      border: none;\n",
              "      border-radius: 50%;\n",
              "      cursor: pointer;\n",
              "      display: none;\n",
              "      fill: #1967D2;\n",
              "      height: 32px;\n",
              "      padding: 0 0 0 0;\n",
              "      width: 32px;\n",
              "    }\n",
              "\n",
              "    .colab-df-convert:hover {\n",
              "      background-color: #E2EBFA;\n",
              "      box-shadow: 0px 1px 2px rgba(60, 64, 67, 0.3), 0px 1px 3px 1px rgba(60, 64, 67, 0.15);\n",
              "      fill: #174EA6;\n",
              "    }\n",
              "\n",
              "    [theme=dark] .colab-df-convert {\n",
              "      background-color: #3B4455;\n",
              "      fill: #D2E3FC;\n",
              "    }\n",
              "\n",
              "    [theme=dark] .colab-df-convert:hover {\n",
              "      background-color: #434B5C;\n",
              "      box-shadow: 0px 1px 3px 1px rgba(0, 0, 0, 0.15);\n",
              "      filter: drop-shadow(0px 1px 2px rgba(0, 0, 0, 0.3));\n",
              "      fill: #FFFFFF;\n",
              "    }\n",
              "  </style>\n",
              "\n",
              "      <script>\n",
              "        const buttonEl =\n",
              "          document.querySelector('#df-9f53a8f4-3ffb-4709-90ba-6afeb1f185ac button.colab-df-convert');\n",
              "        buttonEl.style.display =\n",
              "          google.colab.kernel.accessAllowed ? 'block' : 'none';\n",
              "\n",
              "        async function convertToInteractive(key) {\n",
              "          const element = document.querySelector('#df-9f53a8f4-3ffb-4709-90ba-6afeb1f185ac');\n",
              "          const dataTable =\n",
              "            await google.colab.kernel.invokeFunction('convertToInteractive',\n",
              "                                                     [key], {});\n",
              "          if (!dataTable) return;\n",
              "\n",
              "          const docLinkHtml = 'Like what you see? Visit the ' +\n",
              "            '<a target=\"_blank\" href=https://colab.research.google.com/notebooks/data_table.ipynb>data table notebook</a>'\n",
              "            + ' to learn more about interactive tables.';\n",
              "          element.innerHTML = '';\n",
              "          dataTable['output_type'] = 'display_data';\n",
              "          await google.colab.output.renderOutput(dataTable, element);\n",
              "          const docLink = document.createElement('div');\n",
              "          docLink.innerHTML = docLinkHtml;\n",
              "          element.appendChild(docLink);\n",
              "        }\n",
              "      </script>\n",
              "    </div>\n",
              "  </div>\n",
              "  "
            ]
          },
          "metadata": {},
          "execution_count": 17
        }
      ]
    },
    {
      "cell_type": "code",
      "source": [
        "# Removendo \"Stop Words\"\n",
        "def removing_stop_words_and_ponct(row):\n",
        "  string_without_ponct = \"\"\n",
        "  for i, word in enumerate(nlp(row)):\n",
        "      if word.is_punct==False and word.is_stop==False:\n",
        "          string_without_ponct += \" \"+word.text\n",
        "  return string_without_ponct\n",
        "\n",
        "df['comentario'] = df.apply(lambda row : removing_stop_words_and_ponct(row['comentario']), axis = 1)\n",
        "df.head(5)"
      ],
      "metadata": {
        "colab": {
          "base_uri": "https://localhost:8080/",
          "height": 206
        },
        "id": "zADL0SE55qrq",
        "outputId": "efc2d418-1a35-4dc5-cb9c-40916991e39f"
      },
      "execution_count": null,
      "outputs": [
        {
          "output_type": "execute_result",
          "data": {
            "text/plain": [
              "   indice                                       estrelas  \\\n",
              "0       1                Filled Star Star Star Star Star   \n",
              "1       2         Filled Star Filled Star Star Star Star   \n",
              "2       3                Filled Star Star Star Star Star   \n",
              "3       4  Filled Star Filled Star Filled Star Star Star   \n",
              "4       5         Filled Star Filled Star Star Star Star   \n",
              "\n",
              "                                          comentario  qtd_estrelas  avaliacao  \\\n",
              "0   rely knowledge essentially untaught course un...             1          0   \n",
              "1   course far course sequence think help build u...             2          0   \n",
              "2   appalling present year clear let trying earn ...             1          0   \n",
              "3   like ai specialization like Sequence course f...             3          0   \n",
              "4   great wonderful teacher miserable notebook pr...             2          0   \n",
              "\n",
              "   tamanho_comentario  \n",
              "0                 249  \n",
              "1                 645  \n",
              "2                 419  \n",
              "3                 802  \n",
              "4                 835  "
            ],
            "text/html": [
              "\n",
              "  <div id=\"df-483d3e61-ca4a-477c-96f5-a830f8345299\">\n",
              "    <div class=\"colab-df-container\">\n",
              "      <div>\n",
              "<style scoped>\n",
              "    .dataframe tbody tr th:only-of-type {\n",
              "        vertical-align: middle;\n",
              "    }\n",
              "\n",
              "    .dataframe tbody tr th {\n",
              "        vertical-align: top;\n",
              "    }\n",
              "\n",
              "    .dataframe thead th {\n",
              "        text-align: right;\n",
              "    }\n",
              "</style>\n",
              "<table border=\"1\" class=\"dataframe\">\n",
              "  <thead>\n",
              "    <tr style=\"text-align: right;\">\n",
              "      <th></th>\n",
              "      <th>indice</th>\n",
              "      <th>estrelas</th>\n",
              "      <th>comentario</th>\n",
              "      <th>qtd_estrelas</th>\n",
              "      <th>avaliacao</th>\n",
              "      <th>tamanho_comentario</th>\n",
              "    </tr>\n",
              "  </thead>\n",
              "  <tbody>\n",
              "    <tr>\n",
              "      <th>0</th>\n",
              "      <td>1</td>\n",
              "      <td>Filled Star Star Star Star Star</td>\n",
              "      <td>rely knowledge essentially untaught course un...</td>\n",
              "      <td>1</td>\n",
              "      <td>0</td>\n",
              "      <td>249</td>\n",
              "    </tr>\n",
              "    <tr>\n",
              "      <th>1</th>\n",
              "      <td>2</td>\n",
              "      <td>Filled Star Filled Star Star Star Star</td>\n",
              "      <td>course far course sequence think help build u...</td>\n",
              "      <td>2</td>\n",
              "      <td>0</td>\n",
              "      <td>645</td>\n",
              "    </tr>\n",
              "    <tr>\n",
              "      <th>2</th>\n",
              "      <td>3</td>\n",
              "      <td>Filled Star Star Star Star Star</td>\n",
              "      <td>appalling present year clear let trying earn ...</td>\n",
              "      <td>1</td>\n",
              "      <td>0</td>\n",
              "      <td>419</td>\n",
              "    </tr>\n",
              "    <tr>\n",
              "      <th>3</th>\n",
              "      <td>4</td>\n",
              "      <td>Filled Star Filled Star Filled Star Star Star</td>\n",
              "      <td>like ai specialization like Sequence course f...</td>\n",
              "      <td>3</td>\n",
              "      <td>0</td>\n",
              "      <td>802</td>\n",
              "    </tr>\n",
              "    <tr>\n",
              "      <th>4</th>\n",
              "      <td>5</td>\n",
              "      <td>Filled Star Filled Star Star Star Star</td>\n",
              "      <td>great wonderful teacher miserable notebook pr...</td>\n",
              "      <td>2</td>\n",
              "      <td>0</td>\n",
              "      <td>835</td>\n",
              "    </tr>\n",
              "  </tbody>\n",
              "</table>\n",
              "</div>\n",
              "      <button class=\"colab-df-convert\" onclick=\"convertToInteractive('df-483d3e61-ca4a-477c-96f5-a830f8345299')\"\n",
              "              title=\"Convert this dataframe to an interactive table.\"\n",
              "              style=\"display:none;\">\n",
              "        \n",
              "  <svg xmlns=\"http://www.w3.org/2000/svg\" height=\"24px\"viewBox=\"0 0 24 24\"\n",
              "       width=\"24px\">\n",
              "    <path d=\"M0 0h24v24H0V0z\" fill=\"none\"/>\n",
              "    <path d=\"M18.56 5.44l.94 2.06.94-2.06 2.06-.94-2.06-.94-.94-2.06-.94 2.06-2.06.94zm-11 1L8.5 8.5l.94-2.06 2.06-.94-2.06-.94L8.5 2.5l-.94 2.06-2.06.94zm10 10l.94 2.06.94-2.06 2.06-.94-2.06-.94-.94-2.06-.94 2.06-2.06.94z\"/><path d=\"M17.41 7.96l-1.37-1.37c-.4-.4-.92-.59-1.43-.59-.52 0-1.04.2-1.43.59L10.3 9.45l-7.72 7.72c-.78.78-.78 2.05 0 2.83L4 21.41c.39.39.9.59 1.41.59.51 0 1.02-.2 1.41-.59l7.78-7.78 2.81-2.81c.8-.78.8-2.07 0-2.86zM5.41 20L4 18.59l7.72-7.72 1.47 1.35L5.41 20z\"/>\n",
              "  </svg>\n",
              "      </button>\n",
              "      \n",
              "  <style>\n",
              "    .colab-df-container {\n",
              "      display:flex;\n",
              "      flex-wrap:wrap;\n",
              "      gap: 12px;\n",
              "    }\n",
              "\n",
              "    .colab-df-convert {\n",
              "      background-color: #E8F0FE;\n",
              "      border: none;\n",
              "      border-radius: 50%;\n",
              "      cursor: pointer;\n",
              "      display: none;\n",
              "      fill: #1967D2;\n",
              "      height: 32px;\n",
              "      padding: 0 0 0 0;\n",
              "      width: 32px;\n",
              "    }\n",
              "\n",
              "    .colab-df-convert:hover {\n",
              "      background-color: #E2EBFA;\n",
              "      box-shadow: 0px 1px 2px rgba(60, 64, 67, 0.3), 0px 1px 3px 1px rgba(60, 64, 67, 0.15);\n",
              "      fill: #174EA6;\n",
              "    }\n",
              "\n",
              "    [theme=dark] .colab-df-convert {\n",
              "      background-color: #3B4455;\n",
              "      fill: #D2E3FC;\n",
              "    }\n",
              "\n",
              "    [theme=dark] .colab-df-convert:hover {\n",
              "      background-color: #434B5C;\n",
              "      box-shadow: 0px 1px 3px 1px rgba(0, 0, 0, 0.15);\n",
              "      filter: drop-shadow(0px 1px 2px rgba(0, 0, 0, 0.3));\n",
              "      fill: #FFFFFF;\n",
              "    }\n",
              "  </style>\n",
              "\n",
              "      <script>\n",
              "        const buttonEl =\n",
              "          document.querySelector('#df-483d3e61-ca4a-477c-96f5-a830f8345299 button.colab-df-convert');\n",
              "        buttonEl.style.display =\n",
              "          google.colab.kernel.accessAllowed ? 'block' : 'none';\n",
              "\n",
              "        async function convertToInteractive(key) {\n",
              "          const element = document.querySelector('#df-483d3e61-ca4a-477c-96f5-a830f8345299');\n",
              "          const dataTable =\n",
              "            await google.colab.kernel.invokeFunction('convertToInteractive',\n",
              "                                                     [key], {});\n",
              "          if (!dataTable) return;\n",
              "\n",
              "          const docLinkHtml = 'Like what you see? Visit the ' +\n",
              "            '<a target=\"_blank\" href=https://colab.research.google.com/notebooks/data_table.ipynb>data table notebook</a>'\n",
              "            + ' to learn more about interactive tables.';\n",
              "          element.innerHTML = '';\n",
              "          dataTable['output_type'] = 'display_data';\n",
              "          await google.colab.output.renderOutput(dataTable, element);\n",
              "          const docLink = document.createElement('div');\n",
              "          docLink.innerHTML = docLinkHtml;\n",
              "          element.appendChild(docLink);\n",
              "        }\n",
              "      </script>\n",
              "    </div>\n",
              "  </div>\n",
              "  "
            ]
          },
          "metadata": {},
          "execution_count": 21
        }
      ]
    },
    {
      "cell_type": "code",
      "source": [
        "df=df.dropna(subset=['comentario'])\n",
        "df['comentario'].isnull().values.any()"
      ],
      "metadata": {
        "colab": {
          "base_uri": "https://localhost:8080/"
        },
        "id": "iyHRz6In5qvX",
        "outputId": "e417f31a-a45d-4b05-ad95-ca0b51ee4988"
      },
      "execution_count": null,
      "outputs": [
        {
          "output_type": "execute_result",
          "data": {
            "text/plain": [
              "False"
            ]
          },
          "metadata": {},
          "execution_count": 22
        }
      ]
    },
    {
      "cell_type": "code",
      "source": [
        "# Aplicando \"Lemmatization\" ao campo de comentários\n",
        "\n",
        "def lemm(row):\n",
        "  string_lem = \"\"\n",
        "  for word in nlp(row):\n",
        "      string_lem += \" \"+ word.lemma_\n",
        "  return string_lem\n",
        "\n",
        "df['comentario'] = df.apply(lambda row : lemm(row['comentario']), axis = 1)\n",
        "df.head(5)"
      ],
      "metadata": {
        "colab": {
          "base_uri": "https://localhost:8080/",
          "height": 206
        },
        "id": "7Hp4o5g75HhP",
        "outputId": "ae3d842c-75f0-40aa-c03e-96e63f417045"
      },
      "execution_count": null,
      "outputs": [
        {
          "output_type": "execute_result",
          "data": {
            "text/plain": [
              "   indice                                       estrelas  \\\n",
              "0       1                Filled Star Star Star Star Star   \n",
              "1       2         Filled Star Filled Star Star Star Star   \n",
              "2       3                Filled Star Star Star Star Star   \n",
              "3       4  Filled Star Filled Star Filled Star Star Star   \n",
              "4       5         Filled Star Filled Star Star Star Star   \n",
              "\n",
              "                                          comentario  qtd_estrelas  avaliacao  \\\n",
              "0     rely knowledge essentially untaught course ...             1          0   \n",
              "1     course far course sequence think help build...             2          0   \n",
              "2     appal present year clear let try earn live ...             1          0   \n",
              "3     like ai specialization like Sequence course...             3          0   \n",
              "4     great wonderful teacher miserable notebook ...             2          0   \n",
              "\n",
              "   tamanho_comentario  \n",
              "0                 249  \n",
              "1                 645  \n",
              "2                 419  \n",
              "3                 802  \n",
              "4                 835  "
            ],
            "text/html": [
              "\n",
              "  <div id=\"df-0d4fec6e-a3fb-4cb3-b500-aa33429c4a3b\">\n",
              "    <div class=\"colab-df-container\">\n",
              "      <div>\n",
              "<style scoped>\n",
              "    .dataframe tbody tr th:only-of-type {\n",
              "        vertical-align: middle;\n",
              "    }\n",
              "\n",
              "    .dataframe tbody tr th {\n",
              "        vertical-align: top;\n",
              "    }\n",
              "\n",
              "    .dataframe thead th {\n",
              "        text-align: right;\n",
              "    }\n",
              "</style>\n",
              "<table border=\"1\" class=\"dataframe\">\n",
              "  <thead>\n",
              "    <tr style=\"text-align: right;\">\n",
              "      <th></th>\n",
              "      <th>indice</th>\n",
              "      <th>estrelas</th>\n",
              "      <th>comentario</th>\n",
              "      <th>qtd_estrelas</th>\n",
              "      <th>avaliacao</th>\n",
              "      <th>tamanho_comentario</th>\n",
              "    </tr>\n",
              "  </thead>\n",
              "  <tbody>\n",
              "    <tr>\n",
              "      <th>0</th>\n",
              "      <td>1</td>\n",
              "      <td>Filled Star Star Star Star Star</td>\n",
              "      <td>rely knowledge essentially untaught course ...</td>\n",
              "      <td>1</td>\n",
              "      <td>0</td>\n",
              "      <td>249</td>\n",
              "    </tr>\n",
              "    <tr>\n",
              "      <th>1</th>\n",
              "      <td>2</td>\n",
              "      <td>Filled Star Filled Star Star Star Star</td>\n",
              "      <td>course far course sequence think help build...</td>\n",
              "      <td>2</td>\n",
              "      <td>0</td>\n",
              "      <td>645</td>\n",
              "    </tr>\n",
              "    <tr>\n",
              "      <th>2</th>\n",
              "      <td>3</td>\n",
              "      <td>Filled Star Star Star Star Star</td>\n",
              "      <td>appal present year clear let try earn live ...</td>\n",
              "      <td>1</td>\n",
              "      <td>0</td>\n",
              "      <td>419</td>\n",
              "    </tr>\n",
              "    <tr>\n",
              "      <th>3</th>\n",
              "      <td>4</td>\n",
              "      <td>Filled Star Filled Star Filled Star Star Star</td>\n",
              "      <td>like ai specialization like Sequence course...</td>\n",
              "      <td>3</td>\n",
              "      <td>0</td>\n",
              "      <td>802</td>\n",
              "    </tr>\n",
              "    <tr>\n",
              "      <th>4</th>\n",
              "      <td>5</td>\n",
              "      <td>Filled Star Filled Star Star Star Star</td>\n",
              "      <td>great wonderful teacher miserable notebook ...</td>\n",
              "      <td>2</td>\n",
              "      <td>0</td>\n",
              "      <td>835</td>\n",
              "    </tr>\n",
              "  </tbody>\n",
              "</table>\n",
              "</div>\n",
              "      <button class=\"colab-df-convert\" onclick=\"convertToInteractive('df-0d4fec6e-a3fb-4cb3-b500-aa33429c4a3b')\"\n",
              "              title=\"Convert this dataframe to an interactive table.\"\n",
              "              style=\"display:none;\">\n",
              "        \n",
              "  <svg xmlns=\"http://www.w3.org/2000/svg\" height=\"24px\"viewBox=\"0 0 24 24\"\n",
              "       width=\"24px\">\n",
              "    <path d=\"M0 0h24v24H0V0z\" fill=\"none\"/>\n",
              "    <path d=\"M18.56 5.44l.94 2.06.94-2.06 2.06-.94-2.06-.94-.94-2.06-.94 2.06-2.06.94zm-11 1L8.5 8.5l.94-2.06 2.06-.94-2.06-.94L8.5 2.5l-.94 2.06-2.06.94zm10 10l.94 2.06.94-2.06 2.06-.94-2.06-.94-.94-2.06-.94 2.06-2.06.94z\"/><path d=\"M17.41 7.96l-1.37-1.37c-.4-.4-.92-.59-1.43-.59-.52 0-1.04.2-1.43.59L10.3 9.45l-7.72 7.72c-.78.78-.78 2.05 0 2.83L4 21.41c.39.39.9.59 1.41.59.51 0 1.02-.2 1.41-.59l7.78-7.78 2.81-2.81c.8-.78.8-2.07 0-2.86zM5.41 20L4 18.59l7.72-7.72 1.47 1.35L5.41 20z\"/>\n",
              "  </svg>\n",
              "      </button>\n",
              "      \n",
              "  <style>\n",
              "    .colab-df-container {\n",
              "      display:flex;\n",
              "      flex-wrap:wrap;\n",
              "      gap: 12px;\n",
              "    }\n",
              "\n",
              "    .colab-df-convert {\n",
              "      background-color: #E8F0FE;\n",
              "      border: none;\n",
              "      border-radius: 50%;\n",
              "      cursor: pointer;\n",
              "      display: none;\n",
              "      fill: #1967D2;\n",
              "      height: 32px;\n",
              "      padding: 0 0 0 0;\n",
              "      width: 32px;\n",
              "    }\n",
              "\n",
              "    .colab-df-convert:hover {\n",
              "      background-color: #E2EBFA;\n",
              "      box-shadow: 0px 1px 2px rgba(60, 64, 67, 0.3), 0px 1px 3px 1px rgba(60, 64, 67, 0.15);\n",
              "      fill: #174EA6;\n",
              "    }\n",
              "\n",
              "    [theme=dark] .colab-df-convert {\n",
              "      background-color: #3B4455;\n",
              "      fill: #D2E3FC;\n",
              "    }\n",
              "\n",
              "    [theme=dark] .colab-df-convert:hover {\n",
              "      background-color: #434B5C;\n",
              "      box-shadow: 0px 1px 3px 1px rgba(0, 0, 0, 0.15);\n",
              "      filter: drop-shadow(0px 1px 2px rgba(0, 0, 0, 0.3));\n",
              "      fill: #FFFFFF;\n",
              "    }\n",
              "  </style>\n",
              "\n",
              "      <script>\n",
              "        const buttonEl =\n",
              "          document.querySelector('#df-0d4fec6e-a3fb-4cb3-b500-aa33429c4a3b button.colab-df-convert');\n",
              "        buttonEl.style.display =\n",
              "          google.colab.kernel.accessAllowed ? 'block' : 'none';\n",
              "\n",
              "        async function convertToInteractive(key) {\n",
              "          const element = document.querySelector('#df-0d4fec6e-a3fb-4cb3-b500-aa33429c4a3b');\n",
              "          const dataTable =\n",
              "            await google.colab.kernel.invokeFunction('convertToInteractive',\n",
              "                                                     [key], {});\n",
              "          if (!dataTable) return;\n",
              "\n",
              "          const docLinkHtml = 'Like what you see? Visit the ' +\n",
              "            '<a target=\"_blank\" href=https://colab.research.google.com/notebooks/data_table.ipynb>data table notebook</a>'\n",
              "            + ' to learn more about interactive tables.';\n",
              "          element.innerHTML = '';\n",
              "          dataTable['output_type'] = 'display_data';\n",
              "          await google.colab.output.renderOutput(dataTable, element);\n",
              "          const docLink = document.createElement('div');\n",
              "          docLink.innerHTML = docLinkHtml;\n",
              "          element.appendChild(docLink);\n",
              "        }\n",
              "      </script>\n",
              "    </div>\n",
              "  </div>\n",
              "  "
            ]
          },
          "metadata": {},
          "execution_count": 24
        }
      ]
    },
    {
      "cell_type": "code",
      "source": [
        "df=df.dropna(subset=['comentario'])\n",
        "df['comentario'].isnull().values.any()"
      ],
      "metadata": {
        "colab": {
          "base_uri": "https://localhost:8080/"
        },
        "id": "IS3_sHor9MSC",
        "outputId": "cbe41ae8-a5eb-4497-a9a8-ae1e61d570f9"
      },
      "execution_count": null,
      "outputs": [
        {
          "output_type": "execute_result",
          "data": {
            "text/plain": [
              "False"
            ]
          },
          "metadata": {},
          "execution_count": 32
        }
      ]
    },
    {
      "cell_type": "code",
      "source": [
        "max_sent_length = 500"
      ],
      "metadata": {
        "id": "AWu0C0m5-SN_"
      },
      "execution_count": null,
      "outputs": []
    },
    {
      "cell_type": "code",
      "source": [
        "def Limita_tamanho_do_comentario(texto):\n",
        "  tamanho = len(texto)\n",
        "  if(tamanho > max_sent_length):\n",
        "    texto = texto[0:499] \n",
        "  return texto\n",
        "\n",
        "df['comentario'] = df.comentario.apply(Limita_tamanho_do_comentario)\n",
        "\n",
        "print('A base possui um total de {} registros. Os 10 primeiros são:'.format(len(df)))\n",
        "df.head(10)"
      ],
      "metadata": {
        "colab": {
          "base_uri": "https://localhost:8080/",
          "height": 381
        },
        "id": "NlnosJT89_O3",
        "outputId": "1b1937db-ecbc-48ec-d19b-50bb0733a0d9"
      },
      "execution_count": null,
      "outputs": [
        {
          "output_type": "stream",
          "name": "stdout",
          "text": [
            "A base possui um total de 6270 registros. Os 10 primeiros são:\n"
          ]
        },
        {
          "output_type": "execute_result",
          "data": {
            "text/plain": [
              "   indice                                           estrelas  \\\n",
              "0       1                    Filled Star Star Star Star Star   \n",
              "1       2             Filled Star Filled Star Star Star Star   \n",
              "2       3                    Filled Star Star Star Star Star   \n",
              "3       4      Filled Star Filled Star Filled Star Star Star   \n",
              "4       5             Filled Star Filled Star Star Star Star   \n",
              "5       6                    Filled Star Star Star Star Star   \n",
              "6       7  Filled Star Filled Star Filled Star Filled Sta...   \n",
              "7       8  Filled Star Filled Star Filled Star Filled Sta...   \n",
              "8       9  Filled Star Filled Star Filled Star Filled Sta...   \n",
              "9      10             Filled Star Filled Star Star Star Star   \n",
              "\n",
              "                                          comentario  qtd_estrelas  avaliacao  \\\n",
              "0     rely knowledge essentially untaught course ...             1          0   \n",
              "1     course far course sequence think help build...             2          0   \n",
              "2     appal present year clear let try earn live ...             1          0   \n",
              "3     like ai specialization like Sequence course...             3          0   \n",
              "4     great wonderful teacher miserable notebook ...             2          0   \n",
              "5     pass training provide learn course question...             1          0   \n",
              "6     set context Computer Engineering University...             5          1   \n",
              "7     grateful team provide good course learn cou...             5          1   \n",
              "8     want thank team amazing work definitely wor...             5          1   \n",
              "9     go course ai Specialization happy specializ...             2          0   \n",
              "\n",
              "   tamanho_comentario  \n",
              "0                 249  \n",
              "1                 645  \n",
              "2                 419  \n",
              "3                 802  \n",
              "4                 835  \n",
              "5                 160  \n",
              "6                 264  \n",
              "7                 199  \n",
              "8                 155  \n",
              "9                 365  "
            ],
            "text/html": [
              "\n",
              "  <div id=\"df-e031fb93-ec12-4ea8-a2e5-a7ec71a3baf1\">\n",
              "    <div class=\"colab-df-container\">\n",
              "      <div>\n",
              "<style scoped>\n",
              "    .dataframe tbody tr th:only-of-type {\n",
              "        vertical-align: middle;\n",
              "    }\n",
              "\n",
              "    .dataframe tbody tr th {\n",
              "        vertical-align: top;\n",
              "    }\n",
              "\n",
              "    .dataframe thead th {\n",
              "        text-align: right;\n",
              "    }\n",
              "</style>\n",
              "<table border=\"1\" class=\"dataframe\">\n",
              "  <thead>\n",
              "    <tr style=\"text-align: right;\">\n",
              "      <th></th>\n",
              "      <th>indice</th>\n",
              "      <th>estrelas</th>\n",
              "      <th>comentario</th>\n",
              "      <th>qtd_estrelas</th>\n",
              "      <th>avaliacao</th>\n",
              "      <th>tamanho_comentario</th>\n",
              "    </tr>\n",
              "  </thead>\n",
              "  <tbody>\n",
              "    <tr>\n",
              "      <th>0</th>\n",
              "      <td>1</td>\n",
              "      <td>Filled Star Star Star Star Star</td>\n",
              "      <td>rely knowledge essentially untaught course ...</td>\n",
              "      <td>1</td>\n",
              "      <td>0</td>\n",
              "      <td>249</td>\n",
              "    </tr>\n",
              "    <tr>\n",
              "      <th>1</th>\n",
              "      <td>2</td>\n",
              "      <td>Filled Star Filled Star Star Star Star</td>\n",
              "      <td>course far course sequence think help build...</td>\n",
              "      <td>2</td>\n",
              "      <td>0</td>\n",
              "      <td>645</td>\n",
              "    </tr>\n",
              "    <tr>\n",
              "      <th>2</th>\n",
              "      <td>3</td>\n",
              "      <td>Filled Star Star Star Star Star</td>\n",
              "      <td>appal present year clear let try earn live ...</td>\n",
              "      <td>1</td>\n",
              "      <td>0</td>\n",
              "      <td>419</td>\n",
              "    </tr>\n",
              "    <tr>\n",
              "      <th>3</th>\n",
              "      <td>4</td>\n",
              "      <td>Filled Star Filled Star Filled Star Star Star</td>\n",
              "      <td>like ai specialization like Sequence course...</td>\n",
              "      <td>3</td>\n",
              "      <td>0</td>\n",
              "      <td>802</td>\n",
              "    </tr>\n",
              "    <tr>\n",
              "      <th>4</th>\n",
              "      <td>5</td>\n",
              "      <td>Filled Star Filled Star Star Star Star</td>\n",
              "      <td>great wonderful teacher miserable notebook ...</td>\n",
              "      <td>2</td>\n",
              "      <td>0</td>\n",
              "      <td>835</td>\n",
              "    </tr>\n",
              "    <tr>\n",
              "      <th>5</th>\n",
              "      <td>6</td>\n",
              "      <td>Filled Star Star Star Star Star</td>\n",
              "      <td>pass training provide learn course question...</td>\n",
              "      <td>1</td>\n",
              "      <td>0</td>\n",
              "      <td>160</td>\n",
              "    </tr>\n",
              "    <tr>\n",
              "      <th>6</th>\n",
              "      <td>7</td>\n",
              "      <td>Filled Star Filled Star Filled Star Filled Sta...</td>\n",
              "      <td>set context Computer Engineering University...</td>\n",
              "      <td>5</td>\n",
              "      <td>1</td>\n",
              "      <td>264</td>\n",
              "    </tr>\n",
              "    <tr>\n",
              "      <th>7</th>\n",
              "      <td>8</td>\n",
              "      <td>Filled Star Filled Star Filled Star Filled Sta...</td>\n",
              "      <td>grateful team provide good course learn cou...</td>\n",
              "      <td>5</td>\n",
              "      <td>1</td>\n",
              "      <td>199</td>\n",
              "    </tr>\n",
              "    <tr>\n",
              "      <th>8</th>\n",
              "      <td>9</td>\n",
              "      <td>Filled Star Filled Star Filled Star Filled Sta...</td>\n",
              "      <td>want thank team amazing work definitely wor...</td>\n",
              "      <td>5</td>\n",
              "      <td>1</td>\n",
              "      <td>155</td>\n",
              "    </tr>\n",
              "    <tr>\n",
              "      <th>9</th>\n",
              "      <td>10</td>\n",
              "      <td>Filled Star Filled Star Star Star Star</td>\n",
              "      <td>go course ai Specialization happy specializ...</td>\n",
              "      <td>2</td>\n",
              "      <td>0</td>\n",
              "      <td>365</td>\n",
              "    </tr>\n",
              "  </tbody>\n",
              "</table>\n",
              "</div>\n",
              "      <button class=\"colab-df-convert\" onclick=\"convertToInteractive('df-e031fb93-ec12-4ea8-a2e5-a7ec71a3baf1')\"\n",
              "              title=\"Convert this dataframe to an interactive table.\"\n",
              "              style=\"display:none;\">\n",
              "        \n",
              "  <svg xmlns=\"http://www.w3.org/2000/svg\" height=\"24px\"viewBox=\"0 0 24 24\"\n",
              "       width=\"24px\">\n",
              "    <path d=\"M0 0h24v24H0V0z\" fill=\"none\"/>\n",
              "    <path d=\"M18.56 5.44l.94 2.06.94-2.06 2.06-.94-2.06-.94-.94-2.06-.94 2.06-2.06.94zm-11 1L8.5 8.5l.94-2.06 2.06-.94-2.06-.94L8.5 2.5l-.94 2.06-2.06.94zm10 10l.94 2.06.94-2.06 2.06-.94-2.06-.94-.94-2.06-.94 2.06-2.06.94z\"/><path d=\"M17.41 7.96l-1.37-1.37c-.4-.4-.92-.59-1.43-.59-.52 0-1.04.2-1.43.59L10.3 9.45l-7.72 7.72c-.78.78-.78 2.05 0 2.83L4 21.41c.39.39.9.59 1.41.59.51 0 1.02-.2 1.41-.59l7.78-7.78 2.81-2.81c.8-.78.8-2.07 0-2.86zM5.41 20L4 18.59l7.72-7.72 1.47 1.35L5.41 20z\"/>\n",
              "  </svg>\n",
              "      </button>\n",
              "      \n",
              "  <style>\n",
              "    .colab-df-container {\n",
              "      display:flex;\n",
              "      flex-wrap:wrap;\n",
              "      gap: 12px;\n",
              "    }\n",
              "\n",
              "    .colab-df-convert {\n",
              "      background-color: #E8F0FE;\n",
              "      border: none;\n",
              "      border-radius: 50%;\n",
              "      cursor: pointer;\n",
              "      display: none;\n",
              "      fill: #1967D2;\n",
              "      height: 32px;\n",
              "      padding: 0 0 0 0;\n",
              "      width: 32px;\n",
              "    }\n",
              "\n",
              "    .colab-df-convert:hover {\n",
              "      background-color: #E2EBFA;\n",
              "      box-shadow: 0px 1px 2px rgba(60, 64, 67, 0.3), 0px 1px 3px 1px rgba(60, 64, 67, 0.15);\n",
              "      fill: #174EA6;\n",
              "    }\n",
              "\n",
              "    [theme=dark] .colab-df-convert {\n",
              "      background-color: #3B4455;\n",
              "      fill: #D2E3FC;\n",
              "    }\n",
              "\n",
              "    [theme=dark] .colab-df-convert:hover {\n",
              "      background-color: #434B5C;\n",
              "      box-shadow: 0px 1px 3px 1px rgba(0, 0, 0, 0.15);\n",
              "      filter: drop-shadow(0px 1px 2px rgba(0, 0, 0, 0.3));\n",
              "      fill: #FFFFFF;\n",
              "    }\n",
              "  </style>\n",
              "\n",
              "      <script>\n",
              "        const buttonEl =\n",
              "          document.querySelector('#df-e031fb93-ec12-4ea8-a2e5-a7ec71a3baf1 button.colab-df-convert');\n",
              "        buttonEl.style.display =\n",
              "          google.colab.kernel.accessAllowed ? 'block' : 'none';\n",
              "\n",
              "        async function convertToInteractive(key) {\n",
              "          const element = document.querySelector('#df-e031fb93-ec12-4ea8-a2e5-a7ec71a3baf1');\n",
              "          const dataTable =\n",
              "            await google.colab.kernel.invokeFunction('convertToInteractive',\n",
              "                                                     [key], {});\n",
              "          if (!dataTable) return;\n",
              "\n",
              "          const docLinkHtml = 'Like what you see? Visit the ' +\n",
              "            '<a target=\"_blank\" href=https://colab.research.google.com/notebooks/data_table.ipynb>data table notebook</a>'\n",
              "            + ' to learn more about interactive tables.';\n",
              "          element.innerHTML = '';\n",
              "          dataTable['output_type'] = 'display_data';\n",
              "          await google.colab.output.renderOutput(dataTable, element);\n",
              "          const docLink = document.createElement('div');\n",
              "          docLink.innerHTML = docLinkHtml;\n",
              "          element.appendChild(docLink);\n",
              "        }\n",
              "      </script>\n",
              "    </div>\n",
              "  </div>\n",
              "  "
            ]
          },
          "metadata": {},
          "execution_count": 41
        }
      ]
    },
    {
      "cell_type": "code",
      "source": [
        "df.to_csv(\"coursera-processado-para-SVM.csv\", index=False)"
      ],
      "metadata": {
        "id": "-g6j9WOp8ECT"
      },
      "execution_count": null,
      "outputs": []
    },
    {
      "cell_type": "code",
      "source": [
        "!ls"
      ],
      "metadata": {
        "colab": {
          "base_uri": "https://localhost:8080/"
        },
        "id": "-o8LqIhG8iwJ",
        "outputId": "c3a55181-84e0-46db-a67b-30ab0fe821ab"
      },
      "execution_count": null,
      "outputs": [
        {
          "output_type": "stream",
          "name": "stdout",
          "text": [
            "aulas\t\t\t\t       coursera-processado-versao-inicial.csv\n",
            "coursera2.csv\t\t\t       coursera.py\n",
            "coursera.csv\t\t\t       PLN01.ipynb\n",
            "coursera-processado2.csv\t       PLN02.ipynb\n",
            "coursera-processado.csv\t\t       saved_model\n",
            "coursera-processado-para-SVM.csv       saved_model-primeiro-teste\n",
            "coursera-processado-segunda-parte.csv\n"
          ]
        }
      ]
    },
    {
      "cell_type": "markdown",
      "source": [
        "# Recuperando Dados processados para uso do SVM"
      ],
      "metadata": {
        "id": "cxsfK-E11PP0"
      }
    },
    {
      "cell_type": "code",
      "source": [
        "# Recuperando a base salva\n",
        "df = pd.read_csv(\"coursera-processado-para-SVM.csv\")\n",
        "df.shape"
      ],
      "metadata": {
        "colab": {
          "base_uri": "https://localhost:8080/"
        },
        "id": "MxeWtkeX8EOG",
        "outputId": "91c3a6ce-d467-4184-9df8-a76a509aaca5"
      },
      "execution_count": null,
      "outputs": [
        {
          "output_type": "execute_result",
          "data": {
            "text/plain": [
              "(6270, 6)"
            ]
          },
          "metadata": {},
          "execution_count": 7
        }
      ]
    },
    {
      "cell_type": "code",
      "source": [
        "data = df[['comentario','avaliacao']]\n",
        "data.info()"
      ],
      "metadata": {
        "colab": {
          "base_uri": "https://localhost:8080/"
        },
        "id": "ic2J8izpqw-x",
        "outputId": "fab0898f-bcc2-4b2b-f37f-9f9614d12864"
      },
      "execution_count": null,
      "outputs": [
        {
          "output_type": "stream",
          "name": "stdout",
          "text": [
            "<class 'pandas.core.frame.DataFrame'>\n",
            "RangeIndex: 6270 entries, 0 to 6269\n",
            "Data columns (total 2 columns):\n",
            " #   Column      Non-Null Count  Dtype \n",
            "---  ------      --------------  ----- \n",
            " 0   comentario  6270 non-null   object\n",
            " 1   avaliacao   6270 non-null   int64 \n",
            "dtypes: int64(1), object(1)\n",
            "memory usage: 98.1+ KB\n"
          ]
        }
      ]
    },
    {
      "cell_type": "code",
      "source": [
        "X = data['comentario']\n",
        "y = data['avaliacao']\n",
        "\n",
        "avaliacoes_rotulos = ['ruim','boa']\n",
        "max_sent_length = 500"
      ],
      "metadata": {
        "id": "hfxHlO18x3T-"
      },
      "execution_count": null,
      "outputs": []
    },
    {
      "cell_type": "code",
      "source": [
        "# Separação dos dados em conjuntos de treinamento e teste\n",
        "from sklearn.model_selection import train_test_split\n",
        "SEED = 42\n",
        "\n",
        "X_train, X_test, y_train, y_test = train_test_split(X, y, shuffle=True, random_state=SEED, test_size=0.25)\n",
        "\n",
        "print(X_train.shape)\n",
        "print(y_train.shape)\n",
        "print(X_test.shape)\n",
        "print(y_test.shape)"
      ],
      "metadata": {
        "colab": {
          "base_uri": "https://localhost:8080/"
        },
        "id": "3xJIzIFPx0ko",
        "outputId": "aa727389-f418-425d-e9ea-c72423602cee"
      },
      "execution_count": null,
      "outputs": [
        {
          "output_type": "stream",
          "name": "stdout",
          "text": [
            "(4702,)\n",
            "(4702,)\n",
            "(1568,)\n",
            "(1568,)\n"
          ]
        }
      ]
    },
    {
      "cell_type": "markdown",
      "source": [
        "# modelos SVM usando BOW, TF-IDF e Embeddings"
      ],
      "metadata": {
        "id": "YtMzlD8mDspN"
      }
    },
    {
      "cell_type": "markdown",
      "source": [
        "## SVM com dado vetorizado usando Bag of Words (BOW)"
      ],
      "metadata": {
        "id": "XZZeqO2RBPnI"
      }
    },
    {
      "cell_type": "code",
      "source": [
        "# Vetorizando tanto os dados de treinamento quanto os de teste\n",
        "vectorizer = CountVectorizer()    # BOW\n",
        "\n",
        "X_train_tfidf_vectorize = vectorizer.fit_transform(X_train)\n",
        "X_test_tfidf_vectorize = vectorizer.transform(X_test)"
      ],
      "metadata": {
        "id": "nWs6B9qVBor7"
      },
      "execution_count": null,
      "outputs": []
    },
    {
      "cell_type": "markdown",
      "source": [
        "Verificando que por ter utilizado no conjunto de testes a mesma transformação  que foi\n",
        " ajustada ao conjunto de treinamento, o número de features(colunas) permanece o mesmo\n",
        "em ambos os conjuntos."
      ],
      "metadata": {
        "id": "E4pZnLmU8py2"
      }
    },
    {
      "cell_type": "code",
      "source": [
        "X_train_tfidf_vectorize.shape"
      ],
      "metadata": {
        "colab": {
          "base_uri": "https://localhost:8080/"
        },
        "id": "7fl3HcnulOU1",
        "outputId": "78fb3ed0-2ccc-4762-a6aa-b794cf824b23"
      },
      "execution_count": null,
      "outputs": [
        {
          "output_type": "execute_result",
          "data": {
            "text/plain": [
              "(4702, 2088)"
            ]
          },
          "metadata": {},
          "execution_count": 11
        }
      ]
    },
    {
      "cell_type": "code",
      "source": [
        "X_test_tfidf_vectorize.shape"
      ],
      "metadata": {
        "colab": {
          "base_uri": "https://localhost:8080/"
        },
        "id": "R6i2dngAlb95",
        "outputId": "4d8dc986-c381-4fed-dda2-f4d3c5851543"
      },
      "execution_count": null,
      "outputs": [
        {
          "output_type": "execute_result",
          "data": {
            "text/plain": [
              "(1568, 2088)"
            ]
          },
          "metadata": {},
          "execution_count": 12
        }
      ]
    },
    {
      "cell_type": "markdown",
      "source": [
        "SVM LINEAR - usando abordagem mais simples, antes de fazer uso do SVM não linear"
      ],
      "metadata": {
        "id": "uIUn7iTd83uu"
      }
    },
    {
      "cell_type": "code",
      "source": [
        "cls = svm.SVC(kernel=\"linear\",C=0.05)\n",
        "\n",
        "cls.fit(X_train_tfidf_vectorize, y_train)\n",
        "\n",
        "pred = cls.predict(X_test_tfidf_vectorize)\n",
        "\n",
        "print(\"Acurária no conj. de teste = \", cls.score(X_test_tfidf_vectorize, y_test))\n",
        "\n",
        "print(\"Acurária no conj. de treino = \",cls.score(X_train_tfidf_vectorize, y_train))"
      ],
      "metadata": {
        "colab": {
          "base_uri": "https://localhost:8080/"
        },
        "outputId": "bb58fe94-8d7e-468b-ceb2-8ed6e5199193",
        "id": "vXccW0WsBPnJ"
      },
      "execution_count": null,
      "outputs": [
        {
          "output_type": "stream",
          "name": "stdout",
          "text": [
            "Acurária no conj. de teste =  0.9215561224489796\n",
            "Acurária no conj. de treino =  0.9300297745640154\n"
          ]
        }
      ]
    },
    {
      "cell_type": "markdown",
      "source": [
        "Em relação às métricas de avaliação, é possível constatar que, embora o modelo tenha alcançado uma boa acurácia, ele não consegue ter um bom F1-score para a classe \"ruim\". Há mais instâncias de avaliação \"boa\" do que \"ruim\" e isso está indesejadamente\n",
        "refletindo no treinamento e desempenho do modelo final. A matriz de confusão mais abaixo deixa isso ainda mais claro. O modelo apresenta tendência para classificar como \"boa\" a avaliação de todo comentário durante os testes realizados."
      ],
      "metadata": {
        "id": "5kS4j60-7Cgg"
      }
    },
    {
      "cell_type": "code",
      "source": [
        "print(metrics.classification_report(y_test, pred, target_names=avaliacoes_rotulos))\n",
        "print(avaliacoes_rotulos)\n",
        "print(cls.classes_)"
      ],
      "metadata": {
        "colab": {
          "base_uri": "https://localhost:8080/"
        },
        "id": "AyW4c7aTEIRR",
        "outputId": "45ad4a15-8666-490c-8d3b-5a005cca05a0"
      },
      "execution_count": null,
      "outputs": [
        {
          "output_type": "stream",
          "name": "stdout",
          "text": [
            "              precision    recall  f1-score   support\n",
            "\n",
            "        ruim       1.00      0.04      0.08       128\n",
            "         boa       0.92      1.00      0.96      1440\n",
            "\n",
            "    accuracy                           0.92      1568\n",
            "   macro avg       0.96      0.52      0.52      1568\n",
            "weighted avg       0.93      0.92      0.89      1568\n",
            "\n",
            "['ruim', 'boa']\n",
            "[0 1]\n"
          ]
        }
      ]
    },
    {
      "cell_type": "code",
      "source": [
        "from sklearn.metrics import confusion_matrix, ConfusionMatrixDisplay\n",
        "\n",
        "cm = confusion_matrix(y_test, pred)\n",
        "disp = ConfusionMatrixDisplay(confusion_matrix=cm, display_labels=[\"Ruim\", \"Boa\"])\n",
        "disp.plot()\n",
        "plt.show()"
      ],
      "metadata": {
        "colab": {
          "base_uri": "https://localhost:8080/",
          "height": 311
        },
        "id": "JitQa43P2OCW",
        "outputId": "292caad6-8646-4dfc-e15d-c71a5fceded7"
      },
      "execution_count": null,
      "outputs": [
        {
          "output_type": "display_data",
          "data": {
            "text/plain": [
              "<Figure size 900x300 with 2 Axes>"
            ],
            "image/png": "[encoded data removed]"
          },
          "metadata": {}
        }
      ]
    },
    {
      "cell_type": "markdown",
      "source": [
        "SVM NÃO LINEAR - fazendo uso da variação não linear do SVM para avaliar se há ganho nos resultados,\n",
        "comparativamente à sua versão linear usada anteriormente."
      ],
      "metadata": {
        "id": "vrK7PnI98_lE"
      }
    },
    {
      "cell_type": "code",
      "source": [
        "\n",
        "cls = svm.SVC(kernel=\"rbf\",C=2,gamma=0.01) \n",
        "\n",
        "cls.fit(X_train_tfidf_vectorize, y_train)\n",
        "\n",
        "pred = cls.predict(X_test_tfidf_vectorize)\n",
        "\n",
        "print(\"Acurária no conj. de teste = \", cls.score(X_test_tfidf_vectorize, y_test))\n",
        "\n",
        "print(\"Acurária no conj. de treino = \",cls.score(X_train_tfidf_vectorize, y_train))"
      ],
      "metadata": {
        "colab": {
          "base_uri": "https://localhost:8080/"
        },
        "outputId": "f10d9b4e-229f-4c0e-a479-113e657b5547",
        "id": "Pqyhx0AKBPnJ"
      },
      "execution_count": null,
      "outputs": [
        {
          "output_type": "stream",
          "name": "stdout",
          "text": [
            "Acurária no conj. de teste =  0.9209183673469388\n",
            "Acurária no conj. de treino =  0.9274776690769885\n"
          ]
        }
      ]
    },
    {
      "cell_type": "markdown",
      "source": [
        "Em relação às métricas de avaliação, é possível constatar que, embora o modelo não linear tenha alcançado uma acurácia tão boa quanto sua variação linear, ele também não consegue ter um bom F1-score para a classe \"ruim\". A exemplo do que já se destacou na análise do SVM linear, o desbalanceamento dos dados de treinamento repercute negativamente no desempenho do modelo final. Novamente,a matriz de confusão mais abaixo deixa isso claro. O cenário se repete com o modelo apresentando tendência para classificar como \"boa\" a avaliação de todo comentário durante os testes realizados."
      ],
      "metadata": {
        "id": "hXLI5ItA9Vdv"
      }
    },
    {
      "cell_type": "code",
      "source": [
        "print(metrics.classification_report(y_test, pred, target_names=avaliacoes_rotulos))\n",
        "print(avaliacoes_rotulos)\n",
        "print(cls.classes_)"
      ],
      "metadata": {
        "colab": {
          "base_uri": "https://localhost:8080/"
        },
        "id": "WZL9kOlWFcFH",
        "outputId": "ba1aa77a-c20d-43d7-a090-ff842e9993ce"
      },
      "execution_count": null,
      "outputs": [
        {
          "output_type": "stream",
          "name": "stdout",
          "text": [
            "              precision    recall  f1-score   support\n",
            "\n",
            "        ruim       1.00      0.03      0.06       128\n",
            "         boa       0.92      1.00      0.96      1440\n",
            "\n",
            "    accuracy                           0.92      1568\n",
            "   macro avg       0.96      0.52      0.51      1568\n",
            "weighted avg       0.93      0.92      0.89      1568\n",
            "\n",
            "['ruim', 'boa']\n",
            "[0 1]\n"
          ]
        }
      ]
    },
    {
      "cell_type": "code",
      "source": [
        "from sklearn.metrics import confusion_matrix, ConfusionMatrixDisplay\n",
        "\n",
        "cm = confusion_matrix(y_test, pred)\n",
        "disp = ConfusionMatrixDisplay(confusion_matrix=cm, display_labels=[\"Ruim\", \"Boa\"])\n",
        "disp.plot()\n",
        "plt.show()"
      ],
      "metadata": {
        "colab": {
          "base_uri": "https://localhost:8080/",
          "height": 311
        },
        "id": "ngHXXHBx9by6",
        "outputId": "2478975a-ca52-4cdd-dc32-2f96805b2043"
      },
      "execution_count": null,
      "outputs": [
        {
          "output_type": "display_data",
          "data": {
            "text/plain": [
              "<Figure size 900x300 with 2 Axes>"
            ],
            "image/png": "[encoded data removed]"
          },
          "metadata": {}
        }
      ]
    },
    {
      "cell_type": "markdown",
      "source": [
        "## SVM com dado vetorizado usando TF-IDF"
      ],
      "metadata": {
        "id": "yGaIkcTFBC5Y"
      }
    },
    {
      "cell_type": "markdown",
      "source": [
        "A opção por usar também o TF-IDF é apenas para avaliar se há algum ganho significativo para a análise pretendida em relação ao Bag of Words, hipótese rejeitada mais a frente com base nas métricas alcançadas."
      ],
      "metadata": {
        "id": "zK5gr37kDBtl"
      }
    },
    {
      "cell_type": "code",
      "source": [
        "# Vetorizando tanto os dados de treinamento quanto os de teste\n",
        "vectorizer = TfidfVectorizer()    # tf-idf\n",
        "\n",
        "X_train_tfidf_vectorize = vectorizer.fit_transform(X_train)\n",
        "X_test_tfidf_vectorize = vectorizer.transform(X_test)"
      ],
      "metadata": {
        "id": "jnfnt8DuBhlx"
      },
      "execution_count": null,
      "outputs": []
    },
    {
      "cell_type": "markdown",
      "source": [
        "SVM LINEAR - usando abordagem mais simples, antes de fazer uso do SVM não linear"
      ],
      "metadata": {
        "id": "ns72XUDnDooT"
      }
    },
    {
      "cell_type": "code",
      "source": [
        "# SVM LINEAR\n",
        "\n",
        "cls = svm.SVC(kernel=\"linear\",C=0.05)\n",
        "\n",
        "cls.fit(X_train_tfidf_vectorize, y_train)\n",
        "\n",
        "pred = cls.predict(X_test_tfidf_vectorize)\n",
        "\n",
        "print(\"Acurária no conj. de teste = \", cls.score(X_test_tfidf_vectorize, y_test))\n",
        "\n",
        "print(\"Acurária no conj. de treino = \",cls.score(X_train_tfidf_vectorize, y_train))"
      ],
      "metadata": {
        "colab": {
          "base_uri": "https://localhost:8080/"
        },
        "id": "4xbuwhBMDyB3",
        "outputId": "51789d7b-1077-4103-a160-17b7aa6f234a"
      },
      "execution_count": null,
      "outputs": [
        {
          "output_type": "stream",
          "name": "stdout",
          "text": [
            "Acurária no conj. de teste =  0.9183673469387755\n",
            "Acurária no conj. de treino =  0.9183326244151425\n"
          ]
        }
      ]
    },
    {
      "cell_type": "markdown",
      "source": [
        "Em relação às métricas de avaliação, é possível constatar que o modelo alcançou uma acurácia tão boa quanto às opçoes anteriores testadas com \"Bag of Words\". Entretanto, a técnica repete a mesma dificuldade das variações passadas ao também não conseguir um bom F1-score para a classe \"ruim\". Na realidade, consegue ser pior e apresenta problemas para o seu cálculo, o que fica evidenciado na matriz de confusão mais abaixo em que se visualiza que o modelo não acertou nenhuma previsão para a classe \"ruim\" nos testes realizados, classificando todas as avaliações de comentários como \"boa\"."
      ],
      "metadata": {
        "id": "I0uO_FAvDydr"
      }
    },
    {
      "cell_type": "code",
      "source": [
        "print(metrics.classification_report(y_test, pred, target_names=avaliacoes_rotulos))\n",
        "print(avaliacoes_rotulos)\n",
        "print(cls.classes_)"
      ],
      "metadata": {
        "colab": {
          "base_uri": "https://localhost:8080/"
        },
        "id": "vpvjntUcFhdH",
        "outputId": "de21869d-d325-472b-e35c-ba88c1f183a2"
      },
      "execution_count": null,
      "outputs": [
        {
          "output_type": "stream",
          "name": "stdout",
          "text": [
            "              precision    recall  f1-score   support\n",
            "\n",
            "        ruim       0.00      0.00      0.00       128\n",
            "         boa       0.92      1.00      0.96      1440\n",
            "\n",
            "    accuracy                           0.92      1568\n",
            "   macro avg       0.46      0.50      0.48      1568\n",
            "weighted avg       0.84      0.92      0.88      1568\n",
            "\n",
            "['ruim', 'boa']\n",
            "[0 1]\n"
          ]
        },
        {
          "output_type": "stream",
          "name": "stderr",
          "text": [
            "/usr/local/lib/python3.9/dist-packages/sklearn/metrics/_classification.py:1344: UndefinedMetricWarning: Precision and F-score are ill-defined and being set to 0.0 in labels with no predicted samples. Use `zero_division` parameter to control this behavior.\n",
            "  _warn_prf(average, modifier, msg_start, len(result))\n",
            "/usr/local/lib/python3.9/dist-packages/sklearn/metrics/_classification.py:1344: UndefinedMetricWarning: Precision and F-score are ill-defined and being set to 0.0 in labels with no predicted samples. Use `zero_division` parameter to control this behavior.\n",
            "  _warn_prf(average, modifier, msg_start, len(result))\n",
            "/usr/local/lib/python3.9/dist-packages/sklearn/metrics/_classification.py:1344: UndefinedMetricWarning: Precision and F-score are ill-defined and being set to 0.0 in labels with no predicted samples. Use `zero_division` parameter to control this behavior.\n",
            "  _warn_prf(average, modifier, msg_start, len(result))\n"
          ]
        }
      ]
    },
    {
      "cell_type": "code",
      "source": [
        "from sklearn.metrics import confusion_matrix, ConfusionMatrixDisplay\n",
        "\n",
        "cm = confusion_matrix(y_test, pred)\n",
        "disp = ConfusionMatrixDisplay(confusion_matrix=cm, display_labels=[\"Ruim\", \"Boa\"])\n",
        "disp.plot()\n",
        "plt.show()"
      ],
      "metadata": {
        "colab": {
          "base_uri": "https://localhost:8080/",
          "height": 311
        },
        "id": "mku7edDjD8Jf",
        "outputId": "2f56451e-6aaf-4433-a25d-e4f000a72bc3"
      },
      "execution_count": null,
      "outputs": [
        {
          "output_type": "display_data",
          "data": {
            "text/plain": [
              "<Figure size 900x300 with 2 Axes>"
            ],
            "image/png": "[encoded data removed]"
          },
          "metadata": {}
        }
      ]
    },
    {
      "cell_type": "markdown",
      "source": [
        "SVM NÃO LINEAR - fazendo uso da variação não linear do SVM para avaliar se há ganho nos resultados,\n",
        "comparativamente à sua versão linear usada anteriormente."
      ],
      "metadata": {
        "id": "IT99p2uaKIEw"
      }
    },
    {
      "cell_type": "code",
      "source": [
        "# SVM NÃO LINEAR\n",
        "\n",
        "cls = svm.SVC(kernel=\"rbf\",C=2,gamma=0.01)   \n",
        "\n",
        "cls.fit(X_train_tfidf_vectorize, y_train)\n",
        "\n",
        "pred = cls.predict(X_test_tfidf_vectorize)\n",
        "\n",
        "print(\"Acurária no conj. de teste = \", cls.score(X_test_tfidf_vectorize, y_test))\n",
        "\n",
        "print(\"Acurária no conj. de treino = \",cls.score(X_train_tfidf_vectorize, y_train))"
      ],
      "metadata": {
        "colab": {
          "base_uri": "https://localhost:8080/"
        },
        "id": "sljt5un3DyE-",
        "outputId": "3098a5af-e7b6-4746-af4c-869499b56c18"
      },
      "execution_count": null,
      "outputs": [
        {
          "output_type": "stream",
          "name": "stdout",
          "text": [
            "Acurária no conj. de teste =  0.9183673469387755\n",
            "Acurária no conj. de treino =  0.9183326244151425\n"
          ]
        }
      ]
    },
    {
      "cell_type": "markdown",
      "source": [
        "Em relação às métricas de avaliação, é possível constatar que, uma vez mais, o modelo alcançou uma acurácia tão boa quanto às opçoes anteriores testadas com \"Bag of Words\" e ainda sua variação linear com TF-IDF. Entretanto, a técnica repete a mesma dificuldade das variações passadas ao também não conseguir um bom F1-score para a classe \"ruim\". Na realidade, assim como há havia acontecido com a variante linear, consegue ser pior e apresenta o mesmo problema para o seu cálculo, o que fica evidenciado na matriz de confusão mais abaixo em que se visualiza que o modelo também não acertou nenhuma previsão para a classe \"ruim\" nos testes realizados, classificando todas as avaliações de comentários como \"boa\"."
      ],
      "metadata": {
        "id": "nxlCsSSOKYE_"
      }
    },
    {
      "cell_type": "code",
      "source": [
        "print(metrics.classification_report(y_test, pred, target_names=avaliacoes_rotulos))\n",
        "print(avaliacoes_rotulos)\n",
        "print(cls.classes_)"
      ],
      "metadata": {
        "colab": {
          "base_uri": "https://localhost:8080/"
        },
        "id": "Bey22nFLFkWy",
        "outputId": "a857c2f8-d72e-449f-e1b8-78a508521c84"
      },
      "execution_count": null,
      "outputs": [
        {
          "output_type": "stream",
          "name": "stdout",
          "text": [
            "              precision    recall  f1-score   support\n",
            "\n",
            "        ruim       0.00      0.00      0.00       128\n",
            "         boa       0.92      1.00      0.96      1440\n",
            "\n",
            "    accuracy                           0.92      1568\n",
            "   macro avg       0.46      0.50      0.48      1568\n",
            "weighted avg       0.84      0.92      0.88      1568\n",
            "\n",
            "['ruim', 'boa']\n",
            "[0 1]\n"
          ]
        },
        {
          "output_type": "stream",
          "name": "stderr",
          "text": [
            "/usr/local/lib/python3.9/dist-packages/sklearn/metrics/_classification.py:1344: UndefinedMetricWarning: Precision and F-score are ill-defined and being set to 0.0 in labels with no predicted samples. Use `zero_division` parameter to control this behavior.\n",
            "  _warn_prf(average, modifier, msg_start, len(result))\n",
            "/usr/local/lib/python3.9/dist-packages/sklearn/metrics/_classification.py:1344: UndefinedMetricWarning: Precision and F-score are ill-defined and being set to 0.0 in labels with no predicted samples. Use `zero_division` parameter to control this behavior.\n",
            "  _warn_prf(average, modifier, msg_start, len(result))\n",
            "/usr/local/lib/python3.9/dist-packages/sklearn/metrics/_classification.py:1344: UndefinedMetricWarning: Precision and F-score are ill-defined and being set to 0.0 in labels with no predicted samples. Use `zero_division` parameter to control this behavior.\n",
            "  _warn_prf(average, modifier, msg_start, len(result))\n"
          ]
        }
      ]
    },
    {
      "cell_type": "code",
      "source": [
        "from sklearn.metrics import confusion_matrix, ConfusionMatrixDisplay\n",
        "\n",
        "cm = confusion_matrix(y_test, pred)\n",
        "disp = ConfusionMatrixDisplay(confusion_matrix=cm, display_labels=[\"Ruim\", \"Boa\"])\n",
        "disp.plot()\n",
        "plt.show()"
      ],
      "metadata": {
        "colab": {
          "base_uri": "https://localhost:8080/",
          "height": 311
        },
        "id": "uJaOBOOfKeao",
        "outputId": "4e51f4ba-ea10-4bb8-fe9b-c73466e4e6b0"
      },
      "execution_count": null,
      "outputs": [
        {
          "output_type": "display_data",
          "data": {
            "text/plain": [
              "<Figure size 900x300 with 2 Axes>"
            ],
            "image/png": "[encoded data removed]"
          },
          "metadata": {}
        }
      ]
    },
    {
      "cell_type": "markdown",
      "source": [
        "## SVM com dado vetorizado usando Embeddings"
      ],
      "metadata": {
        "id": "_M0zMr3RHT18"
      }
    },
    {
      "cell_type": "markdown",
      "source": [
        "Na abordagem fazendo uso de \"embeddings\", optou-se por usar o \"Word2Vec\" pré-treinado da biblioteca \"Gensim\", com auxílio da biblioteca \"nltk\" para geração dos \"tokens\" e processamento de texto."
      ],
      "metadata": {
        "id": "TtYseKQ_1F49"
      }
    },
    {
      "cell_type": "code",
      "source": [
        "# Pré-processamento textual para gerar tokens antes de treinar o modelo Word2Vec\n",
        "import nltk\n",
        "from nltk.tokenize import word_tokenize\n",
        "# tokenizador de sentença do nltk\n",
        "nltk.download('punkt')\n",
        "\n",
        "tokenized_sents = [word_tokenize(i) for i in data['comentario'].values]"
      ],
      "metadata": {
        "colab": {
          "base_uri": "https://localhost:8080/"
        },
        "id": "2alcUFyiHi21",
        "outputId": "332e45a6-a13e-479f-ad28-b6c94969b585"
      },
      "execution_count": null,
      "outputs": [
        {
          "output_type": "stream",
          "name": "stderr",
          "text": [
            "[nltk_data] Downloading package punkt to /root/nltk_data...\n",
            "[nltk_data]   Unzipping tokenizers/punkt.zip.\n"
          ]
        }
      ]
    },
    {
      "cell_type": "code",
      "source": [
        "# Treinando modelo Word2Vec com sentenças tokenizadas no passo anterior\n",
        "from gensim.models import Word2Vec\n",
        "\n",
        "model_comentario = Word2Vec(tokenized_sents, vector_size=50, window=5, min_count=1, workers=4)"
      ],
      "metadata": {
        "id": "5R9hs1dJHsPF"
      },
      "execution_count": null,
      "outputs": []
    },
    {
      "cell_type": "code",
      "source": [
        "# Exemplo dos vetores de embeddings gerados para o token \"rely\" presente no vocabulário\n",
        "model_comentario.wv['rely']"
      ],
      "metadata": {
        "colab": {
          "base_uri": "https://localhost:8080/"
        },
        "id": "0pOz9DlPnuON",
        "outputId": "e8fa91b7-416b-449c-a64f-0563df583a98"
      },
      "execution_count": null,
      "outputs": [
        {
          "output_type": "execute_result",
          "data": {
            "text/plain": [
              "array([ 0.03978902, -0.00631488, -0.0165826 ,  0.00178005,  0.04223435,\n",
              "       -0.05384026,  0.06279373,  0.09568366, -0.02574416,  0.01439488,\n",
              "        0.05472324, -0.07952483,  0.0703565 ,  0.03360213, -0.02223076,\n",
              "        0.02508537,  0.03957639,  0.04465064, -0.11242937, -0.02293733,\n",
              "        0.01466952,  0.01189443,  0.06340218, -0.00346899,  0.02774817,\n",
              "        0.03772026, -0.05158338,  0.00298197, -0.08064382, -0.03049918,\n",
              "        0.00142822,  0.02936568, -0.02782115,  0.00926813, -0.07451983,\n",
              "        0.05873785,  0.03201521,  0.01119602,  0.00799263, -0.08095308,\n",
              "        0.0683801 , -0.03235258, -0.00373098,  0.03029613,  0.07838054,\n",
              "        0.00150612,  0.001771  , -0.07187025,  0.00528144,  0.02726002],\n",
              "      dtype=float32)"
            ]
          },
          "metadata": {},
          "execution_count": 13
        }
      ]
    },
    {
      "cell_type": "code",
      "source": [
        "# Exemplo dos vetores de embeddings gerados para o token \"video\" presente no vocabulário\n",
        "model_comentario.wv['video']"
      ],
      "metadata": {
        "colab": {
          "base_uri": "https://localhost:8080/"
        },
        "id": "kvDPmU6NKkq3",
        "outputId": "3ab4abf4-b21b-495f-d0b7-4912e44901f0"
      },
      "execution_count": null,
      "outputs": [
        {
          "output_type": "execute_result",
          "data": {
            "text/plain": [
              "array([ 2.46482968e-01, -1.03480347e-01, -9.21995193e-02,  2.26948988e-02,\n",
              "        3.04817140e-01, -4.61056978e-01,  8.73234332e-01,  1.20886052e+00,\n",
              "       -3.27119708e-01,  8.13514888e-02,  7.59196460e-01, -1.06637859e+00,\n",
              "        8.79099250e-01,  5.71853697e-01, -2.40989268e-01,  3.28515083e-01,\n",
              "        3.19796860e-01,  5.68355918e-01, -1.44541633e+00, -1.61572039e-01,\n",
              "        8.63271803e-02,  3.41107771e-02,  7.24699497e-01, -2.33176738e-01,\n",
              "        4.59990025e-01,  3.23353291e-01, -4.47973073e-01,  4.01373807e-04,\n",
              "       -9.27041113e-01, -2.42229417e-01,  4.13841568e-02,  1.49718165e-01,\n",
              "       -3.70523870e-01,  2.12234482e-01, -7.37926006e-01,  5.95856845e-01,\n",
              "        4.72915709e-01,  3.44831795e-01, -1.03719145e-01, -9.80709076e-01,\n",
              "        9.19544995e-01, -3.30320805e-01,  3.59465890e-02,  3.60628605e-01,\n",
              "        9.25297797e-01, -1.73912138e-01,  2.06749558e-01, -6.08691812e-01,\n",
              "        1.51619464e-01,  1.60182461e-01], dtype=float32)"
            ]
          },
          "metadata": {},
          "execution_count": 14
        }
      ]
    },
    {
      "cell_type": "code",
      "source": [
        "# Remontando as sentenças dos comentários da base a partir da junção das matrizes correspondentes a cada token\n",
        "X, y = [], []\n",
        "max_len = 0\n",
        "\n",
        "for i, row in data.iterrows():\n",
        "  vetores = model_comentario.wv[word_tokenize(row['comentario'])]\n",
        "\n",
        "  max_len = max(max_len, len(vetores))\n",
        "  X.append(vetores)\n",
        "  y.append(row['avaliacao'])\n",
        "\n",
        "print(\"max_len: {}\".format(max_len))"
      ],
      "metadata": {
        "colab": {
          "base_uri": "https://localhost:8080/"
        },
        "id": "jx95fguNsjmz",
        "outputId": "43da4675-32da-4bfd-b566-5b4729205e7c"
      },
      "execution_count": null,
      "outputs": [
        {
          "output_type": "stream",
          "name": "stdout",
          "text": [
            "max_len: 71\n"
          ]
        }
      ]
    },
    {
      "cell_type": "code",
      "source": [
        "# Como as sentenças tem diferentes tamanhos, faz-se uso de padding para padronizar o tamanho \n",
        "# usando como referência o maior tamanho, registrado no passo anterior em \"max_len\".\n",
        "\n",
        "def transform(exemplos, dimension):\n",
        "  results = np.zeros((len(exemplos), dimension, 50))\n",
        "  for i, sequence in enumerate(exemplos):\n",
        "    results[i, :len(sequence), :] = sequence\n",
        "  return results\n",
        " \n",
        "X = transform(X, max_len)\n",
        "y = np.array(y).astype(\"int64\")"
      ],
      "metadata": {
        "id": "u07c6NuiwvRK"
      },
      "execution_count": null,
      "outputs": []
    },
    {
      "cell_type": "code",
      "source": [
        "# As senteças tem no máximo 71 tokens, cada qual codificado com embeddings de tamanho 50\n",
        "X.shape"
      ],
      "metadata": {
        "colab": {
          "base_uri": "https://localhost:8080/"
        },
        "id": "zjO_cb_xxUsa",
        "outputId": "58d06f18-ceec-4abb-e8f9-0c900aafeaf4"
      },
      "execution_count": null,
      "outputs": [
        {
          "output_type": "execute_result",
          "data": {
            "text/plain": [
              "(6270, 71, 50)"
            ]
          },
          "metadata": {},
          "execution_count": 17
        }
      ]
    },
    {
      "cell_type": "code",
      "source": [
        "# Para uso no SVM, é preciso juntar as duas dimensões superiores em uma só por meio do comando \"reshape\"\n",
        "X = X.reshape(-1, X.shape[1] * X.shape[2])"
      ],
      "metadata": {
        "id": "1J_Xt1gRxywy"
      },
      "execution_count": null,
      "outputs": []
    },
    {
      "cell_type": "code",
      "source": [
        "X.shape"
      ],
      "metadata": {
        "colab": {
          "base_uri": "https://localhost:8080/"
        },
        "id": "-naFCiWMyCLX",
        "outputId": "6399be93-bad6-4cf1-a18a-f7e69d891e3a"
      },
      "execution_count": null,
      "outputs": [
        {
          "output_type": "execute_result",
          "data": {
            "text/plain": [
              "(6270, 3550)"
            ]
          },
          "metadata": {},
          "execution_count": 19
        }
      ]
    },
    {
      "cell_type": "code",
      "source": [
        "# Separação dos dados para treinamento e teste, sendo 25% para este último.\n",
        "from sklearn.model_selection import train_test_split\n",
        "\n",
        "X_train, X_test, y_train, y_test = train_test_split(X, y, test_size=0.25, random_state=SEED)"
      ],
      "metadata": {
        "id": "rzgbtvzN3Yux"
      },
      "execution_count": null,
      "outputs": []
    },
    {
      "cell_type": "markdown",
      "source": [
        "SVM LINEAR - usando abordagem mais simples, antes de fazer uso do SVM não linear\n",
        "\n"
      ],
      "metadata": {
        "id": "Prgb-Mfr0G8u"
      }
    },
    {
      "cell_type": "code",
      "source": [
        "# SVM LINEAR\n",
        "\n",
        "cls = svm.SVC(kernel=\"linear\",C=0.05)\n",
        "\n",
        "cls.fit(X_train, y_train)\n",
        "\n",
        "pred = cls.predict(X_test)\n",
        "\n",
        "print(\"Acurária no conj. de teste = \", cls.score(X_test, y_test))\n",
        "\n",
        "print(\"Acurária no conj. de treino = \",cls.score(X_train, y_train))"
      ],
      "metadata": {
        "colab": {
          "base_uri": "https://localhost:8080/"
        },
        "outputId": "0ff4bbda-fd6a-4daf-e502-3f1829a6dde0",
        "id": "J1hhy0U3HT19"
      },
      "execution_count": null,
      "outputs": [
        {
          "output_type": "stream",
          "name": "stdout",
          "text": [
            "Acurária no conj. de teste =  0.9190051020408163\n",
            "Acurária no conj. de treino =  0.9198213526159081\n"
          ]
        }
      ]
    },
    {
      "cell_type": "markdown",
      "source": [
        "Em relação às métricas de avaliação, é possível constatar que a exemplo das variações anteriores, o modelo alcança uma boa acurácia, porém sua fragilidade fica clara quando se observa o baixo F1-score para a classe \"ruim\". O desbalanceamento dos dados de treinamento também está presente repercutinido negativamente no desempenho do modelo final. A matriz de confusão mais abaixo deixa claro que o modelo tende a apresentat como resultado da previsão a classe \"boa\" durante os testes realizados."
      ],
      "metadata": {
        "id": "ktgMaSFRxBen"
      }
    },
    {
      "cell_type": "code",
      "source": [
        "print(metrics.classification_report(y_test, pred, target_names=avaliacoes_rotulos))\n",
        "print(avaliacoes_rotulos)\n",
        "print(cls.classes_)"
      ],
      "metadata": {
        "colab": {
          "base_uri": "https://localhost:8080/"
        },
        "outputId": "feb7542a-3039-421c-bda9-c689b89b18a0",
        "id": "TCXbp5HUHT19"
      },
      "execution_count": null,
      "outputs": [
        {
          "output_type": "stream",
          "name": "stdout",
          "text": [
            "              precision    recall  f1-score   support\n",
            "\n",
            "        ruim       0.67      0.02      0.03       128\n",
            "         boa       0.92      1.00      0.96      1440\n",
            "\n",
            "    accuracy                           0.92      1568\n",
            "   macro avg       0.79      0.51      0.49      1568\n",
            "weighted avg       0.90      0.92      0.88      1568\n",
            "\n",
            "['ruim', 'boa']\n",
            "[0 1]\n"
          ]
        }
      ]
    },
    {
      "cell_type": "code",
      "source": [
        "from sklearn.metrics import confusion_matrix, ConfusionMatrixDisplay\n",
        "\n",
        "cm = confusion_matrix(y_test, pred)\n",
        "disp = ConfusionMatrixDisplay(confusion_matrix=cm, display_labels=[\"Ruim\", \"Boa\"])\n",
        "disp.plot()\n",
        "plt.show()"
      ],
      "metadata": {
        "colab": {
          "base_uri": "https://localhost:8080/",
          "height": 311
        },
        "id": "5dy7xZThLhbA",
        "outputId": "a8971385-8d99-4d9f-e427-ef0d194205c4"
      },
      "execution_count": null,
      "outputs": [
        {
          "output_type": "display_data",
          "data": {
            "text/plain": [
              "<Figure size 900x300 with 2 Axes>"
            ],
            "image/png": "[encoded data removed]"
          },
          "metadata": {}
        }
      ]
    },
    {
      "cell_type": "markdown",
      "source": [
        "SVM NÃO LINEAR - fazendo uso da variação não linear do SVM para avaliar se há ganho nos resultados,\n",
        "comparativamente à sua versão linear usada anteriormente."
      ],
      "metadata": {
        "id": "dxoX85Dlz5JY"
      }
    },
    {
      "cell_type": "code",
      "source": [
        "# SVM NÃO LINEAR\n",
        "\n",
        "#create a classifier\n",
        "cls = svm.SVC(kernel=\"rbf\",C=2,gamma=0.01)   # testar também com gamma=0.1\n",
        "#train the model\n",
        "cls.fit(X_train, y_train)\n",
        "#predict the response\n",
        "pred = cls.predict(X_test)\n",
        "\n",
        "# Acurácia no conj. de teste\n",
        "print(\"Acurária no conj. de teste = \", cls.score(X_test, y_test))\n",
        "# Acurácia no conj. de treinamento\n",
        "print(\"Acurária no conj. de treino = \",cls.score(X_train, y_train))"
      ],
      "metadata": {
        "colab": {
          "base_uri": "https://localhost:8080/"
        },
        "outputId": "cdd60c5b-e268-432d-c0eb-f10eaf093ac3",
        "id": "kI1C3K-mHT19"
      },
      "execution_count": null,
      "outputs": [
        {
          "output_type": "stream",
          "name": "stdout",
          "text": [
            "Acurária no conj. de teste =  0.9215561224489796\n",
            "Acurária no conj. de treino =  0.9257762654189706\n"
          ]
        }
      ]
    },
    {
      "cell_type": "markdown",
      "source": [
        "Em relação às métricas de avaliação, a situação se repete no modelo não linear, ainda que se esteja utilizando \"embeddings\".O modelo alcança uma boa acurácia, disfarçando, aparentemente, a fragilidade do modelo até que se observa seu baixo F1-score para a classe \"ruim\", desta feita similar ao melhor nível observado quando da utilização do \"bag of words\". O desbalanceamento dos dados de treinamento, mais uma vez, está presente repercutinido negativamente no desempenho do modelo final. A matriz de confusão mais abaixo deixa claro que o modelo tende a apresentar como resultado da previsão a classe \"boa\" durante os testes realizados."
      ],
      "metadata": {
        "id": "jlBeJ6Bbyuq6"
      }
    },
    {
      "cell_type": "code",
      "source": [
        "print(metrics.classification_report(y_test, pred, target_names=avaliacoes_rotulos))\n",
        "print(avaliacoes_rotulos)\n",
        "print(cls.classes_)"
      ],
      "metadata": {
        "colab": {
          "base_uri": "https://localhost:8080/"
        },
        "outputId": "bd7ab776-a465-418c-bac6-96c2b7b98271",
        "id": "tstPE018HT1-"
      },
      "execution_count": null,
      "outputs": [
        {
          "output_type": "stream",
          "name": "stdout",
          "text": [
            "              precision    recall  f1-score   support\n",
            "\n",
            "        ruim       1.00      0.04      0.08       128\n",
            "         boa       0.92      1.00      0.96      1440\n",
            "\n",
            "    accuracy                           0.92      1568\n",
            "   macro avg       0.96      0.52      0.52      1568\n",
            "weighted avg       0.93      0.92      0.89      1568\n",
            "\n",
            "['ruim', 'boa']\n",
            "[0 1]\n"
          ]
        }
      ]
    },
    {
      "cell_type": "code",
      "source": [
        "from sklearn.metrics import confusion_matrix, ConfusionMatrixDisplay\n",
        "\n",
        "cm = confusion_matrix(y_test, pred)\n",
        "disp = ConfusionMatrixDisplay(confusion_matrix=cm, display_labels=[\"Ruim\", \"Boa\"])\n",
        "disp.plot()\n",
        "plt.show()"
      ],
      "metadata": {
        "colab": {
          "base_uri": "https://localhost:8080/",
          "height": 311
        },
        "id": "AexnwECiLmt1",
        "outputId": "ce928c18-3e87-4e22-a7ab-bea13e2fdd1b"
      },
      "execution_count": null,
      "outputs": [
        {
          "output_type": "display_data",
          "data": {
            "text/plain": [
              "<Figure size 900x300 with 2 Axes>"
            ],
            "image/png": "[encoded data removed]"
          },
          "metadata": {}
        }
      ]
    }
  ]
}