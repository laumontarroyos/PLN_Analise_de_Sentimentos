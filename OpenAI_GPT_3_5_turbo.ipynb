{
  "nbformat": 4,
  "nbformat_minor": 0,
  "metadata": {
    "colab": {
      "provenance": []
    },
    "kernelspec": {
      "name": "python3",
      "display_name": "Python 3"
    },
    "language_info": {
      "name": "python"
    }
  },
  "cells": [
    {
      "cell_type": "markdown",
      "source": [
        "# Projeto Final: Análise de Sentimentos usando avaliações coletadas de curso da plataforma \"Coursera\"\n",
        "\n",
        "Disciplina: Processamento de Linguagem Natural\n",
        "\n",
        "Professores: Luciano Barbosa / Johny Moreira \n",
        "\n",
        "Aluno: Laureano Montarroyos Fo\n",
        "\n",
        "Especialização Deep Learning - Turma 2022/2023\n",
        "\n",
        "Cin.AI - UFPE"
      ],
      "metadata": {
        "id": "20041o8tNUTH"
      }
    },
    {
      "cell_type": "markdown",
      "source": [
        "Neste notebook, selecioanamos algumas poucas amostras de avaliações da base montado para o projeto que foi capturada de dados de um curso da plataforma \"Coursera\". Testaremos o uso da API da OpenAI de acesso ao modelo GPT-3.5-turbo para classificar uma avaliação, após ter instruído pelo \"prompt\" como desejamos que o modelo responda."
      ],
      "metadata": {
        "id": "OzHc7eP7abi4"
      }
    },
    {
      "cell_type": "code",
      "source": [
        "!pip install -q openai"
      ],
      "metadata": {
        "colab": {
          "base_uri": "https://localhost:8080/"
        },
        "id": "aPdfyiuYMk7G",
        "outputId": "834471a5-bd4c-47d7-aa43-84a362c6f355"
      },
      "execution_count": null,
      "outputs": [
        {
          "output_type": "stream",
          "name": "stdout",
          "text": [
            "\u001b[2K     \u001b[90m━━━━━━━━━━━━━━━━━━━━━━━━━━━━━━━━━━━━━━━━\u001b[0m \u001b[32m70.3/70.3 KB\u001b[0m \u001b[31m6.5 MB/s\u001b[0m eta \u001b[36m0:00:00\u001b[0m\n",
            "\u001b[2K     \u001b[90m━━━━━━━━━━━━━━━━━━━━━━━━━━━━━━━━━━━━━━━━\u001b[0m \u001b[32m1.0/1.0 MB\u001b[0m \u001b[31m65.4 MB/s\u001b[0m eta \u001b[36m0:00:00\u001b[0m\n",
            "\u001b[2K     \u001b[90m━━━━━━━━━━━━━━━━━━━━━━━━━━━━━━━━━━━━━━\u001b[0m \u001b[32m158.8/158.8 KB\u001b[0m \u001b[31m18.3 MB/s\u001b[0m eta \u001b[36m0:00:00\u001b[0m\n",
            "\u001b[2K     \u001b[90m━━━━━━━━━━━━━━━━━━━━━━━━━━━━━━━━━━━━━━\u001b[0m \u001b[32m114.2/114.2 KB\u001b[0m \u001b[31m13.0 MB/s\u001b[0m eta \u001b[36m0:00:00\u001b[0m\n",
            "\u001b[2K     \u001b[90m━━━━━━━━━━━━━━━━━━━━━━━━━━━━━━━━━━━━━━\u001b[0m \u001b[32m264.6/264.6 KB\u001b[0m \u001b[31m30.7 MB/s\u001b[0m eta \u001b[36m0:00:00\u001b[0m\n",
            "\u001b[?25h"
          ]
        }
      ]
    },
    {
      "cell_type": "code",
      "source": [
        "import openai\n",
        "openai.api_key = \"aqui_deve_ser_informada_a_chave_gerada_pela_conta_do_usuario_na_OpenAI_que_executara_notebook\"\n",
        "model_id = \"gpt-3.5-turbo\""
      ],
      "metadata": {
        "id": "BVZ22VBMMk-h"
      },
      "execution_count": null,
      "outputs": []
    },
    {
      "cell_type": "code",
      "source": [
        "completion = openai.ChatCompletion.create(\n",
        "model=model_id,\n",
        "\n",
        "messages=[\n",
        "{\"role\": \"user\", \"content\": \"\"\"Com base em exemplos de classificação de sentença como 1 ou 0 abaixo, classifique a nova sentença apresentada. Exemplos: \n",
        "sentença:\"The course is very good and has taught me the all the important concepts required to build a sequence model. The assignments are also very neatly and precisely designed for the real world application.\"\n",
        "classificação:1\n",
        "sentença:\"The lectures covers lots of SOTA deep learning algorithms and the lectures are well-designed and easy to understand. The programming assignment is really good to enhance the understanding of lectures.\"\n",
        "classificação:1\n",
        "sentença:\"Very good. I have no complaints. I though instruction was very  clear. Assignments were very helpful and challenging enough that I learned something, but not so challenging that I got stuck too often.\"\n",
        "classificação:1\n",
        "sentença:\"Tons of editing errors in lectures, and the programming problems rely more on knowledge of Keras (essentially untaught throughout the course) than they do on understanding of lecture material. A disgraceful end to an otherwise solid course sequence.\"\n",
        "classificação:0\n",
        "sentença:\"Sadly, since these classes are no longer based on REAL Stanford classes the quality has gone downhill.  I would recommend not taking the deeplearng_ai classes.  Stick to classes offered by currently employed professors at established universities--preferably classes that ARE the same as the university classes or, at least, those derived from actual classes.\"\n",
        "classificação:0\n",
        "sentença:\"super unorganized! really really bad\"\n",
        "classificação:0\n",
        "Qual a classificação para a sentença:\"The unit tests in the programming assignments are poorly implemented. They will fail you if your code is not exactly as expected, even when it runs and returns the correct output.\" \"\"\"}\n",
        "]\n",
        ")\n"
      ],
      "metadata": {
        "id": "8vFZV1VuMlB_"
      },
      "execution_count": null,
      "outputs": []
    },
    {
      "cell_type": "code",
      "source": [
        "resposta = completion.choices[0].message.content\n",
        "print(resposta)"
      ],
      "metadata": {
        "colab": {
          "base_uri": "https://localhost:8080/"
        },
        "id": "i22ydOQVMlF4",
        "outputId": "44217923-55f3-462e-9364-b67dea6c785c"
      },
      "execution_count": null,
      "outputs": [
        {
          "output_type": "stream",
          "name": "stdout",
          "text": [
            "classificação: 0\n"
          ]
        }
      ]
    },
    {
      "cell_type": "markdown",
      "source": [
        "Como esperado, o modelo \"gpt-3.5-turbo\" classifica a sentença com um zero como resposta, que lhe foi ensinado como sendo uma avaliação ruim para o curso."
      ],
      "metadata": {
        "id": "FRDOOLViZqO1"
      }
    }
  ]
}