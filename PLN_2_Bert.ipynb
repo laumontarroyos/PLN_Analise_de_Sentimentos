{
  "nbformat": 4,
  "nbformat_minor": 0,
  "metadata": {
    "colab": {
      "provenance": [],
      "collapsed_sections": [
        "SaG48_8AZCvB",
        "4tlkvIkwwZ1g",
        "fVo_AnT0l26j"
      ],
      "machine_shape": "hm"
    },
    "kernelspec": {
      "name": "python3",
      "display_name": "Python 3"
    },
    "language_info": {
      "name": "python"
    },
    "accelerator": "GPU",
    "gpuClass": "premium"
  },
  "cells": [
    {
      "cell_type": "markdown",
      "source": [
        "# Projeto Final: Análise de Sentimentos usando avaliações coletadas de curso da plataforma \"Coursera\"\n",
        "\n",
        "Disciplina: Processamento de Linguagem Natural\n",
        "\n",
        "Professores: Luciano Barbosa / Johny Moreira \n",
        "\n",
        "Aluno: Laureano Montarroyos Fo\n",
        "\n",
        "Especialização Deep Learning - Turma 2022/2023\n",
        "\n",
        "Cin.AI - UFPE"
      ],
      "metadata": {
        "id": "bvt-T6Tilorh"
      }
    },
    {
      "cell_type": "markdown",
      "source": [
        ".Fonte de Dados: coletou-se dados de avaliações feitas para o curso \"Sequence Models\", capacitação que faz parte da especialização em Deep Learning da plataforma on-line de cursos da \"Coursera\", cujo endereço é o \"https://www.coursera.org/learn/nlp-sequence-models\". Foram capturadas 6467 avaliações em 21/03/2023 por um programa elaborado em python, fazendo uso da biblioteca \"Scrapy\", a partir do endereço \"https://www.coursera.org/learn/nlp-sequence-models/reviews?page=1\"."
      ],
      "metadata": {
        "id": "hENAKgtEAP_m"
      }
    },
    {
      "cell_type": "code",
      "source": [
        "gpu_info = !nvidia-smi\n",
        "gpu_info = '\\n'.join(gpu_info)\n",
        "if gpu_info.find('failed') >= 0:\n",
        "  print('Not connected to a GPU')\n",
        "else:\n",
        "  print(gpu_info)"
      ],
      "metadata": {
        "colab": {
          "base_uri": "https://localhost:8080/"
        },
        "id": "WtD4Y6PgIhGe",
        "outputId": "c35711fd-3035-4616-85d4-bd743400617c"
      },
      "execution_count": null,
      "outputs": [
        {
          "output_type": "stream",
          "name": "stdout",
          "text": [
            "Fri Apr 14 23:36:38 2023       \n",
            "+-----------------------------------------------------------------------------+\n",
            "| NVIDIA-SMI 525.85.12    Driver Version: 525.85.12    CUDA Version: 12.0     |\n",
            "|-------------------------------+----------------------+----------------------+\n",
            "| GPU  Name        Persistence-M| Bus-Id        Disp.A | Volatile Uncorr. ECC |\n",
            "| Fan  Temp  Perf  Pwr:Usage/Cap|         Memory-Usage | GPU-Util  Compute M. |\n",
            "|                               |                      |               MIG M. |\n",
            "|===============================+======================+======================|\n",
            "|   0  NVIDIA A100-SXM...  Off  | 00000000:00:04.0 Off |                    0 |\n",
            "| N/A   32C    P0    51W / 400W |  33773MiB / 40960MiB |      0%      Default |\n",
            "|                               |                      |             Disabled |\n",
            "+-------------------------------+----------------------+----------------------+\n",
            "                                                                               \n",
            "+-----------------------------------------------------------------------------+\n",
            "| Processes:                                                                  |\n",
            "|  GPU   GI   CI        PID   Type   Process name                  GPU Memory |\n",
            "|        ID   ID                                                   Usage      |\n",
            "|=============================================================================|\n",
            "+-----------------------------------------------------------------------------+\n"
          ]
        }
      ]
    },
    {
      "cell_type": "code",
      "source": [
        "from psutil import virtual_memory\n",
        "ram_gb = virtual_memory().total / 1e9\n",
        "print('Your runtime has {:.1f} gigabytes of available RAM\\n'.format(ram_gb))\n",
        "\n",
        "if ram_gb < 20:\n",
        "  print('Not using a high-RAM runtime')\n",
        "else:\n",
        "  print('You are using a high-RAM runtime!')"
      ],
      "metadata": {
        "colab": {
          "base_uri": "https://localhost:8080/"
        },
        "id": "CKHhcq42Izp_",
        "outputId": "0397565b-4981-4a16-fe0c-19c7ca9869c3"
      },
      "execution_count": null,
      "outputs": [
        {
          "output_type": "stream",
          "name": "stdout",
          "text": [
            "Your runtime has 89.6 gigabytes of available RAM\n",
            "\n",
            "You are using a high-RAM runtime!\n"
          ]
        }
      ]
    },
    {
      "cell_type": "code",
      "source": [
        "!pip install -q numpy==1.24.0"
      ],
      "metadata": {
        "id": "0MfpIr29hjQ1"
      },
      "execution_count": null,
      "outputs": []
    },
    {
      "cell_type": "code",
      "source": [
        "!pip install -q -U \"tensorflow==2.8.*\""
      ],
      "metadata": {
        "id": "P1g9Ft34j2o8",
        "colab": {
          "base_uri": "https://localhost:8080/"
        },
        "outputId": "0464cff9-8ee5-441d-a564-0bfcb4869920"
      },
      "execution_count": null,
      "outputs": [
        {
          "output_type": "stream",
          "name": "stdout",
          "text": [
            "\u001b[2K     \u001b[90m━━━━━━━━━━━━━━━━━━━━━━━━━━━━━━━━━━━━━━━\u001b[0m \u001b[32m498.1/498.1 MB\u001b[0m \u001b[31m2.2 MB/s\u001b[0m eta \u001b[36m0:00:00\u001b[0m\n",
            "\u001b[2K     \u001b[90m━━━━━━━━━━━━━━━━━━━━━━━━━━━━━━━━━━━━━━\u001b[0m \u001b[32m462.3/462.3 kB\u001b[0m \u001b[31m43.7 MB/s\u001b[0m eta \u001b[36m0:00:00\u001b[0m\n",
            "\u001b[2K     \u001b[90m━━━━━━━━━━━━━━━━━━━━━━━━━━━━━━━━━━━━━━━━\u001b[0m \u001b[32m5.8/5.8 MB\u001b[0m \u001b[31m99.9 MB/s\u001b[0m eta \u001b[36m0:00:00\u001b[0m\n",
            "\u001b[2K     \u001b[90m━━━━━━━━━━━━━━━━━━━━━━━━━━━━━━━━━━━━━━━━\u001b[0m \u001b[32m42.6/42.6 kB\u001b[0m \u001b[31m5.1 MB/s\u001b[0m eta \u001b[36m0:00:00\u001b[0m\n",
            "\u001b[2K     \u001b[90m━━━━━━━━━━━━━━━━━━━━━━━━━━━━━━━━━━━━━━━━\u001b[0m \u001b[32m1.1/1.1 MB\u001b[0m \u001b[31m65.6 MB/s\u001b[0m eta \u001b[36m0:00:00\u001b[0m\n",
            "\u001b[2K     \u001b[90m━━━━━━━━━━━━━━━━━━━━━━━━━━━━━━━━━━━━━━━━\u001b[0m \u001b[32m1.4/1.4 MB\u001b[0m \u001b[31m79.2 MB/s\u001b[0m eta \u001b[36m0:00:00\u001b[0m\n",
            "\u001b[2K     \u001b[90m━━━━━━━━━━━━━━━━━━━━━━━━━━━━━━━━━━━━━━━━\u001b[0m \u001b[32m4.9/4.9 MB\u001b[0m \u001b[31m104.0 MB/s\u001b[0m eta \u001b[36m0:00:00\u001b[0m\n",
            "\u001b[?25h"
          ]
        }
      ]
    },
    {
      "cell_type": "code",
      "source": [
        "!pip install -q tf-models-official==2.3.0"
      ],
      "metadata": {
        "id": "UDYF5_urj8OU",
        "colab": {
          "base_uri": "https://localhost:8080/"
        },
        "outputId": "3d0f1fae-d584-4288-858a-b2e4112845cd"
      },
      "execution_count": null,
      "outputs": [
        {
          "output_type": "stream",
          "name": "stdout",
          "text": [
            "\u001b[2K     \u001b[90m━━━━━━━━━━━━━━━━━━━━━━━━━━━━━━━━━━━━━━\u001b[0m \u001b[32m840.9/840.9 kB\u001b[0m \u001b[31m18.7 MB/s\u001b[0m eta \u001b[36m0:00:00\u001b[0m\n",
            "\u001b[2K     \u001b[90m━━━━━━━━━━━━━━━━━━━━━━━━━━━━━━━━━━━━━━━━\u001b[0m \u001b[32m1.3/1.3 MB\u001b[0m \u001b[31m66.9 MB/s\u001b[0m eta \u001b[36m0:00:00\u001b[0m\n",
            "\u001b[2K     \u001b[90m━━━━━━━━━━━━━━━━━━━━━━━━━━━━━━━━━━━━━━\u001b[0m \u001b[32m591.0/591.0 kB\u001b[0m \u001b[31m49.0 MB/s\u001b[0m eta \u001b[36m0:00:00\u001b[0m\n",
            "\u001b[2K     \u001b[90m━━━━━━━━━━━━━━━━━━━━━━━━━━━━━━━━━━━━━━\u001b[0m \u001b[32m240.6/240.6 kB\u001b[0m \u001b[31m27.3 MB/s\u001b[0m eta \u001b[36m0:00:00\u001b[0m\n",
            "\u001b[?25h"
          ]
        }
      ]
    },
    {
      "cell_type": "code",
      "execution_count": null,
      "metadata": {
        "id": "9anLHKbGlbmH"
      },
      "outputs": [],
      "source": [
        "# bibliotecas básicas\n",
        "import pandas as pd\n",
        "import numpy as np\n",
        "from matplotlib import pyplot as plt\n",
        "from matplotlib.pylab import rcParams"
      ]
    },
    {
      "cell_type": "code",
      "source": [
        "# Configurando tamanho das imagens\n",
        "rcParams['figure.figsize'] = 9, 3"
      ],
      "metadata": {
        "id": "CEKC3R4UJ6Wv"
      },
      "execution_count": null,
      "outputs": []
    },
    {
      "cell_type": "code",
      "source": [
        "from google.colab import drive\n",
        "drive.mount('/content/gdrive', force_remount=True)"
      ],
      "metadata": {
        "colab": {
          "base_uri": "https://localhost:8080/"
        },
        "id": "KuKsbKTblcmt",
        "outputId": "9ad4b3fd-bcd9-4083-831f-398c198f8c03"
      },
      "execution_count": null,
      "outputs": [
        {
          "output_type": "stream",
          "name": "stdout",
          "text": [
            "Mounted at /content/gdrive\n"
          ]
        }
      ]
    },
    {
      "cell_type": "code",
      "source": [
        "%cd /content/gdrive/MyDrive/Disciplinas/Processamento de Linguagem Natural/Projeto\n",
        "\n",
        "\n",
        "!ls"
      ],
      "metadata": {
        "colab": {
          "base_uri": "https://localhost:8080/"
        },
        "id": "WWS5aULylcqE",
        "outputId": "bf959020-d279-467a-f31e-7126baba1caf"
      },
      "execution_count": null,
      "outputs": [
        {
          "output_type": "stream",
          "name": "stdout",
          "text": [
            "/content/gdrive/MyDrive/Disciplinas/Processamento de Linguagem Natural/Projeto\n",
            " coursera.csv\t\t\t    ExplorarBase.ipynb\n",
            " coursera-processado.csv\t    In-Context-Learning.ipynb\n",
            " coursera-processado-para-SVM.csv   PLN-Bert.ipynb\n",
            " coursera.py\t\t\t    PLN-SVM02.ipynb\n",
            "'Documento sem título.gdoc'\t    saved_model\n"
          ]
        }
      ]
    },
    {
      "cell_type": "markdown",
      "source": [
        "# Pré-processamento do aquivo CSV com dados coletados da plataforma da \"Coursera\""
      ],
      "metadata": {
        "id": "SaG48_8AZCvB"
      }
    },
    {
      "cell_type": "code",
      "source": [
        "df = pd.read_csv(\"coursera.csv\")\n",
        "df.shape"
      ],
      "metadata": {
        "colab": {
          "base_uri": "https://localhost:8080/"
        },
        "id": "hbN9OZv-mUuG",
        "outputId": "1144162f-3b99-406f-f4d3-dfbb61d76413"
      },
      "execution_count": null,
      "outputs": [
        {
          "output_type": "execute_result",
          "data": {
            "text/plain": [
              "(6467, 3)"
            ]
          },
          "metadata": {},
          "execution_count": 4
        }
      ]
    },
    {
      "cell_type": "code",
      "source": [
        "df.head()"
      ],
      "metadata": {
        "colab": {
          "base_uri": "https://localhost:8080/",
          "height": 206
        },
        "id": "UTFWVK4vmeHS",
        "outputId": "eb3e6a03-fc6c-418a-cba1-df6284c1da94"
      },
      "execution_count": null,
      "outputs": [
        {
          "output_type": "execute_result",
          "data": {
            "text/plain": [
              "   indice                                        estrelas  \\\n",
              "0       1                Filled Star:Star:Star:Star:Star:   \n",
              "1       2         Filled Star:Filled Star:Star:Star:Star:   \n",
              "2       3                Filled Star:Star:Star:Star:Star:   \n",
              "3       4  Filled Star:Filled Star:Filled Star:Star:Star:   \n",
              "4       5         Filled Star:Filled Star:Star:Star:Star:   \n",
              "\n",
              "                                          comentario  \n",
              "0  Tons of editing errors in lectures, and the pr...  \n",
              "1  This course is by far the weakest out of the 5...  \n",
              "2  Full of appalling errors that have been presen...  \n",
              "3  I really like the deeplearning.ai specializati...  \n",
              "4  The lectures were great. Andrew is a wonderful...  "
            ],
            "text/html": [
              "\n",
              "  <div id=\"df-b8628e3b-b05b-49eb-a512-d760cd2e56bf\">\n",
              "    <div class=\"colab-df-container\">\n",
              "      <div>\n",
              "<style scoped>\n",
              "    .dataframe tbody tr th:only-of-type {\n",
              "        vertical-align: middle;\n",
              "    }\n",
              "\n",
              "    .dataframe tbody tr th {\n",
              "        vertical-align: top;\n",
              "    }\n",
              "\n",
              "    .dataframe thead th {\n",
              "        text-align: right;\n",
              "    }\n",
              "</style>\n",
              "<table border=\"1\" class=\"dataframe\">\n",
              "  <thead>\n",
              "    <tr style=\"text-align: right;\">\n",
              "      <th></th>\n",
              "      <th>indice</th>\n",
              "      <th>estrelas</th>\n",
              "      <th>comentario</th>\n",
              "    </tr>\n",
              "  </thead>\n",
              "  <tbody>\n",
              "    <tr>\n",
              "      <th>0</th>\n",
              "      <td>1</td>\n",
              "      <td>Filled Star:Star:Star:Star:Star:</td>\n",
              "      <td>Tons of editing errors in lectures, and the pr...</td>\n",
              "    </tr>\n",
              "    <tr>\n",
              "      <th>1</th>\n",
              "      <td>2</td>\n",
              "      <td>Filled Star:Filled Star:Star:Star:Star:</td>\n",
              "      <td>This course is by far the weakest out of the 5...</td>\n",
              "    </tr>\n",
              "    <tr>\n",
              "      <th>2</th>\n",
              "      <td>3</td>\n",
              "      <td>Filled Star:Star:Star:Star:Star:</td>\n",
              "      <td>Full of appalling errors that have been presen...</td>\n",
              "    </tr>\n",
              "    <tr>\n",
              "      <th>3</th>\n",
              "      <td>4</td>\n",
              "      <td>Filled Star:Filled Star:Filled Star:Star:Star:</td>\n",
              "      <td>I really like the deeplearning.ai specializati...</td>\n",
              "    </tr>\n",
              "    <tr>\n",
              "      <th>4</th>\n",
              "      <td>5</td>\n",
              "      <td>Filled Star:Filled Star:Star:Star:Star:</td>\n",
              "      <td>The lectures were great. Andrew is a wonderful...</td>\n",
              "    </tr>\n",
              "  </tbody>\n",
              "</table>\n",
              "</div>\n",
              "      <button class=\"colab-df-convert\" onclick=\"convertToInteractive('df-b8628e3b-b05b-49eb-a512-d760cd2e56bf')\"\n",
              "              title=\"Convert this dataframe to an interactive table.\"\n",
              "              style=\"display:none;\">\n",
              "        \n",
              "  <svg xmlns=\"http://www.w3.org/2000/svg\" height=\"24px\"viewBox=\"0 0 24 24\"\n",
              "       width=\"24px\">\n",
              "    <path d=\"M0 0h24v24H0V0z\" fill=\"none\"/>\n",
              "    <path d=\"M18.56 5.44l.94 2.06.94-2.06 2.06-.94-2.06-.94-.94-2.06-.94 2.06-2.06.94zm-11 1L8.5 8.5l.94-2.06 2.06-.94-2.06-.94L8.5 2.5l-.94 2.06-2.06.94zm10 10l.94 2.06.94-2.06 2.06-.94-2.06-.94-.94-2.06-.94 2.06-2.06.94z\"/><path d=\"M17.41 7.96l-1.37-1.37c-.4-.4-.92-.59-1.43-.59-.52 0-1.04.2-1.43.59L10.3 9.45l-7.72 7.72c-.78.78-.78 2.05 0 2.83L4 21.41c.39.39.9.59 1.41.59.51 0 1.02-.2 1.41-.59l7.78-7.78 2.81-2.81c.8-.78.8-2.07 0-2.86zM5.41 20L4 18.59l7.72-7.72 1.47 1.35L5.41 20z\"/>\n",
              "  </svg>\n",
              "      </button>\n",
              "      \n",
              "  <style>\n",
              "    .colab-df-container {\n",
              "      display:flex;\n",
              "      flex-wrap:wrap;\n",
              "      gap: 12px;\n",
              "    }\n",
              "\n",
              "    .colab-df-convert {\n",
              "      background-color: #E8F0FE;\n",
              "      border: none;\n",
              "      border-radius: 50%;\n",
              "      cursor: pointer;\n",
              "      display: none;\n",
              "      fill: #1967D2;\n",
              "      height: 32px;\n",
              "      padding: 0 0 0 0;\n",
              "      width: 32px;\n",
              "    }\n",
              "\n",
              "    .colab-df-convert:hover {\n",
              "      background-color: #E2EBFA;\n",
              "      box-shadow: 0px 1px 2px rgba(60, 64, 67, 0.3), 0px 1px 3px 1px rgba(60, 64, 67, 0.15);\n",
              "      fill: #174EA6;\n",
              "    }\n",
              "\n",
              "    [theme=dark] .colab-df-convert {\n",
              "      background-color: #3B4455;\n",
              "      fill: #D2E3FC;\n",
              "    }\n",
              "\n",
              "    [theme=dark] .colab-df-convert:hover {\n",
              "      background-color: #434B5C;\n",
              "      box-shadow: 0px 1px 3px 1px rgba(0, 0, 0, 0.15);\n",
              "      filter: drop-shadow(0px 1px 2px rgba(0, 0, 0, 0.3));\n",
              "      fill: #FFFFFF;\n",
              "    }\n",
              "  </style>\n",
              "\n",
              "      <script>\n",
              "        const buttonEl =\n",
              "          document.querySelector('#df-b8628e3b-b05b-49eb-a512-d760cd2e56bf button.colab-df-convert');\n",
              "        buttonEl.style.display =\n",
              "          google.colab.kernel.accessAllowed ? 'block' : 'none';\n",
              "\n",
              "        async function convertToInteractive(key) {\n",
              "          const element = document.querySelector('#df-b8628e3b-b05b-49eb-a512-d760cd2e56bf');\n",
              "          const dataTable =\n",
              "            await google.colab.kernel.invokeFunction('convertToInteractive',\n",
              "                                                     [key], {});\n",
              "          if (!dataTable) return;\n",
              "\n",
              "          const docLinkHtml = 'Like what you see? Visit the ' +\n",
              "            '<a target=\"_blank\" href=https://colab.research.google.com/notebooks/data_table.ipynb>data table notebook</a>'\n",
              "            + ' to learn more about interactive tables.';\n",
              "          element.innerHTML = '';\n",
              "          dataTable['output_type'] = 'display_data';\n",
              "          await google.colab.output.renderOutput(dataTable, element);\n",
              "          const docLink = document.createElement('div');\n",
              "          docLink.innerHTML = docLinkHtml;\n",
              "          element.appendChild(docLink);\n",
              "        }\n",
              "      </script>\n",
              "    </div>\n",
              "  </div>\n",
              "  "
            ]
          },
          "metadata": {},
          "execution_count": 5
        }
      ]
    },
    {
      "cell_type": "markdown",
      "source": [
        "Função para criar coluna com contagem do número de estrelas atribuídas pelo usuário ao realizar comentário no site sobre o curso. A marcação \"Filled Star\" indica a atribuição de estrela, simbolizando a imagem preenchida com cor. Por outro lado, a marca \"Star\" simboliza estrela não preenchida e sem cor.\n"
      ],
      "metadata": {
        "id": "8JhZ9-6L_Tk3"
      }
    },
    {
      "cell_type": "code",
      "source": [
        "def contaEstrelas(estrelas):\n",
        "  pontos = 0\n",
        "  if(estrelas!=''):\n",
        "    lista = estrelas.split(':')\n",
        "    for item in lista:\n",
        "      if(item=='Filled Star'):\n",
        "        pontos+=1\n",
        "  return pontos\n",
        "\n",
        "df['qtd_estrelas'] = df.estrelas.apply(contaEstrelas)\n",
        "df.head()"
      ],
      "metadata": {
        "id": "vr-FJkSomeKZ",
        "colab": {
          "base_uri": "https://localhost:8080/",
          "height": 206
        },
        "outputId": "09262126-6d57-4319-a2ac-2710232cf847"
      },
      "execution_count": null,
      "outputs": [
        {
          "output_type": "execute_result",
          "data": {
            "text/plain": [
              "   indice                                        estrelas  \\\n",
              "0       1                Filled Star:Star:Star:Star:Star:   \n",
              "1       2         Filled Star:Filled Star:Star:Star:Star:   \n",
              "2       3                Filled Star:Star:Star:Star:Star:   \n",
              "3       4  Filled Star:Filled Star:Filled Star:Star:Star:   \n",
              "4       5         Filled Star:Filled Star:Star:Star:Star:   \n",
              "\n",
              "                                          comentario  qtd_estrelas  \n",
              "0  Tons of editing errors in lectures, and the pr...             1  \n",
              "1  This course is by far the weakest out of the 5...             2  \n",
              "2  Full of appalling errors that have been presen...             1  \n",
              "3  I really like the deeplearning.ai specializati...             3  \n",
              "4  The lectures were great. Andrew is a wonderful...             2  "
            ],
            "text/html": [
              "\n",
              "  <div id=\"df-0a11741e-9419-4794-8cfa-acd5cf9efea0\">\n",
              "    <div class=\"colab-df-container\">\n",
              "      <div>\n",
              "<style scoped>\n",
              "    .dataframe tbody tr th:only-of-type {\n",
              "        vertical-align: middle;\n",
              "    }\n",
              "\n",
              "    .dataframe tbody tr th {\n",
              "        vertical-align: top;\n",
              "    }\n",
              "\n",
              "    .dataframe thead th {\n",
              "        text-align: right;\n",
              "    }\n",
              "</style>\n",
              "<table border=\"1\" class=\"dataframe\">\n",
              "  <thead>\n",
              "    <tr style=\"text-align: right;\">\n",
              "      <th></th>\n",
              "      <th>indice</th>\n",
              "      <th>estrelas</th>\n",
              "      <th>comentario</th>\n",
              "      <th>qtd_estrelas</th>\n",
              "    </tr>\n",
              "  </thead>\n",
              "  <tbody>\n",
              "    <tr>\n",
              "      <th>0</th>\n",
              "      <td>1</td>\n",
              "      <td>Filled Star:Star:Star:Star:Star:</td>\n",
              "      <td>Tons of editing errors in lectures, and the pr...</td>\n",
              "      <td>1</td>\n",
              "    </tr>\n",
              "    <tr>\n",
              "      <th>1</th>\n",
              "      <td>2</td>\n",
              "      <td>Filled Star:Filled Star:Star:Star:Star:</td>\n",
              "      <td>This course is by far the weakest out of the 5...</td>\n",
              "      <td>2</td>\n",
              "    </tr>\n",
              "    <tr>\n",
              "      <th>2</th>\n",
              "      <td>3</td>\n",
              "      <td>Filled Star:Star:Star:Star:Star:</td>\n",
              "      <td>Full of appalling errors that have been presen...</td>\n",
              "      <td>1</td>\n",
              "    </tr>\n",
              "    <tr>\n",
              "      <th>3</th>\n",
              "      <td>4</td>\n",
              "      <td>Filled Star:Filled Star:Filled Star:Star:Star:</td>\n",
              "      <td>I really like the deeplearning.ai specializati...</td>\n",
              "      <td>3</td>\n",
              "    </tr>\n",
              "    <tr>\n",
              "      <th>4</th>\n",
              "      <td>5</td>\n",
              "      <td>Filled Star:Filled Star:Star:Star:Star:</td>\n",
              "      <td>The lectures were great. Andrew is a wonderful...</td>\n",
              "      <td>2</td>\n",
              "    </tr>\n",
              "  </tbody>\n",
              "</table>\n",
              "</div>\n",
              "      <button class=\"colab-df-convert\" onclick=\"convertToInteractive('df-0a11741e-9419-4794-8cfa-acd5cf9efea0')\"\n",
              "              title=\"Convert this dataframe to an interactive table.\"\n",
              "              style=\"display:none;\">\n",
              "        \n",
              "  <svg xmlns=\"http://www.w3.org/2000/svg\" height=\"24px\"viewBox=\"0 0 24 24\"\n",
              "       width=\"24px\">\n",
              "    <path d=\"M0 0h24v24H0V0z\" fill=\"none\"/>\n",
              "    <path d=\"M18.56 5.44l.94 2.06.94-2.06 2.06-.94-2.06-.94-.94-2.06-.94 2.06-2.06.94zm-11 1L8.5 8.5l.94-2.06 2.06-.94-2.06-.94L8.5 2.5l-.94 2.06-2.06.94zm10 10l.94 2.06.94-2.06 2.06-.94-2.06-.94-.94-2.06-.94 2.06-2.06.94z\"/><path d=\"M17.41 7.96l-1.37-1.37c-.4-.4-.92-.59-1.43-.59-.52 0-1.04.2-1.43.59L10.3 9.45l-7.72 7.72c-.78.78-.78 2.05 0 2.83L4 21.41c.39.39.9.59 1.41.59.51 0 1.02-.2 1.41-.59l7.78-7.78 2.81-2.81c.8-.78.8-2.07 0-2.86zM5.41 20L4 18.59l7.72-7.72 1.47 1.35L5.41 20z\"/>\n",
              "  </svg>\n",
              "      </button>\n",
              "      \n",
              "  <style>\n",
              "    .colab-df-container {\n",
              "      display:flex;\n",
              "      flex-wrap:wrap;\n",
              "      gap: 12px;\n",
              "    }\n",
              "\n",
              "    .colab-df-convert {\n",
              "      background-color: #E8F0FE;\n",
              "      border: none;\n",
              "      border-radius: 50%;\n",
              "      cursor: pointer;\n",
              "      display: none;\n",
              "      fill: #1967D2;\n",
              "      height: 32px;\n",
              "      padding: 0 0 0 0;\n",
              "      width: 32px;\n",
              "    }\n",
              "\n",
              "    .colab-df-convert:hover {\n",
              "      background-color: #E2EBFA;\n",
              "      box-shadow: 0px 1px 2px rgba(60, 64, 67, 0.3), 0px 1px 3px 1px rgba(60, 64, 67, 0.15);\n",
              "      fill: #174EA6;\n",
              "    }\n",
              "\n",
              "    [theme=dark] .colab-df-convert {\n",
              "      background-color: #3B4455;\n",
              "      fill: #D2E3FC;\n",
              "    }\n",
              "\n",
              "    [theme=dark] .colab-df-convert:hover {\n",
              "      background-color: #434B5C;\n",
              "      box-shadow: 0px 1px 3px 1px rgba(0, 0, 0, 0.15);\n",
              "      filter: drop-shadow(0px 1px 2px rgba(0, 0, 0, 0.3));\n",
              "      fill: #FFFFFF;\n",
              "    }\n",
              "  </style>\n",
              "\n",
              "      <script>\n",
              "        const buttonEl =\n",
              "          document.querySelector('#df-0a11741e-9419-4794-8cfa-acd5cf9efea0 button.colab-df-convert');\n",
              "        buttonEl.style.display =\n",
              "          google.colab.kernel.accessAllowed ? 'block' : 'none';\n",
              "\n",
              "        async function convertToInteractive(key) {\n",
              "          const element = document.querySelector('#df-0a11741e-9419-4794-8cfa-acd5cf9efea0');\n",
              "          const dataTable =\n",
              "            await google.colab.kernel.invokeFunction('convertToInteractive',\n",
              "                                                     [key], {});\n",
              "          if (!dataTable) return;\n",
              "\n",
              "          const docLinkHtml = 'Like what you see? Visit the ' +\n",
              "            '<a target=\"_blank\" href=https://colab.research.google.com/notebooks/data_table.ipynb>data table notebook</a>'\n",
              "            + ' to learn more about interactive tables.';\n",
              "          element.innerHTML = '';\n",
              "          dataTable['output_type'] = 'display_data';\n",
              "          await google.colab.output.renderOutput(dataTable, element);\n",
              "          const docLink = document.createElement('div');\n",
              "          docLink.innerHTML = docLinkHtml;\n",
              "          element.appendChild(docLink);\n",
              "        }\n",
              "      </script>\n",
              "    </div>\n",
              "  </div>\n",
              "  "
            ]
          },
          "metadata": {},
          "execution_count": 7
        }
      ]
    },
    {
      "cell_type": "markdown",
      "source": [
        "Examinando a distribuição da quantidade de estrelas para averiguar a possibilidade de agregar as avaliações em apenas duas categorias, caso os conteúdos façam sentido, de maneira a não distorcer o significado que se pretende aferir pelo treinamento."
      ],
      "metadata": {
        "id": "JE4ONk7iAoVU"
      }
    },
    {
      "cell_type": "code",
      "source": [
        "(df.groupby('qtd_estrelas').count())"
      ],
      "metadata": {
        "id": "vbittLM6v01g",
        "colab": {
          "base_uri": "https://localhost:8080/",
          "height": 237
        },
        "outputId": "f554f296-c59d-4046-acc6-bc6080b1e470"
      },
      "execution_count": null,
      "outputs": [
        {
          "output_type": "execute_result",
          "data": {
            "text/plain": [
              "              indice  estrelas  comentario\n",
              "qtd_estrelas                              \n",
              "1                 45        45          45\n",
              "2                 81        81          81\n",
              "3                396       396         396\n",
              "4               1131      1131        1131\n",
              "5               4814      4814        4814"
            ],
            "text/html": [
              "\n",
              "  <div id=\"df-ee0b7ada-e718-46f7-9cd0-dab03bd96e82\">\n",
              "    <div class=\"colab-df-container\">\n",
              "      <div>\n",
              "<style scoped>\n",
              "    .dataframe tbody tr th:only-of-type {\n",
              "        vertical-align: middle;\n",
              "    }\n",
              "\n",
              "    .dataframe tbody tr th {\n",
              "        vertical-align: top;\n",
              "    }\n",
              "\n",
              "    .dataframe thead th {\n",
              "        text-align: right;\n",
              "    }\n",
              "</style>\n",
              "<table border=\"1\" class=\"dataframe\">\n",
              "  <thead>\n",
              "    <tr style=\"text-align: right;\">\n",
              "      <th></th>\n",
              "      <th>indice</th>\n",
              "      <th>estrelas</th>\n",
              "      <th>comentario</th>\n",
              "    </tr>\n",
              "    <tr>\n",
              "      <th>qtd_estrelas</th>\n",
              "      <th></th>\n",
              "      <th></th>\n",
              "      <th></th>\n",
              "    </tr>\n",
              "  </thead>\n",
              "  <tbody>\n",
              "    <tr>\n",
              "      <th>1</th>\n",
              "      <td>45</td>\n",
              "      <td>45</td>\n",
              "      <td>45</td>\n",
              "    </tr>\n",
              "    <tr>\n",
              "      <th>2</th>\n",
              "      <td>81</td>\n",
              "      <td>81</td>\n",
              "      <td>81</td>\n",
              "    </tr>\n",
              "    <tr>\n",
              "      <th>3</th>\n",
              "      <td>396</td>\n",
              "      <td>396</td>\n",
              "      <td>396</td>\n",
              "    </tr>\n",
              "    <tr>\n",
              "      <th>4</th>\n",
              "      <td>1131</td>\n",
              "      <td>1131</td>\n",
              "      <td>1131</td>\n",
              "    </tr>\n",
              "    <tr>\n",
              "      <th>5</th>\n",
              "      <td>4814</td>\n",
              "      <td>4814</td>\n",
              "      <td>4814</td>\n",
              "    </tr>\n",
              "  </tbody>\n",
              "</table>\n",
              "</div>\n",
              "      <button class=\"colab-df-convert\" onclick=\"convertToInteractive('df-ee0b7ada-e718-46f7-9cd0-dab03bd96e82')\"\n",
              "              title=\"Convert this dataframe to an interactive table.\"\n",
              "              style=\"display:none;\">\n",
              "        \n",
              "  <svg xmlns=\"http://www.w3.org/2000/svg\" height=\"24px\"viewBox=\"0 0 24 24\"\n",
              "       width=\"24px\">\n",
              "    <path d=\"M0 0h24v24H0V0z\" fill=\"none\"/>\n",
              "    <path d=\"M18.56 5.44l.94 2.06.94-2.06 2.06-.94-2.06-.94-.94-2.06-.94 2.06-2.06.94zm-11 1L8.5 8.5l.94-2.06 2.06-.94-2.06-.94L8.5 2.5l-.94 2.06-2.06.94zm10 10l.94 2.06.94-2.06 2.06-.94-2.06-.94-.94-2.06-.94 2.06-2.06.94z\"/><path d=\"M17.41 7.96l-1.37-1.37c-.4-.4-.92-.59-1.43-.59-.52 0-1.04.2-1.43.59L10.3 9.45l-7.72 7.72c-.78.78-.78 2.05 0 2.83L4 21.41c.39.39.9.59 1.41.59.51 0 1.02-.2 1.41-.59l7.78-7.78 2.81-2.81c.8-.78.8-2.07 0-2.86zM5.41 20L4 18.59l7.72-7.72 1.47 1.35L5.41 20z\"/>\n",
              "  </svg>\n",
              "      </button>\n",
              "      \n",
              "  <style>\n",
              "    .colab-df-container {\n",
              "      display:flex;\n",
              "      flex-wrap:wrap;\n",
              "      gap: 12px;\n",
              "    }\n",
              "\n",
              "    .colab-df-convert {\n",
              "      background-color: #E8F0FE;\n",
              "      border: none;\n",
              "      border-radius: 50%;\n",
              "      cursor: pointer;\n",
              "      display: none;\n",
              "      fill: #1967D2;\n",
              "      height: 32px;\n",
              "      padding: 0 0 0 0;\n",
              "      width: 32px;\n",
              "    }\n",
              "\n",
              "    .colab-df-convert:hover {\n",
              "      background-color: #E2EBFA;\n",
              "      box-shadow: 0px 1px 2px rgba(60, 64, 67, 0.3), 0px 1px 3px 1px rgba(60, 64, 67, 0.15);\n",
              "      fill: #174EA6;\n",
              "    }\n",
              "\n",
              "    [theme=dark] .colab-df-convert {\n",
              "      background-color: #3B4455;\n",
              "      fill: #D2E3FC;\n",
              "    }\n",
              "\n",
              "    [theme=dark] .colab-df-convert:hover {\n",
              "      background-color: #434B5C;\n",
              "      box-shadow: 0px 1px 3px 1px rgba(0, 0, 0, 0.15);\n",
              "      filter: drop-shadow(0px 1px 2px rgba(0, 0, 0, 0.3));\n",
              "      fill: #FFFFFF;\n",
              "    }\n",
              "  </style>\n",
              "\n",
              "      <script>\n",
              "        const buttonEl =\n",
              "          document.querySelector('#df-ee0b7ada-e718-46f7-9cd0-dab03bd96e82 button.colab-df-convert');\n",
              "        buttonEl.style.display =\n",
              "          google.colab.kernel.accessAllowed ? 'block' : 'none';\n",
              "\n",
              "        async function convertToInteractive(key) {\n",
              "          const element = document.querySelector('#df-ee0b7ada-e718-46f7-9cd0-dab03bd96e82');\n",
              "          const dataTable =\n",
              "            await google.colab.kernel.invokeFunction('convertToInteractive',\n",
              "                                                     [key], {});\n",
              "          if (!dataTable) return;\n",
              "\n",
              "          const docLinkHtml = 'Like what you see? Visit the ' +\n",
              "            '<a target=\"_blank\" href=https://colab.research.google.com/notebooks/data_table.ipynb>data table notebook</a>'\n",
              "            + ' to learn more about interactive tables.';\n",
              "          element.innerHTML = '';\n",
              "          dataTable['output_type'] = 'display_data';\n",
              "          await google.colab.output.renderOutput(dataTable, element);\n",
              "          const docLink = document.createElement('div');\n",
              "          docLink.innerHTML = docLinkHtml;\n",
              "          element.appendChild(docLink);\n",
              "        }\n",
              "      </script>\n",
              "    </div>\n",
              "  </div>\n",
              "  "
            ]
          },
          "metadata": {},
          "execution_count": 8
        }
      ]
    },
    {
      "cell_type": "code",
      "source": [
        "print(df[df['qtd_estrelas']==3][['comentario','indice']])"
      ],
      "metadata": {
        "id": "Bz1X43Mlv1Al",
        "colab": {
          "base_uri": "https://localhost:8080/"
        },
        "outputId": "2bd626a3-f2c5-465a-cc88-05f578897ca1"
      },
      "execution_count": null,
      "outputs": [
        {
          "output_type": "stream",
          "name": "stdout",
          "text": [
            "                                             comentario  indice\n",
            "3     I really like the deeplearning.ai specializati...       4\n",
            "11    5 stars for the very informative lectures.  I ...      12\n",
            "75    The first week is amazing. The last week is th...      76\n",
            "76    Week 4 coding exercise is incomparably harder ...      77\n",
            "3148  in comparison to the previous courses from thi...    3149\n",
            "...                                                 ...     ...\n",
            "6462  Overall a great class. I had some trouble unde...    6463\n",
            "6463  This felt the the least prepared and organized...    6464\n",
            "6464  give projects that we can build from ground up...    6465\n",
            "6465  Good theoretical overview - project just requi...    6466\n",
            "6466  Lectures on week4 are not complete as confirme...    6467\n",
            "\n",
            "[396 rows x 2 columns]\n"
          ]
        }
      ]
    },
    {
      "cell_type": "code",
      "source": [
        "df[df['indice']==4]['comentario'].tolist()"
      ],
      "metadata": {
        "id": "cs3ZB1lNwAEB",
        "colab": {
          "base_uri": "https://localhost:8080/"
        },
        "outputId": "7b9828af-f379-4883-eebf-81d64a649c26"
      },
      "execution_count": null,
      "outputs": [
        {
          "output_type": "execute_result",
          "data": {
            "text/plain": [
              "['I really like the deeplearning.ai specialization. And also I like the Sequence Models course. However, I feel that I have learned less during this course comparing to the other ones in the specialization. First, I believe it was an extensive use of Keras. Whereas the framework is great, it would be much better for understanding if all the exercises were in numpy, whereas Keras tween-projects be optional.  Doing both numpy and Keras versions would allow to better understand the material and learn through repetition. Second, even though the course is great, I perceived the number of errors/typos was much higher than in other courses. Is that true? For example, the Jazz Improvisation exercise was a nightmare. Overall, thank you for the course. Despite those problems, I would still recommend it.']"
            ]
          },
          "metadata": {},
          "execution_count": 10
        }
      ]
    },
    {
      "cell_type": "code",
      "source": [
        "df[df['indice']==6467]['comentario'].tolist()"
      ],
      "metadata": {
        "id": "IgWixzztwANB",
        "colab": {
          "base_uri": "https://localhost:8080/"
        },
        "outputId": "f597571b-cb15-43e6-ff95-167f5d6b54ef"
      },
      "execution_count": null,
      "outputs": [
        {
          "output_type": "execute_result",
          "data": {
            "text/plain": [
              "['Lectures on week4 are not complete as confirmed by mentor in the community']"
            ]
          },
          "metadata": {},
          "execution_count": 11
        }
      ]
    },
    {
      "cell_type": "markdown",
      "source": [
        "Função para criar coluna que junta as avaliações das revisões em dois grupos: \"0\" para uma avaliação ruim, agregando as revisões de 1 a 3 estrelas e \"1\" para uma avaliação boa, agregando as revisões com 4 e 5 estrelas.\n",
        "\n"
      ],
      "metadata": {
        "id": "cIUIFmxpwSgu"
      }
    },
    {
      "cell_type": "code",
      "source": [
        "avaliacoes_rotulos = ['ruim','boa']"
      ],
      "metadata": {
        "id": "qHX3GmPB1qu1"
      },
      "execution_count": null,
      "outputs": []
    },
    {
      "cell_type": "code",
      "source": [
        "def classifica_revisao_em_boa_ou_ruim(estrelas):\n",
        "  avaliacao = 0\n",
        "  if estrelas > 3:\n",
        "    avaliacao = 1\n",
        "  return avaliacao\n",
        "\n",
        "df['avaliacao'] = df.qtd_estrelas.apply(classifica_revisao_em_boa_ou_ruim)\n",
        "\n",
        "print('A base possui um total de {} registros. Os 10 primeiros são:'.format(len(df)))\n",
        "df.head(10)"
      ],
      "metadata": {
        "id": "vd6m6objwM7c",
        "colab": {
          "base_uri": "https://localhost:8080/",
          "height": 380
        },
        "outputId": "eb817b9e-0c5d-4ff7-bf42-09c001cd0459"
      },
      "execution_count": null,
      "outputs": [
        {
          "output_type": "stream",
          "name": "stdout",
          "text": [
            "A base possui um total de 6467 registros. Os 10 primeiros são:\n"
          ]
        },
        {
          "output_type": "execute_result",
          "data": {
            "text/plain": [
              "   indice                                           estrelas  \\\n",
              "0       1                   Filled Star:Star:Star:Star:Star:   \n",
              "1       2            Filled Star:Filled Star:Star:Star:Star:   \n",
              "2       3                   Filled Star:Star:Star:Star:Star:   \n",
              "3       4     Filled Star:Filled Star:Filled Star:Star:Star:   \n",
              "4       5            Filled Star:Filled Star:Star:Star:Star:   \n",
              "5       6                   Filled Star:Star:Star:Star:Star:   \n",
              "6       7  Filled Star:Filled Star:Filled Star:Filled Sta...   \n",
              "7       8  Filled Star:Filled Star:Filled Star:Filled Sta...   \n",
              "8       9  Filled Star:Filled Star:Filled Star:Filled Sta...   \n",
              "9      10            Filled Star:Filled Star:Star:Star:Star:   \n",
              "\n",
              "                                          comentario  qtd_estrelas  avaliacao  \n",
              "0  Tons of editing errors in lectures, and the pr...             1          0  \n",
              "1  This course is by far the weakest out of the 5...             2          0  \n",
              "2  Full of appalling errors that have been presen...             1          0  \n",
              "3  I really like the deeplearning.ai specializati...             3          0  \n",
              "4  The lectures were great. Andrew is a wonderful...             2          0  \n",
              "5  Keras is required to pass the assignments but ...             1          0  \n",
              "6  To set the context, I have a PhD in Computer E...             5          1  \n",
              "7  I am so grateful that Andrew and the team prov...             5          1  \n",
              "8  I want to thank Andrew Ng and his team for the...             5          1  \n",
              "9  I went through all course of DeepLearning.ai S...             2          0  "
            ],
            "text/html": [
              "\n",
              "  <div id=\"df-16b2c3d2-2ad5-4750-a6e9-97957cdc3a12\">\n",
              "    <div class=\"colab-df-container\">\n",
              "      <div>\n",
              "<style scoped>\n",
              "    .dataframe tbody tr th:only-of-type {\n",
              "        vertical-align: middle;\n",
              "    }\n",
              "\n",
              "    .dataframe tbody tr th {\n",
              "        vertical-align: top;\n",
              "    }\n",
              "\n",
              "    .dataframe thead th {\n",
              "        text-align: right;\n",
              "    }\n",
              "</style>\n",
              "<table border=\"1\" class=\"dataframe\">\n",
              "  <thead>\n",
              "    <tr style=\"text-align: right;\">\n",
              "      <th></th>\n",
              "      <th>indice</th>\n",
              "      <th>estrelas</th>\n",
              "      <th>comentario</th>\n",
              "      <th>qtd_estrelas</th>\n",
              "      <th>avaliacao</th>\n",
              "    </tr>\n",
              "  </thead>\n",
              "  <tbody>\n",
              "    <tr>\n",
              "      <th>0</th>\n",
              "      <td>1</td>\n",
              "      <td>Filled Star:Star:Star:Star:Star:</td>\n",
              "      <td>Tons of editing errors in lectures, and the pr...</td>\n",
              "      <td>1</td>\n",
              "      <td>0</td>\n",
              "    </tr>\n",
              "    <tr>\n",
              "      <th>1</th>\n",
              "      <td>2</td>\n",
              "      <td>Filled Star:Filled Star:Star:Star:Star:</td>\n",
              "      <td>This course is by far the weakest out of the 5...</td>\n",
              "      <td>2</td>\n",
              "      <td>0</td>\n",
              "    </tr>\n",
              "    <tr>\n",
              "      <th>2</th>\n",
              "      <td>3</td>\n",
              "      <td>Filled Star:Star:Star:Star:Star:</td>\n",
              "      <td>Full of appalling errors that have been presen...</td>\n",
              "      <td>1</td>\n",
              "      <td>0</td>\n",
              "    </tr>\n",
              "    <tr>\n",
              "      <th>3</th>\n",
              "      <td>4</td>\n",
              "      <td>Filled Star:Filled Star:Filled Star:Star:Star:</td>\n",
              "      <td>I really like the deeplearning.ai specializati...</td>\n",
              "      <td>3</td>\n",
              "      <td>0</td>\n",
              "    </tr>\n",
              "    <tr>\n",
              "      <th>4</th>\n",
              "      <td>5</td>\n",
              "      <td>Filled Star:Filled Star:Star:Star:Star:</td>\n",
              "      <td>The lectures were great. Andrew is a wonderful...</td>\n",
              "      <td>2</td>\n",
              "      <td>0</td>\n",
              "    </tr>\n",
              "    <tr>\n",
              "      <th>5</th>\n",
              "      <td>6</td>\n",
              "      <td>Filled Star:Star:Star:Star:Star:</td>\n",
              "      <td>Keras is required to pass the assignments but ...</td>\n",
              "      <td>1</td>\n",
              "      <td>0</td>\n",
              "    </tr>\n",
              "    <tr>\n",
              "      <th>6</th>\n",
              "      <td>7</td>\n",
              "      <td>Filled Star:Filled Star:Filled Star:Filled Sta...</td>\n",
              "      <td>To set the context, I have a PhD in Computer E...</td>\n",
              "      <td>5</td>\n",
              "      <td>1</td>\n",
              "    </tr>\n",
              "    <tr>\n",
              "      <th>7</th>\n",
              "      <td>8</td>\n",
              "      <td>Filled Star:Filled Star:Filled Star:Filled Sta...</td>\n",
              "      <td>I am so grateful that Andrew and the team prov...</td>\n",
              "      <td>5</td>\n",
              "      <td>1</td>\n",
              "    </tr>\n",
              "    <tr>\n",
              "      <th>8</th>\n",
              "      <td>9</td>\n",
              "      <td>Filled Star:Filled Star:Filled Star:Filled Sta...</td>\n",
              "      <td>I want to thank Andrew Ng and his team for the...</td>\n",
              "      <td>5</td>\n",
              "      <td>1</td>\n",
              "    </tr>\n",
              "    <tr>\n",
              "      <th>9</th>\n",
              "      <td>10</td>\n",
              "      <td>Filled Star:Filled Star:Star:Star:Star:</td>\n",
              "      <td>I went through all course of DeepLearning.ai S...</td>\n",
              "      <td>2</td>\n",
              "      <td>0</td>\n",
              "    </tr>\n",
              "  </tbody>\n",
              "</table>\n",
              "</div>\n",
              "      <button class=\"colab-df-convert\" onclick=\"convertToInteractive('df-16b2c3d2-2ad5-4750-a6e9-97957cdc3a12')\"\n",
              "              title=\"Convert this dataframe to an interactive table.\"\n",
              "              style=\"display:none;\">\n",
              "        \n",
              "  <svg xmlns=\"http://www.w3.org/2000/svg\" height=\"24px\"viewBox=\"0 0 24 24\"\n",
              "       width=\"24px\">\n",
              "    <path d=\"M0 0h24v24H0V0z\" fill=\"none\"/>\n",
              "    <path d=\"M18.56 5.44l.94 2.06.94-2.06 2.06-.94-2.06-.94-.94-2.06-.94 2.06-2.06.94zm-11 1L8.5 8.5l.94-2.06 2.06-.94-2.06-.94L8.5 2.5l-.94 2.06-2.06.94zm10 10l.94 2.06.94-2.06 2.06-.94-2.06-.94-.94-2.06-.94 2.06-2.06.94z\"/><path d=\"M17.41 7.96l-1.37-1.37c-.4-.4-.92-.59-1.43-.59-.52 0-1.04.2-1.43.59L10.3 9.45l-7.72 7.72c-.78.78-.78 2.05 0 2.83L4 21.41c.39.39.9.59 1.41.59.51 0 1.02-.2 1.41-.59l7.78-7.78 2.81-2.81c.8-.78.8-2.07 0-2.86zM5.41 20L4 18.59l7.72-7.72 1.47 1.35L5.41 20z\"/>\n",
              "  </svg>\n",
              "      </button>\n",
              "      \n",
              "  <style>\n",
              "    .colab-df-container {\n",
              "      display:flex;\n",
              "      flex-wrap:wrap;\n",
              "      gap: 12px;\n",
              "    }\n",
              "\n",
              "    .colab-df-convert {\n",
              "      background-color: #E8F0FE;\n",
              "      border: none;\n",
              "      border-radius: 50%;\n",
              "      cursor: pointer;\n",
              "      display: none;\n",
              "      fill: #1967D2;\n",
              "      height: 32px;\n",
              "      padding: 0 0 0 0;\n",
              "      width: 32px;\n",
              "    }\n",
              "\n",
              "    .colab-df-convert:hover {\n",
              "      background-color: #E2EBFA;\n",
              "      box-shadow: 0px 1px 2px rgba(60, 64, 67, 0.3), 0px 1px 3px 1px rgba(60, 64, 67, 0.15);\n",
              "      fill: #174EA6;\n",
              "    }\n",
              "\n",
              "    [theme=dark] .colab-df-convert {\n",
              "      background-color: #3B4455;\n",
              "      fill: #D2E3FC;\n",
              "    }\n",
              "\n",
              "    [theme=dark] .colab-df-convert:hover {\n",
              "      background-color: #434B5C;\n",
              "      box-shadow: 0px 1px 3px 1px rgba(0, 0, 0, 0.15);\n",
              "      filter: drop-shadow(0px 1px 2px rgba(0, 0, 0, 0.3));\n",
              "      fill: #FFFFFF;\n",
              "    }\n",
              "  </style>\n",
              "\n",
              "      <script>\n",
              "        const buttonEl =\n",
              "          document.querySelector('#df-16b2c3d2-2ad5-4750-a6e9-97957cdc3a12 button.colab-df-convert');\n",
              "        buttonEl.style.display =\n",
              "          google.colab.kernel.accessAllowed ? 'block' : 'none';\n",
              "\n",
              "        async function convertToInteractive(key) {\n",
              "          const element = document.querySelector('#df-16b2c3d2-2ad5-4750-a6e9-97957cdc3a12');\n",
              "          const dataTable =\n",
              "            await google.colab.kernel.invokeFunction('convertToInteractive',\n",
              "                                                     [key], {});\n",
              "          if (!dataTable) return;\n",
              "\n",
              "          const docLinkHtml = 'Like what you see? Visit the ' +\n",
              "            '<a target=\"_blank\" href=https://colab.research.google.com/notebooks/data_table.ipynb>data table notebook</a>'\n",
              "            + ' to learn more about interactive tables.';\n",
              "          element.innerHTML = '';\n",
              "          dataTable['output_type'] = 'display_data';\n",
              "          await google.colab.output.renderOutput(dataTable, element);\n",
              "          const docLink = document.createElement('div');\n",
              "          docLink.innerHTML = docLinkHtml;\n",
              "          element.appendChild(docLink);\n",
              "        }\n",
              "      </script>\n",
              "    </div>\n",
              "  </div>\n",
              "  "
            ]
          },
          "metadata": {},
          "execution_count": 12
        }
      ]
    },
    {
      "cell_type": "code",
      "source": [
        "(df.groupby('avaliacao').count())"
      ],
      "metadata": {
        "id": "HOdcbgtVwp48",
        "colab": {
          "base_uri": "https://localhost:8080/",
          "height": 143
        },
        "outputId": "df851eca-f314-4c29-b309-4e630c543e75"
      },
      "execution_count": null,
      "outputs": [
        {
          "output_type": "execute_result",
          "data": {
            "text/plain": [
              "           indice  estrelas  comentario  qtd_estrelas\n",
              "avaliacao                                            \n",
              "0             522       522         522           522\n",
              "1            5945      5945        5945          5945"
            ],
            "text/html": [
              "\n",
              "  <div id=\"df-f01e4b46-f09b-43a5-8f2a-0f258cf04bdf\">\n",
              "    <div class=\"colab-df-container\">\n",
              "      <div>\n",
              "<style scoped>\n",
              "    .dataframe tbody tr th:only-of-type {\n",
              "        vertical-align: middle;\n",
              "    }\n",
              "\n",
              "    .dataframe tbody tr th {\n",
              "        vertical-align: top;\n",
              "    }\n",
              "\n",
              "    .dataframe thead th {\n",
              "        text-align: right;\n",
              "    }\n",
              "</style>\n",
              "<table border=\"1\" class=\"dataframe\">\n",
              "  <thead>\n",
              "    <tr style=\"text-align: right;\">\n",
              "      <th></th>\n",
              "      <th>indice</th>\n",
              "      <th>estrelas</th>\n",
              "      <th>comentario</th>\n",
              "      <th>qtd_estrelas</th>\n",
              "    </tr>\n",
              "    <tr>\n",
              "      <th>avaliacao</th>\n",
              "      <th></th>\n",
              "      <th></th>\n",
              "      <th></th>\n",
              "      <th></th>\n",
              "    </tr>\n",
              "  </thead>\n",
              "  <tbody>\n",
              "    <tr>\n",
              "      <th>0</th>\n",
              "      <td>522</td>\n",
              "      <td>522</td>\n",
              "      <td>522</td>\n",
              "      <td>522</td>\n",
              "    </tr>\n",
              "    <tr>\n",
              "      <th>1</th>\n",
              "      <td>5945</td>\n",
              "      <td>5945</td>\n",
              "      <td>5945</td>\n",
              "      <td>5945</td>\n",
              "    </tr>\n",
              "  </tbody>\n",
              "</table>\n",
              "</div>\n",
              "      <button class=\"colab-df-convert\" onclick=\"convertToInteractive('df-f01e4b46-f09b-43a5-8f2a-0f258cf04bdf')\"\n",
              "              title=\"Convert this dataframe to an interactive table.\"\n",
              "              style=\"display:none;\">\n",
              "        \n",
              "  <svg xmlns=\"http://www.w3.org/2000/svg\" height=\"24px\"viewBox=\"0 0 24 24\"\n",
              "       width=\"24px\">\n",
              "    <path d=\"M0 0h24v24H0V0z\" fill=\"none\"/>\n",
              "    <path d=\"M18.56 5.44l.94 2.06.94-2.06 2.06-.94-2.06-.94-.94-2.06-.94 2.06-2.06.94zm-11 1L8.5 8.5l.94-2.06 2.06-.94-2.06-.94L8.5 2.5l-.94 2.06-2.06.94zm10 10l.94 2.06.94-2.06 2.06-.94-2.06-.94-.94-2.06-.94 2.06-2.06.94z\"/><path d=\"M17.41 7.96l-1.37-1.37c-.4-.4-.92-.59-1.43-.59-.52 0-1.04.2-1.43.59L10.3 9.45l-7.72 7.72c-.78.78-.78 2.05 0 2.83L4 21.41c.39.39.9.59 1.41.59.51 0 1.02-.2 1.41-.59l7.78-7.78 2.81-2.81c.8-.78.8-2.07 0-2.86zM5.41 20L4 18.59l7.72-7.72 1.47 1.35L5.41 20z\"/>\n",
              "  </svg>\n",
              "      </button>\n",
              "      \n",
              "  <style>\n",
              "    .colab-df-container {\n",
              "      display:flex;\n",
              "      flex-wrap:wrap;\n",
              "      gap: 12px;\n",
              "    }\n",
              "\n",
              "    .colab-df-convert {\n",
              "      background-color: #E8F0FE;\n",
              "      border: none;\n",
              "      border-radius: 50%;\n",
              "      cursor: pointer;\n",
              "      display: none;\n",
              "      fill: #1967D2;\n",
              "      height: 32px;\n",
              "      padding: 0 0 0 0;\n",
              "      width: 32px;\n",
              "    }\n",
              "\n",
              "    .colab-df-convert:hover {\n",
              "      background-color: #E2EBFA;\n",
              "      box-shadow: 0px 1px 2px rgba(60, 64, 67, 0.3), 0px 1px 3px 1px rgba(60, 64, 67, 0.15);\n",
              "      fill: #174EA6;\n",
              "    }\n",
              "\n",
              "    [theme=dark] .colab-df-convert {\n",
              "      background-color: #3B4455;\n",
              "      fill: #D2E3FC;\n",
              "    }\n",
              "\n",
              "    [theme=dark] .colab-df-convert:hover {\n",
              "      background-color: #434B5C;\n",
              "      box-shadow: 0px 1px 3px 1px rgba(0, 0, 0, 0.15);\n",
              "      filter: drop-shadow(0px 1px 2px rgba(0, 0, 0, 0.3));\n",
              "      fill: #FFFFFF;\n",
              "    }\n",
              "  </style>\n",
              "\n",
              "      <script>\n",
              "        const buttonEl =\n",
              "          document.querySelector('#df-f01e4b46-f09b-43a5-8f2a-0f258cf04bdf button.colab-df-convert');\n",
              "        buttonEl.style.display =\n",
              "          google.colab.kernel.accessAllowed ? 'block' : 'none';\n",
              "\n",
              "        async function convertToInteractive(key) {\n",
              "          const element = document.querySelector('#df-f01e4b46-f09b-43a5-8f2a-0f258cf04bdf');\n",
              "          const dataTable =\n",
              "            await google.colab.kernel.invokeFunction('convertToInteractive',\n",
              "                                                     [key], {});\n",
              "          if (!dataTable) return;\n",
              "\n",
              "          const docLinkHtml = 'Like what you see? Visit the ' +\n",
              "            '<a target=\"_blank\" href=https://colab.research.google.com/notebooks/data_table.ipynb>data table notebook</a>'\n",
              "            + ' to learn more about interactive tables.';\n",
              "          element.innerHTML = '';\n",
              "          dataTable['output_type'] = 'display_data';\n",
              "          await google.colab.output.renderOutput(dataTable, element);\n",
              "          const docLink = document.createElement('div');\n",
              "          docLink.innerHTML = docLinkHtml;\n",
              "          element.appendChild(docLink);\n",
              "        }\n",
              "      </script>\n",
              "    </div>\n",
              "  </div>\n",
              "  "
            ]
          },
          "metadata": {},
          "execution_count": 13
        }
      ]
    },
    {
      "cell_type": "markdown",
      "source": [
        "Função para criar coluna com tamanho do comentário a fim de ajudar na definição do tamanho máximo a ser considerado no treinamento do modelo."
      ],
      "metadata": {
        "id": "wVIUVRkVB3FL"
      }
    },
    {
      "cell_type": "code",
      "source": [
        "def Registra_tamanho_do_comentario(comentario):\n",
        "  #l1 = comentario.tolist()\n",
        "  return len(comentario)\n",
        "\n",
        "df['tamanho_comentario'] = df.comentario.apply(Registra_tamanho_do_comentario)\n",
        "\n",
        "print('A base possui um total de {} registros. Os 10 primeiros são:'.format(len(df)))\n",
        "df.head(10)"
      ],
      "metadata": {
        "colab": {
          "base_uri": "https://localhost:8080/",
          "height": 380
        },
        "id": "jDbXtAUP8cAp",
        "outputId": "35f21486-246a-40a9-c84a-4e2bd95fe088"
      },
      "execution_count": null,
      "outputs": [
        {
          "output_type": "stream",
          "name": "stdout",
          "text": [
            "A base possui um total de 6467 registros. Os 10 primeiros são:\n"
          ]
        },
        {
          "output_type": "execute_result",
          "data": {
            "text/plain": [
              "   indice                                           estrelas  \\\n",
              "0       1                   Filled Star:Star:Star:Star:Star:   \n",
              "1       2            Filled Star:Filled Star:Star:Star:Star:   \n",
              "2       3                   Filled Star:Star:Star:Star:Star:   \n",
              "3       4     Filled Star:Filled Star:Filled Star:Star:Star:   \n",
              "4       5            Filled Star:Filled Star:Star:Star:Star:   \n",
              "5       6                   Filled Star:Star:Star:Star:Star:   \n",
              "6       7  Filled Star:Filled Star:Filled Star:Filled Sta...   \n",
              "7       8  Filled Star:Filled Star:Filled Star:Filled Sta...   \n",
              "8       9  Filled Star:Filled Star:Filled Star:Filled Sta...   \n",
              "9      10            Filled Star:Filled Star:Star:Star:Star:   \n",
              "\n",
              "                                          comentario  qtd_estrelas  avaliacao  \\\n",
              "0  Tons of editing errors in lectures, and the pr...             1          0   \n",
              "1  This course is by far the weakest out of the 5...             2          0   \n",
              "2  Full of appalling errors that have been presen...             1          0   \n",
              "3  I really like the deeplearning.ai specializati...             3          0   \n",
              "4  The lectures were great. Andrew is a wonderful...             2          0   \n",
              "5  Keras is required to pass the assignments but ...             1          0   \n",
              "6  To set the context, I have a PhD in Computer E...             5          1   \n",
              "7  I am so grateful that Andrew and the team prov...             5          1   \n",
              "8  I want to thank Andrew Ng and his team for the...             5          1   \n",
              "9  I went through all course of DeepLearning.ai S...             2          0   \n",
              "\n",
              "   tamanho_comentario  \n",
              "0                 249  \n",
              "1                 645  \n",
              "2                 419  \n",
              "3                 802  \n",
              "4                 835  \n",
              "5                 160  \n",
              "6                 264  \n",
              "7                 199  \n",
              "8                 155  \n",
              "9                 365  "
            ],
            "text/html": [
              "\n",
              "  <div id=\"df-c001423c-b223-404b-a919-44b238c5214c\">\n",
              "    <div class=\"colab-df-container\">\n",
              "      <div>\n",
              "<style scoped>\n",
              "    .dataframe tbody tr th:only-of-type {\n",
              "        vertical-align: middle;\n",
              "    }\n",
              "\n",
              "    .dataframe tbody tr th {\n",
              "        vertical-align: top;\n",
              "    }\n",
              "\n",
              "    .dataframe thead th {\n",
              "        text-align: right;\n",
              "    }\n",
              "</style>\n",
              "<table border=\"1\" class=\"dataframe\">\n",
              "  <thead>\n",
              "    <tr style=\"text-align: right;\">\n",
              "      <th></th>\n",
              "      <th>indice</th>\n",
              "      <th>estrelas</th>\n",
              "      <th>comentario</th>\n",
              "      <th>qtd_estrelas</th>\n",
              "      <th>avaliacao</th>\n",
              "      <th>tamanho_comentario</th>\n",
              "    </tr>\n",
              "  </thead>\n",
              "  <tbody>\n",
              "    <tr>\n",
              "      <th>0</th>\n",
              "      <td>1</td>\n",
              "      <td>Filled Star:Star:Star:Star:Star:</td>\n",
              "      <td>Tons of editing errors in lectures, and the pr...</td>\n",
              "      <td>1</td>\n",
              "      <td>0</td>\n",
              "      <td>249</td>\n",
              "    </tr>\n",
              "    <tr>\n",
              "      <th>1</th>\n",
              "      <td>2</td>\n",
              "      <td>Filled Star:Filled Star:Star:Star:Star:</td>\n",
              "      <td>This course is by far the weakest out of the 5...</td>\n",
              "      <td>2</td>\n",
              "      <td>0</td>\n",
              "      <td>645</td>\n",
              "    </tr>\n",
              "    <tr>\n",
              "      <th>2</th>\n",
              "      <td>3</td>\n",
              "      <td>Filled Star:Star:Star:Star:Star:</td>\n",
              "      <td>Full of appalling errors that have been presen...</td>\n",
              "      <td>1</td>\n",
              "      <td>0</td>\n",
              "      <td>419</td>\n",
              "    </tr>\n",
              "    <tr>\n",
              "      <th>3</th>\n",
              "      <td>4</td>\n",
              "      <td>Filled Star:Filled Star:Filled Star:Star:Star:</td>\n",
              "      <td>I really like the deeplearning.ai specializati...</td>\n",
              "      <td>3</td>\n",
              "      <td>0</td>\n",
              "      <td>802</td>\n",
              "    </tr>\n",
              "    <tr>\n",
              "      <th>4</th>\n",
              "      <td>5</td>\n",
              "      <td>Filled Star:Filled Star:Star:Star:Star:</td>\n",
              "      <td>The lectures were great. Andrew is a wonderful...</td>\n",
              "      <td>2</td>\n",
              "      <td>0</td>\n",
              "      <td>835</td>\n",
              "    </tr>\n",
              "    <tr>\n",
              "      <th>5</th>\n",
              "      <td>6</td>\n",
              "      <td>Filled Star:Star:Star:Star:Star:</td>\n",
              "      <td>Keras is required to pass the assignments but ...</td>\n",
              "      <td>1</td>\n",
              "      <td>0</td>\n",
              "      <td>160</td>\n",
              "    </tr>\n",
              "    <tr>\n",
              "      <th>6</th>\n",
              "      <td>7</td>\n",
              "      <td>Filled Star:Filled Star:Filled Star:Filled Sta...</td>\n",
              "      <td>To set the context, I have a PhD in Computer E...</td>\n",
              "      <td>5</td>\n",
              "      <td>1</td>\n",
              "      <td>264</td>\n",
              "    </tr>\n",
              "    <tr>\n",
              "      <th>7</th>\n",
              "      <td>8</td>\n",
              "      <td>Filled Star:Filled Star:Filled Star:Filled Sta...</td>\n",
              "      <td>I am so grateful that Andrew and the team prov...</td>\n",
              "      <td>5</td>\n",
              "      <td>1</td>\n",
              "      <td>199</td>\n",
              "    </tr>\n",
              "    <tr>\n",
              "      <th>8</th>\n",
              "      <td>9</td>\n",
              "      <td>Filled Star:Filled Star:Filled Star:Filled Sta...</td>\n",
              "      <td>I want to thank Andrew Ng and his team for the...</td>\n",
              "      <td>5</td>\n",
              "      <td>1</td>\n",
              "      <td>155</td>\n",
              "    </tr>\n",
              "    <tr>\n",
              "      <th>9</th>\n",
              "      <td>10</td>\n",
              "      <td>Filled Star:Filled Star:Star:Star:Star:</td>\n",
              "      <td>I went through all course of DeepLearning.ai S...</td>\n",
              "      <td>2</td>\n",
              "      <td>0</td>\n",
              "      <td>365</td>\n",
              "    </tr>\n",
              "  </tbody>\n",
              "</table>\n",
              "</div>\n",
              "      <button class=\"colab-df-convert\" onclick=\"convertToInteractive('df-c001423c-b223-404b-a919-44b238c5214c')\"\n",
              "              title=\"Convert this dataframe to an interactive table.\"\n",
              "              style=\"display:none;\">\n",
              "        \n",
              "  <svg xmlns=\"http://www.w3.org/2000/svg\" height=\"24px\"viewBox=\"0 0 24 24\"\n",
              "       width=\"24px\">\n",
              "    <path d=\"M0 0h24v24H0V0z\" fill=\"none\"/>\n",
              "    <path d=\"M18.56 5.44l.94 2.06.94-2.06 2.06-.94-2.06-.94-.94-2.06-.94 2.06-2.06.94zm-11 1L8.5 8.5l.94-2.06 2.06-.94-2.06-.94L8.5 2.5l-.94 2.06-2.06.94zm10 10l.94 2.06.94-2.06 2.06-.94-2.06-.94-.94-2.06-.94 2.06-2.06.94z\"/><path d=\"M17.41 7.96l-1.37-1.37c-.4-.4-.92-.59-1.43-.59-.52 0-1.04.2-1.43.59L10.3 9.45l-7.72 7.72c-.78.78-.78 2.05 0 2.83L4 21.41c.39.39.9.59 1.41.59.51 0 1.02-.2 1.41-.59l7.78-7.78 2.81-2.81c.8-.78.8-2.07 0-2.86zM5.41 20L4 18.59l7.72-7.72 1.47 1.35L5.41 20z\"/>\n",
              "  </svg>\n",
              "      </button>\n",
              "      \n",
              "  <style>\n",
              "    .colab-df-container {\n",
              "      display:flex;\n",
              "      flex-wrap:wrap;\n",
              "      gap: 12px;\n",
              "    }\n",
              "\n",
              "    .colab-df-convert {\n",
              "      background-color: #E8F0FE;\n",
              "      border: none;\n",
              "      border-radius: 50%;\n",
              "      cursor: pointer;\n",
              "      display: none;\n",
              "      fill: #1967D2;\n",
              "      height: 32px;\n",
              "      padding: 0 0 0 0;\n",
              "      width: 32px;\n",
              "    }\n",
              "\n",
              "    .colab-df-convert:hover {\n",
              "      background-color: #E2EBFA;\n",
              "      box-shadow: 0px 1px 2px rgba(60, 64, 67, 0.3), 0px 1px 3px 1px rgba(60, 64, 67, 0.15);\n",
              "      fill: #174EA6;\n",
              "    }\n",
              "\n",
              "    [theme=dark] .colab-df-convert {\n",
              "      background-color: #3B4455;\n",
              "      fill: #D2E3FC;\n",
              "    }\n",
              "\n",
              "    [theme=dark] .colab-df-convert:hover {\n",
              "      background-color: #434B5C;\n",
              "      box-shadow: 0px 1px 3px 1px rgba(0, 0, 0, 0.15);\n",
              "      filter: drop-shadow(0px 1px 2px rgba(0, 0, 0, 0.3));\n",
              "      fill: #FFFFFF;\n",
              "    }\n",
              "  </style>\n",
              "\n",
              "      <script>\n",
              "        const buttonEl =\n",
              "          document.querySelector('#df-c001423c-b223-404b-a919-44b238c5214c button.colab-df-convert');\n",
              "        buttonEl.style.display =\n",
              "          google.colab.kernel.accessAllowed ? 'block' : 'none';\n",
              "\n",
              "        async function convertToInteractive(key) {\n",
              "          const element = document.querySelector('#df-c001423c-b223-404b-a919-44b238c5214c');\n",
              "          const dataTable =\n",
              "            await google.colab.kernel.invokeFunction('convertToInteractive',\n",
              "                                                     [key], {});\n",
              "          if (!dataTable) return;\n",
              "\n",
              "          const docLinkHtml = 'Like what you see? Visit the ' +\n",
              "            '<a target=\"_blank\" href=https://colab.research.google.com/notebooks/data_table.ipynb>data table notebook</a>'\n",
              "            + ' to learn more about interactive tables.';\n",
              "          element.innerHTML = '';\n",
              "          dataTable['output_type'] = 'display_data';\n",
              "          await google.colab.output.renderOutput(dataTable, element);\n",
              "          const docLink = document.createElement('div');\n",
              "          docLink.innerHTML = docLinkHtml;\n",
              "          element.appendChild(docLink);\n",
              "        }\n",
              "      </script>\n",
              "    </div>\n",
              "  </div>\n",
              "  "
            ]
          },
          "metadata": {},
          "execution_count": 28
        }
      ]
    },
    {
      "cell_type": "code",
      "source": [
        "df[df['indice']==6467]"
      ],
      "metadata": {
        "colab": {
          "base_uri": "https://localhost:8080/",
          "height": 81
        },
        "id": "SkRzIvof9wXM",
        "outputId": "2b1f6cb9-d117-4efe-ecd0-08b1a09d5b17"
      },
      "execution_count": null,
      "outputs": [
        {
          "output_type": "execute_result",
          "data": {
            "text/plain": [
              "      indice                                        estrelas  \\\n",
              "6466    6467  Filled Star:Filled Star:Filled Star:Star:Star:   \n",
              "\n",
              "                                             comentario  qtd_estrelas  \\\n",
              "6466  Lectures on week4 are not complete as confirme...             3   \n",
              "\n",
              "      avaliacao  tamanho_comentario  \n",
              "6466          0                  74  "
            ],
            "text/html": [
              "\n",
              "  <div id=\"df-ca113e88-8d9d-45e4-ae2a-8e8260da7124\">\n",
              "    <div class=\"colab-df-container\">\n",
              "      <div>\n",
              "<style scoped>\n",
              "    .dataframe tbody tr th:only-of-type {\n",
              "        vertical-align: middle;\n",
              "    }\n",
              "\n",
              "    .dataframe tbody tr th {\n",
              "        vertical-align: top;\n",
              "    }\n",
              "\n",
              "    .dataframe thead th {\n",
              "        text-align: right;\n",
              "    }\n",
              "</style>\n",
              "<table border=\"1\" class=\"dataframe\">\n",
              "  <thead>\n",
              "    <tr style=\"text-align: right;\">\n",
              "      <th></th>\n",
              "      <th>indice</th>\n",
              "      <th>estrelas</th>\n",
              "      <th>comentario</th>\n",
              "      <th>qtd_estrelas</th>\n",
              "      <th>avaliacao</th>\n",
              "      <th>tamanho_comentario</th>\n",
              "    </tr>\n",
              "  </thead>\n",
              "  <tbody>\n",
              "    <tr>\n",
              "      <th>6466</th>\n",
              "      <td>6467</td>\n",
              "      <td>Filled Star:Filled Star:Filled Star:Star:Star:</td>\n",
              "      <td>Lectures on week4 are not complete as confirme...</td>\n",
              "      <td>3</td>\n",
              "      <td>0</td>\n",
              "      <td>74</td>\n",
              "    </tr>\n",
              "  </tbody>\n",
              "</table>\n",
              "</div>\n",
              "      <button class=\"colab-df-convert\" onclick=\"convertToInteractive('df-ca113e88-8d9d-45e4-ae2a-8e8260da7124')\"\n",
              "              title=\"Convert this dataframe to an interactive table.\"\n",
              "              style=\"display:none;\">\n",
              "        \n",
              "  <svg xmlns=\"http://www.w3.org/2000/svg\" height=\"24px\"viewBox=\"0 0 24 24\"\n",
              "       width=\"24px\">\n",
              "    <path d=\"M0 0h24v24H0V0z\" fill=\"none\"/>\n",
              "    <path d=\"M18.56 5.44l.94 2.06.94-2.06 2.06-.94-2.06-.94-.94-2.06-.94 2.06-2.06.94zm-11 1L8.5 8.5l.94-2.06 2.06-.94-2.06-.94L8.5 2.5l-.94 2.06-2.06.94zm10 10l.94 2.06.94-2.06 2.06-.94-2.06-.94-.94-2.06-.94 2.06-2.06.94z\"/><path d=\"M17.41 7.96l-1.37-1.37c-.4-.4-.92-.59-1.43-.59-.52 0-1.04.2-1.43.59L10.3 9.45l-7.72 7.72c-.78.78-.78 2.05 0 2.83L4 21.41c.39.39.9.59 1.41.59.51 0 1.02-.2 1.41-.59l7.78-7.78 2.81-2.81c.8-.78.8-2.07 0-2.86zM5.41 20L4 18.59l7.72-7.72 1.47 1.35L5.41 20z\"/>\n",
              "  </svg>\n",
              "      </button>\n",
              "      \n",
              "  <style>\n",
              "    .colab-df-container {\n",
              "      display:flex;\n",
              "      flex-wrap:wrap;\n",
              "      gap: 12px;\n",
              "    }\n",
              "\n",
              "    .colab-df-convert {\n",
              "      background-color: #E8F0FE;\n",
              "      border: none;\n",
              "      border-radius: 50%;\n",
              "      cursor: pointer;\n",
              "      display: none;\n",
              "      fill: #1967D2;\n",
              "      height: 32px;\n",
              "      padding: 0 0 0 0;\n",
              "      width: 32px;\n",
              "    }\n",
              "\n",
              "    .colab-df-convert:hover {\n",
              "      background-color: #E2EBFA;\n",
              "      box-shadow: 0px 1px 2px rgba(60, 64, 67, 0.3), 0px 1px 3px 1px rgba(60, 64, 67, 0.15);\n",
              "      fill: #174EA6;\n",
              "    }\n",
              "\n",
              "    [theme=dark] .colab-df-convert {\n",
              "      background-color: #3B4455;\n",
              "      fill: #D2E3FC;\n",
              "    }\n",
              "\n",
              "    [theme=dark] .colab-df-convert:hover {\n",
              "      background-color: #434B5C;\n",
              "      box-shadow: 0px 1px 3px 1px rgba(0, 0, 0, 0.15);\n",
              "      filter: drop-shadow(0px 1px 2px rgba(0, 0, 0, 0.3));\n",
              "      fill: #FFFFFF;\n",
              "    }\n",
              "  </style>\n",
              "\n",
              "      <script>\n",
              "        const buttonEl =\n",
              "          document.querySelector('#df-ca113e88-8d9d-45e4-ae2a-8e8260da7124 button.colab-df-convert');\n",
              "        buttonEl.style.display =\n",
              "          google.colab.kernel.accessAllowed ? 'block' : 'none';\n",
              "\n",
              "        async function convertToInteractive(key) {\n",
              "          const element = document.querySelector('#df-ca113e88-8d9d-45e4-ae2a-8e8260da7124');\n",
              "          const dataTable =\n",
              "            await google.colab.kernel.invokeFunction('convertToInteractive',\n",
              "                                                     [key], {});\n",
              "          if (!dataTable) return;\n",
              "\n",
              "          const docLinkHtml = 'Like what you see? Visit the ' +\n",
              "            '<a target=\"_blank\" href=https://colab.research.google.com/notebooks/data_table.ipynb>data table notebook</a>'\n",
              "            + ' to learn more about interactive tables.';\n",
              "          element.innerHTML = '';\n",
              "          dataTable['output_type'] = 'display_data';\n",
              "          await google.colab.output.renderOutput(dataTable, element);\n",
              "          const docLink = document.createElement('div');\n",
              "          docLink.innerHTML = docLinkHtml;\n",
              "          element.appendChild(docLink);\n",
              "        }\n",
              "      </script>\n",
              "    </div>\n",
              "  </div>\n",
              "  "
            ]
          },
          "metadata": {},
          "execution_count": 29
        }
      ]
    },
    {
      "cell_type": "markdown",
      "source": [
        "Analisando o tamanho dos comentários a fim de definir um tamanho máximo para ser usado no treinamento"
      ],
      "metadata": {
        "id": "yg3hBKKE3-b-"
      }
    },
    {
      "cell_type": "code",
      "source": [
        "# Tamanho do maior comentário\n",
        "df['tamanho_comentario'].max()"
      ],
      "metadata": {
        "colab": {
          "base_uri": "https://localhost:8080/"
        },
        "id": "WaKM033V2kno",
        "outputId": "27ad081c-894b-42ad-e0b1-2c78024a38bb"
      },
      "execution_count": null,
      "outputs": [
        {
          "output_type": "execute_result",
          "data": {
            "text/plain": [
              "1904"
            ]
          },
          "metadata": {},
          "execution_count": 91
        }
      ]
    },
    {
      "cell_type": "code",
      "source": [
        "df['tamanho_comentario'].describe()"
      ],
      "metadata": {
        "colab": {
          "base_uri": "https://localhost:8080/"
        },
        "id": "nGC8e6N23sZM",
        "outputId": "9bc62158-d500-4f33-f187-c254f2e8dcd6"
      },
      "execution_count": null,
      "outputs": [
        {
          "output_type": "execute_result",
          "data": {
            "text/plain": [
              "count    6467.000000\n",
              "mean      110.552807\n",
              "std       124.203054\n",
              "min         1.000000\n",
              "25%        31.000000\n",
              "50%        73.000000\n",
              "75%       146.000000\n",
              "max      1904.000000\n",
              "Name: tamanho_comentario, dtype: float64"
            ]
          },
          "metadata": {},
          "execution_count": 99
        }
      ]
    },
    {
      "cell_type": "code",
      "source": [
        "df[df['tamanho_comentario']>500]['tamanho_comentario'].count()"
      ],
      "metadata": {
        "colab": {
          "base_uri": "https://localhost:8080/"
        },
        "id": "yJTU4CNy27s4",
        "outputId": "a9ef2bae-5c6f-425d-d72b-c7c92779b79d"
      },
      "execution_count": null,
      "outputs": [
        {
          "output_type": "execute_result",
          "data": {
            "text/plain": [
              "88"
            ]
          },
          "metadata": {},
          "execution_count": 98
        }
      ]
    },
    {
      "cell_type": "code",
      "source": [
        "df[df['tamanho_comentario']>1000]['tamanho_comentario'].count()"
      ],
      "metadata": {
        "colab": {
          "base_uri": "https://localhost:8080/"
        },
        "id": "MY4cuW7j4Yfe",
        "outputId": "aff14142-b455-43b2-a7b1-16f91ee7181b"
      },
      "execution_count": null,
      "outputs": [
        {
          "output_type": "execute_result",
          "data": {
            "text/plain": [
              "7"
            ]
          },
          "metadata": {},
          "execution_count": 100
        }
      ]
    },
    {
      "cell_type": "code",
      "source": [
        "max_sent_length = 500"
      ],
      "metadata": {
        "id": "vaa6Fp9b4lAR"
      },
      "execution_count": null,
      "outputs": []
    },
    {
      "cell_type": "code",
      "source": [
        "df.to_csv(\"coursera-processado.csv\", index=False)"
      ],
      "metadata": {
        "id": "UeZmrY_j5GN-"
      },
      "execution_count": null,
      "outputs": []
    },
    {
      "cell_type": "code",
      "source": [
        "!ls"
      ],
      "metadata": {
        "colab": {
          "base_uri": "https://localhost:8080/"
        },
        "id": "fVwGj1lO6hIe",
        "outputId": "b18ec47f-f35c-4135-cec8-3ae87a835772"
      },
      "execution_count": null,
      "outputs": [
        {
          "output_type": "stream",
          "name": "stdout",
          "text": [
            "aulas\t\t\t  coursera-processado.csv\t\t  PLN01.ipynb\n",
            "coursera2.csv\t\t  coursera-processado-segunda-parte.csv   PLN02.ipynb\n",
            "coursera.csv\t\t  coursera-processado-versao-inicial.csv\n",
            "coursera-processado2.csv  coursera.py\n"
          ]
        }
      ]
    },
    {
      "cell_type": "code",
      "source": [
        "df = pd.read_csv(\"coursera-processado.csv\")\n",
        "df.shape"
      ],
      "metadata": {
        "colab": {
          "base_uri": "https://localhost:8080/"
        },
        "id": "m_-RC8OL6i-c",
        "outputId": "f98f28fb-f829-464e-9fe8-984c9e4303ff"
      },
      "execution_count": null,
      "outputs": [
        {
          "output_type": "execute_result",
          "data": {
            "text/plain": [
              "(6467, 6)"
            ]
          },
          "metadata": {},
          "execution_count": 32
        }
      ]
    },
    {
      "cell_type": "code",
      "source": [
        "print('A base possui um total de {} registros. Os 10 primeiros são:'.format(len(df)))\n",
        "\n",
        "df.head(10)"
      ],
      "metadata": {
        "colab": {
          "base_uri": "https://localhost:8080/",
          "height": 380
        },
        "id": "NjX70J216hNc",
        "outputId": "becdc9fe-41f2-4b85-ab58-ff6167e420b9"
      },
      "execution_count": null,
      "outputs": [
        {
          "output_type": "stream",
          "name": "stdout",
          "text": [
            "A base possui um total de 6467 registros. Os 10 primeiros são:\n"
          ]
        },
        {
          "output_type": "execute_result",
          "data": {
            "text/plain": [
              "   indice                                           estrelas  \\\n",
              "0       1                   Filled Star:Star:Star:Star:Star:   \n",
              "1       2            Filled Star:Filled Star:Star:Star:Star:   \n",
              "2       3                   Filled Star:Star:Star:Star:Star:   \n",
              "3       4     Filled Star:Filled Star:Filled Star:Star:Star:   \n",
              "4       5            Filled Star:Filled Star:Star:Star:Star:   \n",
              "5       6                   Filled Star:Star:Star:Star:Star:   \n",
              "6       7  Filled Star:Filled Star:Filled Star:Filled Sta...   \n",
              "7       8  Filled Star:Filled Star:Filled Star:Filled Sta...   \n",
              "8       9  Filled Star:Filled Star:Filled Star:Filled Sta...   \n",
              "9      10            Filled Star:Filled Star:Star:Star:Star:   \n",
              "\n",
              "                                          comentario  qtd_estrelas  avaliacao  \\\n",
              "0  Tons of editing errors in lectures, and the pr...             1          0   \n",
              "1  This course is by far the weakest out of the 5...             2          0   \n",
              "2  Full of appalling errors that have been presen...             1          0   \n",
              "3  I really like the deeplearning.ai specializati...             3          0   \n",
              "4  The lectures were great. Andrew is a wonderful...             2          0   \n",
              "5  Keras is required to pass the assignments but ...             1          0   \n",
              "6  To set the context, I have a PhD in Computer E...             5          1   \n",
              "7  I am so grateful that Andrew and the team prov...             5          1   \n",
              "8  I want to thank Andrew Ng and his team for the...             5          1   \n",
              "9  I went through all course of DeepLearning.ai S...             2          0   \n",
              "\n",
              "   tamanho_comentario  \n",
              "0                 249  \n",
              "1                 645  \n",
              "2                 419  \n",
              "3                 802  \n",
              "4                 835  \n",
              "5                 160  \n",
              "6                 264  \n",
              "7                 199  \n",
              "8                 155  \n",
              "9                 365  "
            ],
            "text/html": [
              "\n",
              "  <div id=\"df-f3a97025-1da5-4e66-a802-22cd037ecbcb\">\n",
              "    <div class=\"colab-df-container\">\n",
              "      <div>\n",
              "<style scoped>\n",
              "    .dataframe tbody tr th:only-of-type {\n",
              "        vertical-align: middle;\n",
              "    }\n",
              "\n",
              "    .dataframe tbody tr th {\n",
              "        vertical-align: top;\n",
              "    }\n",
              "\n",
              "    .dataframe thead th {\n",
              "        text-align: right;\n",
              "    }\n",
              "</style>\n",
              "<table border=\"1\" class=\"dataframe\">\n",
              "  <thead>\n",
              "    <tr style=\"text-align: right;\">\n",
              "      <th></th>\n",
              "      <th>indice</th>\n",
              "      <th>estrelas</th>\n",
              "      <th>comentario</th>\n",
              "      <th>qtd_estrelas</th>\n",
              "      <th>avaliacao</th>\n",
              "      <th>tamanho_comentario</th>\n",
              "    </tr>\n",
              "  </thead>\n",
              "  <tbody>\n",
              "    <tr>\n",
              "      <th>0</th>\n",
              "      <td>1</td>\n",
              "      <td>Filled Star:Star:Star:Star:Star:</td>\n",
              "      <td>Tons of editing errors in lectures, and the pr...</td>\n",
              "      <td>1</td>\n",
              "      <td>0</td>\n",
              "      <td>249</td>\n",
              "    </tr>\n",
              "    <tr>\n",
              "      <th>1</th>\n",
              "      <td>2</td>\n",
              "      <td>Filled Star:Filled Star:Star:Star:Star:</td>\n",
              "      <td>This course is by far the weakest out of the 5...</td>\n",
              "      <td>2</td>\n",
              "      <td>0</td>\n",
              "      <td>645</td>\n",
              "    </tr>\n",
              "    <tr>\n",
              "      <th>2</th>\n",
              "      <td>3</td>\n",
              "      <td>Filled Star:Star:Star:Star:Star:</td>\n",
              "      <td>Full of appalling errors that have been presen...</td>\n",
              "      <td>1</td>\n",
              "      <td>0</td>\n",
              "      <td>419</td>\n",
              "    </tr>\n",
              "    <tr>\n",
              "      <th>3</th>\n",
              "      <td>4</td>\n",
              "      <td>Filled Star:Filled Star:Filled Star:Star:Star:</td>\n",
              "      <td>I really like the deeplearning.ai specializati...</td>\n",
              "      <td>3</td>\n",
              "      <td>0</td>\n",
              "      <td>802</td>\n",
              "    </tr>\n",
              "    <tr>\n",
              "      <th>4</th>\n",
              "      <td>5</td>\n",
              "      <td>Filled Star:Filled Star:Star:Star:Star:</td>\n",
              "      <td>The lectures were great. Andrew is a wonderful...</td>\n",
              "      <td>2</td>\n",
              "      <td>0</td>\n",
              "      <td>835</td>\n",
              "    </tr>\n",
              "    <tr>\n",
              "      <th>5</th>\n",
              "      <td>6</td>\n",
              "      <td>Filled Star:Star:Star:Star:Star:</td>\n",
              "      <td>Keras is required to pass the assignments but ...</td>\n",
              "      <td>1</td>\n",
              "      <td>0</td>\n",
              "      <td>160</td>\n",
              "    </tr>\n",
              "    <tr>\n",
              "      <th>6</th>\n",
              "      <td>7</td>\n",
              "      <td>Filled Star:Filled Star:Filled Star:Filled Sta...</td>\n",
              "      <td>To set the context, I have a PhD in Computer E...</td>\n",
              "      <td>5</td>\n",
              "      <td>1</td>\n",
              "      <td>264</td>\n",
              "    </tr>\n",
              "    <tr>\n",
              "      <th>7</th>\n",
              "      <td>8</td>\n",
              "      <td>Filled Star:Filled Star:Filled Star:Filled Sta...</td>\n",
              "      <td>I am so grateful that Andrew and the team prov...</td>\n",
              "      <td>5</td>\n",
              "      <td>1</td>\n",
              "      <td>199</td>\n",
              "    </tr>\n",
              "    <tr>\n",
              "      <th>8</th>\n",
              "      <td>9</td>\n",
              "      <td>Filled Star:Filled Star:Filled Star:Filled Sta...</td>\n",
              "      <td>I want to thank Andrew Ng and his team for the...</td>\n",
              "      <td>5</td>\n",
              "      <td>1</td>\n",
              "      <td>155</td>\n",
              "    </tr>\n",
              "    <tr>\n",
              "      <th>9</th>\n",
              "      <td>10</td>\n",
              "      <td>Filled Star:Filled Star:Star:Star:Star:</td>\n",
              "      <td>I went through all course of DeepLearning.ai S...</td>\n",
              "      <td>2</td>\n",
              "      <td>0</td>\n",
              "      <td>365</td>\n",
              "    </tr>\n",
              "  </tbody>\n",
              "</table>\n",
              "</div>\n",
              "      <button class=\"colab-df-convert\" onclick=\"convertToInteractive('df-f3a97025-1da5-4e66-a802-22cd037ecbcb')\"\n",
              "              title=\"Convert this dataframe to an interactive table.\"\n",
              "              style=\"display:none;\">\n",
              "        \n",
              "  <svg xmlns=\"http://www.w3.org/2000/svg\" height=\"24px\"viewBox=\"0 0 24 24\"\n",
              "       width=\"24px\">\n",
              "    <path d=\"M0 0h24v24H0V0z\" fill=\"none\"/>\n",
              "    <path d=\"M18.56 5.44l.94 2.06.94-2.06 2.06-.94-2.06-.94-.94-2.06-.94 2.06-2.06.94zm-11 1L8.5 8.5l.94-2.06 2.06-.94-2.06-.94L8.5 2.5l-.94 2.06-2.06.94zm10 10l.94 2.06.94-2.06 2.06-.94-2.06-.94-.94-2.06-.94 2.06-2.06.94z\"/><path d=\"M17.41 7.96l-1.37-1.37c-.4-.4-.92-.59-1.43-.59-.52 0-1.04.2-1.43.59L10.3 9.45l-7.72 7.72c-.78.78-.78 2.05 0 2.83L4 21.41c.39.39.9.59 1.41.59.51 0 1.02-.2 1.41-.59l7.78-7.78 2.81-2.81c.8-.78.8-2.07 0-2.86zM5.41 20L4 18.59l7.72-7.72 1.47 1.35L5.41 20z\"/>\n",
              "  </svg>\n",
              "      </button>\n",
              "      \n",
              "  <style>\n",
              "    .colab-df-container {\n",
              "      display:flex;\n",
              "      flex-wrap:wrap;\n",
              "      gap: 12px;\n",
              "    }\n",
              "\n",
              "    .colab-df-convert {\n",
              "      background-color: #E8F0FE;\n",
              "      border: none;\n",
              "      border-radius: 50%;\n",
              "      cursor: pointer;\n",
              "      display: none;\n",
              "      fill: #1967D2;\n",
              "      height: 32px;\n",
              "      padding: 0 0 0 0;\n",
              "      width: 32px;\n",
              "    }\n",
              "\n",
              "    .colab-df-convert:hover {\n",
              "      background-color: #E2EBFA;\n",
              "      box-shadow: 0px 1px 2px rgba(60, 64, 67, 0.3), 0px 1px 3px 1px rgba(60, 64, 67, 0.15);\n",
              "      fill: #174EA6;\n",
              "    }\n",
              "\n",
              "    [theme=dark] .colab-df-convert {\n",
              "      background-color: #3B4455;\n",
              "      fill: #D2E3FC;\n",
              "    }\n",
              "\n",
              "    [theme=dark] .colab-df-convert:hover {\n",
              "      background-color: #434B5C;\n",
              "      box-shadow: 0px 1px 3px 1px rgba(0, 0, 0, 0.15);\n",
              "      filter: drop-shadow(0px 1px 2px rgba(0, 0, 0, 0.3));\n",
              "      fill: #FFFFFF;\n",
              "    }\n",
              "  </style>\n",
              "\n",
              "      <script>\n",
              "        const buttonEl =\n",
              "          document.querySelector('#df-f3a97025-1da5-4e66-a802-22cd037ecbcb button.colab-df-convert');\n",
              "        buttonEl.style.display =\n",
              "          google.colab.kernel.accessAllowed ? 'block' : 'none';\n",
              "\n",
              "        async function convertToInteractive(key) {\n",
              "          const element = document.querySelector('#df-f3a97025-1da5-4e66-a802-22cd037ecbcb');\n",
              "          const dataTable =\n",
              "            await google.colab.kernel.invokeFunction('convertToInteractive',\n",
              "                                                     [key], {});\n",
              "          if (!dataTable) return;\n",
              "\n",
              "          const docLinkHtml = 'Like what you see? Visit the ' +\n",
              "            '<a target=\"_blank\" href=https://colab.research.google.com/notebooks/data_table.ipynb>data table notebook</a>'\n",
              "            + ' to learn more about interactive tables.';\n",
              "          element.innerHTML = '';\n",
              "          dataTable['output_type'] = 'display_data';\n",
              "          await google.colab.output.renderOutput(dataTable, element);\n",
              "          const docLink = document.createElement('div');\n",
              "          docLink.innerHTML = docLinkHtml;\n",
              "          element.appendChild(docLink);\n",
              "        }\n",
              "      </script>\n",
              "    </div>\n",
              "  </div>\n",
              "  "
            ]
          },
          "metadata": {},
          "execution_count": 33
        }
      ]
    },
    {
      "cell_type": "code",
      "source": [
        "df.tail(10)"
      ],
      "metadata": {
        "colab": {
          "base_uri": "https://localhost:8080/",
          "height": 363
        },
        "id": "6oEdotDjAjCv",
        "outputId": "4e97d32a-cdba-459e-f8a4-c0b2893b8dfd"
      },
      "execution_count": null,
      "outputs": [
        {
          "output_type": "execute_result",
          "data": {
            "text/plain": [
              "      indice                                        estrelas  \\\n",
              "6457    6458  Filled Star:Filled Star:Filled Star:Star:Star:   \n",
              "6458    6459  Filled Star:Filled Star:Filled Star:Star:Star:   \n",
              "6459    6460  Filled Star:Filled Star:Filled Star:Star:Star:   \n",
              "6460    6461  Filled Star:Filled Star:Filled Star:Star:Star:   \n",
              "6461    6462  Filled Star:Filled Star:Filled Star:Star:Star:   \n",
              "6462    6463  Filled Star:Filled Star:Filled Star:Star:Star:   \n",
              "6463    6464  Filled Star:Filled Star:Filled Star:Star:Star:   \n",
              "6464    6465  Filled Star:Filled Star:Filled Star:Star:Star:   \n",
              "6465    6466  Filled Star:Filled Star:Filled Star:Star:Star:   \n",
              "6466    6467  Filled Star:Filled Star:Filled Star:Star:Star:   \n",
              "\n",
              "                                             comentario  qtd_estrelas  \\\n",
              "6457  Really Nice course. Could have been more fun i...             3   \n",
              "6458  Course is got but grader compilations are horr...             3   \n",
              "6459  Not as good as structured in explanation nor i...             3   \n",
              "6460  This is only good enough, not good course. All...             3   \n",
              "6461  the lab and programming is not as intuitive as...             3   \n",
              "6462  Overall a great class. I had some trouble unde...             3   \n",
              "6463  This felt the the least prepared and organized...             3   \n",
              "6464  give projects that we can build from ground up...             3   \n",
              "6465  Good theoretical overview - project just requi...             3   \n",
              "6466  Lectures on week4 are not complete as confirme...             3   \n",
              "\n",
              "      avaliacao  tamanho_comentario  \n",
              "6457          0                  90  \n",
              "6458          0                  90  \n",
              "6459          0                  88  \n",
              "6460          0                  86  \n",
              "6461          0                  85  \n",
              "6462          0                  84  \n",
              "6463          0                  84  \n",
              "6464          0                  77  \n",
              "6465          0                  77  \n",
              "6466          0                  74  "
            ],
            "text/html": [
              "\n",
              "  <div id=\"df-61ea2f97-a6de-48ba-b95a-695458506971\">\n",
              "    <div class=\"colab-df-container\">\n",
              "      <div>\n",
              "<style scoped>\n",
              "    .dataframe tbody tr th:only-of-type {\n",
              "        vertical-align: middle;\n",
              "    }\n",
              "\n",
              "    .dataframe tbody tr th {\n",
              "        vertical-align: top;\n",
              "    }\n",
              "\n",
              "    .dataframe thead th {\n",
              "        text-align: right;\n",
              "    }\n",
              "</style>\n",
              "<table border=\"1\" class=\"dataframe\">\n",
              "  <thead>\n",
              "    <tr style=\"text-align: right;\">\n",
              "      <th></th>\n",
              "      <th>indice</th>\n",
              "      <th>estrelas</th>\n",
              "      <th>comentario</th>\n",
              "      <th>qtd_estrelas</th>\n",
              "      <th>avaliacao</th>\n",
              "      <th>tamanho_comentario</th>\n",
              "    </tr>\n",
              "  </thead>\n",
              "  <tbody>\n",
              "    <tr>\n",
              "      <th>6457</th>\n",
              "      <td>6458</td>\n",
              "      <td>Filled Star:Filled Star:Filled Star:Star:Star:</td>\n",
              "      <td>Really Nice course. Could have been more fun i...</td>\n",
              "      <td>3</td>\n",
              "      <td>0</td>\n",
              "      <td>90</td>\n",
              "    </tr>\n",
              "    <tr>\n",
              "      <th>6458</th>\n",
              "      <td>6459</td>\n",
              "      <td>Filled Star:Filled Star:Filled Star:Star:Star:</td>\n",
              "      <td>Course is got but grader compilations are horr...</td>\n",
              "      <td>3</td>\n",
              "      <td>0</td>\n",
              "      <td>90</td>\n",
              "    </tr>\n",
              "    <tr>\n",
              "      <th>6459</th>\n",
              "      <td>6460</td>\n",
              "      <td>Filled Star:Filled Star:Filled Star:Star:Star:</td>\n",
              "      <td>Not as good as structured in explanation nor i...</td>\n",
              "      <td>3</td>\n",
              "      <td>0</td>\n",
              "      <td>88</td>\n",
              "    </tr>\n",
              "    <tr>\n",
              "      <th>6460</th>\n",
              "      <td>6461</td>\n",
              "      <td>Filled Star:Filled Star:Filled Star:Star:Star:</td>\n",
              "      <td>This is only good enough, not good course. All...</td>\n",
              "      <td>3</td>\n",
              "      <td>0</td>\n",
              "      <td>86</td>\n",
              "    </tr>\n",
              "    <tr>\n",
              "      <th>6461</th>\n",
              "      <td>6462</td>\n",
              "      <td>Filled Star:Filled Star:Filled Star:Star:Star:</td>\n",
              "      <td>the lab and programming is not as intuitive as...</td>\n",
              "      <td>3</td>\n",
              "      <td>0</td>\n",
              "      <td>85</td>\n",
              "    </tr>\n",
              "    <tr>\n",
              "      <th>6462</th>\n",
              "      <td>6463</td>\n",
              "      <td>Filled Star:Filled Star:Filled Star:Star:Star:</td>\n",
              "      <td>Overall a great class. I had some trouble unde...</td>\n",
              "      <td>3</td>\n",
              "      <td>0</td>\n",
              "      <td>84</td>\n",
              "    </tr>\n",
              "    <tr>\n",
              "      <th>6463</th>\n",
              "      <td>6464</td>\n",
              "      <td>Filled Star:Filled Star:Filled Star:Star:Star:</td>\n",
              "      <td>This felt the the least prepared and organized...</td>\n",
              "      <td>3</td>\n",
              "      <td>0</td>\n",
              "      <td>84</td>\n",
              "    </tr>\n",
              "    <tr>\n",
              "      <th>6464</th>\n",
              "      <td>6465</td>\n",
              "      <td>Filled Star:Filled Star:Filled Star:Star:Star:</td>\n",
              "      <td>give projects that we can build from ground up...</td>\n",
              "      <td>3</td>\n",
              "      <td>0</td>\n",
              "      <td>77</td>\n",
              "    </tr>\n",
              "    <tr>\n",
              "      <th>6465</th>\n",
              "      <td>6466</td>\n",
              "      <td>Filled Star:Filled Star:Filled Star:Star:Star:</td>\n",
              "      <td>Good theoretical overview - project just requi...</td>\n",
              "      <td>3</td>\n",
              "      <td>0</td>\n",
              "      <td>77</td>\n",
              "    </tr>\n",
              "    <tr>\n",
              "      <th>6466</th>\n",
              "      <td>6467</td>\n",
              "      <td>Filled Star:Filled Star:Filled Star:Star:Star:</td>\n",
              "      <td>Lectures on week4 are not complete as confirme...</td>\n",
              "      <td>3</td>\n",
              "      <td>0</td>\n",
              "      <td>74</td>\n",
              "    </tr>\n",
              "  </tbody>\n",
              "</table>\n",
              "</div>\n",
              "      <button class=\"colab-df-convert\" onclick=\"convertToInteractive('df-61ea2f97-a6de-48ba-b95a-695458506971')\"\n",
              "              title=\"Convert this dataframe to an interactive table.\"\n",
              "              style=\"display:none;\">\n",
              "        \n",
              "  <svg xmlns=\"http://www.w3.org/2000/svg\" height=\"24px\"viewBox=\"0 0 24 24\"\n",
              "       width=\"24px\">\n",
              "    <path d=\"M0 0h24v24H0V0z\" fill=\"none\"/>\n",
              "    <path d=\"M18.56 5.44l.94 2.06.94-2.06 2.06-.94-2.06-.94-.94-2.06-.94 2.06-2.06.94zm-11 1L8.5 8.5l.94-2.06 2.06-.94-2.06-.94L8.5 2.5l-.94 2.06-2.06.94zm10 10l.94 2.06.94-2.06 2.06-.94-2.06-.94-.94-2.06-.94 2.06-2.06.94z\"/><path d=\"M17.41 7.96l-1.37-1.37c-.4-.4-.92-.59-1.43-.59-.52 0-1.04.2-1.43.59L10.3 9.45l-7.72 7.72c-.78.78-.78 2.05 0 2.83L4 21.41c.39.39.9.59 1.41.59.51 0 1.02-.2 1.41-.59l7.78-7.78 2.81-2.81c.8-.78.8-2.07 0-2.86zM5.41 20L4 18.59l7.72-7.72 1.47 1.35L5.41 20z\"/>\n",
              "  </svg>\n",
              "      </button>\n",
              "      \n",
              "  <style>\n",
              "    .colab-df-container {\n",
              "      display:flex;\n",
              "      flex-wrap:wrap;\n",
              "      gap: 12px;\n",
              "    }\n",
              "\n",
              "    .colab-df-convert {\n",
              "      background-color: #E8F0FE;\n",
              "      border: none;\n",
              "      border-radius: 50%;\n",
              "      cursor: pointer;\n",
              "      display: none;\n",
              "      fill: #1967D2;\n",
              "      height: 32px;\n",
              "      padding: 0 0 0 0;\n",
              "      width: 32px;\n",
              "    }\n",
              "\n",
              "    .colab-df-convert:hover {\n",
              "      background-color: #E2EBFA;\n",
              "      box-shadow: 0px 1px 2px rgba(60, 64, 67, 0.3), 0px 1px 3px 1px rgba(60, 64, 67, 0.15);\n",
              "      fill: #174EA6;\n",
              "    }\n",
              "\n",
              "    [theme=dark] .colab-df-convert {\n",
              "      background-color: #3B4455;\n",
              "      fill: #D2E3FC;\n",
              "    }\n",
              "\n",
              "    [theme=dark] .colab-df-convert:hover {\n",
              "      background-color: #434B5C;\n",
              "      box-shadow: 0px 1px 3px 1px rgba(0, 0, 0, 0.15);\n",
              "      filter: drop-shadow(0px 1px 2px rgba(0, 0, 0, 0.3));\n",
              "      fill: #FFFFFF;\n",
              "    }\n",
              "  </style>\n",
              "\n",
              "      <script>\n",
              "        const buttonEl =\n",
              "          document.querySelector('#df-61ea2f97-a6de-48ba-b95a-695458506971 button.colab-df-convert');\n",
              "        buttonEl.style.display =\n",
              "          google.colab.kernel.accessAllowed ? 'block' : 'none';\n",
              "\n",
              "        async function convertToInteractive(key) {\n",
              "          const element = document.querySelector('#df-61ea2f97-a6de-48ba-b95a-695458506971');\n",
              "          const dataTable =\n",
              "            await google.colab.kernel.invokeFunction('convertToInteractive',\n",
              "                                                     [key], {});\n",
              "          if (!dataTable) return;\n",
              "\n",
              "          const docLinkHtml = 'Like what you see? Visit the ' +\n",
              "            '<a target=\"_blank\" href=https://colab.research.google.com/notebooks/data_table.ipynb>data table notebook</a>'\n",
              "            + ' to learn more about interactive tables.';\n",
              "          element.innerHTML = '';\n",
              "          dataTable['output_type'] = 'display_data';\n",
              "          await google.colab.output.renderOutput(dataTable, element);\n",
              "          const docLink = document.createElement('div');\n",
              "          docLink.innerHTML = docLinkHtml;\n",
              "          element.appendChild(docLink);\n",
              "        }\n",
              "      </script>\n",
              "    </div>\n",
              "  </div>\n",
              "  "
            ]
          },
          "metadata": {},
          "execution_count": 34
        }
      ]
    },
    {
      "cell_type": "code",
      "source": [],
      "metadata": {
        "id": "g9vfQDJ3AjHV"
      },
      "execution_count": null,
      "outputs": []
    },
    {
      "cell_type": "markdown",
      "source": [
        "# Pré-Processamento para divisão dos Dados e montagem de Dicionário"
      ],
      "metadata": {
        "id": "4tlkvIkwwZ1g"
      }
    },
    {
      "cell_type": "code",
      "source": [
        "# Recuperando a base salva após pré-processamento inicial\n",
        "df = pd.read_csv(\"coursera-processado.csv\")\n",
        "df.shape"
      ],
      "metadata": {
        "id": "hLhIu-A0AjLC",
        "colab": {
          "base_uri": "https://localhost:8080/"
        },
        "outputId": "a9b02ec0-bf7e-4b8f-f291-d6b561b448f7"
      },
      "execution_count": null,
      "outputs": [
        {
          "output_type": "execute_result",
          "data": {
            "text/plain": [
              "(6467, 6)"
            ]
          },
          "metadata": {},
          "execution_count": 7
        }
      ]
    },
    {
      "cell_type": "code",
      "source": [
        "df.info()"
      ],
      "metadata": {
        "colab": {
          "base_uri": "https://localhost:8080/"
        },
        "id": "C7ibeTp3wnHB",
        "outputId": "dfccc9ed-ad15-47b0-b049-de68bddb9520"
      },
      "execution_count": null,
      "outputs": [
        {
          "output_type": "stream",
          "name": "stdout",
          "text": [
            "<class 'pandas.core.frame.DataFrame'>\n",
            "RangeIndex: 6467 entries, 0 to 6466\n",
            "Data columns (total 6 columns):\n",
            " #   Column              Non-Null Count  Dtype \n",
            "---  ------              --------------  ----- \n",
            " 0   indice              6467 non-null   int64 \n",
            " 1   estrelas            6467 non-null   object\n",
            " 2   comentario          6467 non-null   object\n",
            " 3   qtd_estrelas        6467 non-null   int64 \n",
            " 4   avaliacao           6467 non-null   int64 \n",
            " 5   tamanho_comentario  6467 non-null   int64 \n",
            "dtypes: int64(4), object(2)\n",
            "memory usage: 303.3+ KB\n"
          ]
        }
      ]
    },
    {
      "cell_type": "code",
      "source": [
        "data = df[['comentario', 'avaliacao']]"
      ],
      "metadata": {
        "id": "MT2ydU0Ek4gt"
      },
      "execution_count": null,
      "outputs": []
    },
    {
      "cell_type": "code",
      "source": [
        "data.info()"
      ],
      "metadata": {
        "colab": {
          "base_uri": "https://localhost:8080/"
        },
        "id": "irSG1oMNlCsn",
        "outputId": "1892a024-fce6-4c13-b34d-f0173c513ce2"
      },
      "execution_count": null,
      "outputs": [
        {
          "output_type": "stream",
          "name": "stdout",
          "text": [
            "<class 'pandas.core.frame.DataFrame'>\n",
            "RangeIndex: 6467 entries, 0 to 6466\n",
            "Data columns (total 2 columns):\n",
            " #   Column      Non-Null Count  Dtype \n",
            "---  ------      --------------  ----- \n",
            " 0   comentario  6467 non-null   object\n",
            " 1   avaliacao   6467 non-null   int64 \n",
            "dtypes: int64(1), object(1)\n",
            "memory usage: 101.2+ KB\n"
          ]
        }
      ]
    },
    {
      "cell_type": "code",
      "source": [
        "# Separação dos dados em conjuntos de treinamento e teste\n",
        "from sklearn.model_selection import train_test_split\n",
        "SEED = 42\n",
        "\n",
        "data_train, data_test = train_test_split(data, shuffle=True, random_state=SEED, test_size=0.25)\n",
        "\n",
        "print(data_train.shape)\n",
        "print(data_test.shape)"
      ],
      "metadata": {
        "colab": {
          "base_uri": "https://localhost:8080/"
        },
        "id": "wrM6Ur7Plq62",
        "outputId": "e53feb05-955a-4bc7-d0c6-da26efc505af"
      },
      "execution_count": null,
      "outputs": [
        {
          "output_type": "stream",
          "name": "stdout",
          "text": [
            "(4850, 2)\n",
            "(1617, 2)\n"
          ]
        }
      ]
    },
    {
      "cell_type": "code",
      "source": [
        "# Separação dos dados de treinamento em conjuntos de treinamento e validação\n",
        "from sklearn.model_selection import train_test_split\n",
        "SEED = 42\n",
        "\n",
        "data_train, data_val = train_test_split(data_train, shuffle=True, random_state=SEED, test_size=0.25)\n",
        "\n",
        "print(data_train.shape)\n",
        "print(data_val.shape)\n"
      ],
      "metadata": {
        "colab": {
          "base_uri": "https://localhost:8080/"
        },
        "id": "FLIx2Aaocohw",
        "outputId": "be5bae22-ff8a-4b4f-c148-da99bbc6475f"
      },
      "execution_count": null,
      "outputs": [
        {
          "output_type": "stream",
          "name": "stdout",
          "text": [
            "(3637, 2)\n",
            "(1213, 2)\n"
          ]
        }
      ]
    },
    {
      "cell_type": "code",
      "source": [
        "data_train = data_train.to_numpy()\n",
        "data_val = data_val.to_numpy()\n",
        "data_test = data_test.to_numpy()"
      ],
      "metadata": {
        "id": "pctr_vkFoRdv"
      },
      "execution_count": null,
      "outputs": []
    },
    {
      "cell_type": "code",
      "source": [
        "data_train.shape"
      ],
      "metadata": {
        "colab": {
          "base_uri": "https://localhost:8080/"
        },
        "id": "S0XREBRluXby",
        "outputId": "aae5b2db-af92-44af-a99f-0b125165f764"
      },
      "execution_count": null,
      "outputs": [
        {
          "output_type": "execute_result",
          "data": {
            "text/plain": [
              "(3637, 2)"
            ]
          },
          "metadata": {},
          "execution_count": 14
        }
      ]
    },
    {
      "cell_type": "code",
      "source": [
        "data_test[1]"
      ],
      "metadata": {
        "colab": {
          "base_uri": "https://localhost:8080/"
        },
        "id": "i64pLLfPosD7",
        "outputId": "550176af-3842-414b-8704-d103379bc3a0"
      },
      "execution_count": null,
      "outputs": [
        {
          "output_type": "execute_result",
          "data": {
            "text/plain": [
              "array(['Course content and lectures are excellent. Programming assignments have some minor glitches which should be addressed for a course that requires tuition. ',\n",
              "       1], dtype=object)"
            ]
          },
          "metadata": {},
          "execution_count": 15
        }
      ]
    },
    {
      "cell_type": "code",
      "source": [
        "data_train[0:2]"
      ],
      "metadata": {
        "colab": {
          "base_uri": "https://localhost:8080/"
        },
        "id": "fEtlLgRgqsby",
        "outputId": "9f858719-f8a8-4e5b-f2c0-669a86cbcf05"
      },
      "execution_count": null,
      "outputs": [
        {
          "output_type": "execute_result",
          "data": {
            "text/plain": [
              "array([['  Super, extremelly good !!!  ', 1],\n",
              "       ['Awesome', 1]], dtype=object)"
            ]
          },
          "metadata": {},
          "execution_count": 16
        }
      ]
    },
    {
      "cell_type": "code",
      "source": [
        "def convert_to_dict_format(d):\n",
        "  reviews = []\n",
        "  labels = []\n",
        "  \n",
        "  for r, l in d:\n",
        "    aux_r = bytes(r, 'utf-8')\n",
        "    reviews.append(aux_r)\n",
        "    labels.append(l)\n",
        "  \n",
        "  return {'reviews': reviews, 'labels':labels}"
      ],
      "metadata": {
        "id": "EhCDTBJ2kgR2"
      },
      "execution_count": null,
      "outputs": []
    },
    {
      "cell_type": "code",
      "source": [
        "convert_to_dict_format( data_train[0:2])"
      ],
      "metadata": {
        "colab": {
          "base_uri": "https://localhost:8080/"
        },
        "id": "_4ctsZ3YrutC",
        "outputId": "dbe37415-7571-45e3-abf6-557812a0c354"
      },
      "execution_count": null,
      "outputs": [
        {
          "output_type": "execute_result",
          "data": {
            "text/plain": [
              "{'reviews': [b'  Super, extremelly good !!!  ', b'Awesome'], 'labels': [1, 1]}"
            ]
          },
          "metadata": {},
          "execution_count": 18
        }
      ]
    },
    {
      "cell_type": "code",
      "source": [
        "data_train = convert_to_dict_format(data_train)\n",
        "data_val = convert_to_dict_format(data_val)\n",
        "#data_test = convert_to_dict_format(data_test[0:249])\n",
        "#data_test = convert_to_dict_format(data_test[0:499])\n",
        "#data_test = convert_to_dict_format(data_test[0:749])\n",
        "#data_test = convert_to_dict_format(data_test[0:999])\n",
        "data_test = convert_to_dict_format(data_test)"
      ],
      "metadata": {
        "id": "6CPQVFwnnuGM"
      },
      "execution_count": null,
      "outputs": []
    },
    {
      "cell_type": "code",
      "source": [
        "#data_train = convert_to_dict_format(data_train[0:499])\n",
        "#data_val = convert_to_dict_format(data_val[0:249])\n",
        "#data_test = convert_to_dict_format(data_test[0:249])"
      ],
      "metadata": {
        "id": "rmizju6r7aym"
      },
      "execution_count": null,
      "outputs": []
    },
    {
      "cell_type": "code",
      "source": [],
      "metadata": {
        "id": "3c7HJktKRBqI"
      },
      "execution_count": null,
      "outputs": []
    },
    {
      "cell_type": "code",
      "source": [],
      "metadata": {
        "id": "ZpMKaQeMRB4r"
      },
      "execution_count": null,
      "outputs": []
    },
    {
      "cell_type": "markdown",
      "source": [
        "# Fazendo uso do BERT para processar os dados"
      ],
      "metadata": {
        "id": "GIact5VHxGOx"
      }
    },
    {
      "cell_type": "code",
      "source": [
        "import os\n",
        "\n",
        "import numpy as np\n",
        "import matplotlib.pyplot as plt\n",
        "\n",
        "import tensorflow as tf\n",
        "#import tensorflow_models as tfm\n",
        "import tensorflow_hub as hub\n",
        "#import tensorflow_datasets as tfds\n",
        "#tfds.disable_progress_bar()\n",
        "\n",
        "from official.modeling import tf_utils\n",
        "from official import nlp\n",
        "from official.nlp import bert\n",
        "\n",
        "# Load the required submodules\n",
        "import official.nlp.optimization\n",
        "import official.nlp.bert.bert_models\n",
        "import official.nlp.bert.configs\n",
        "import official.nlp.bert.run_classifier\n",
        "import official.nlp.bert.tokenization\n",
        "import official.nlp.data.classifier_data_lib\n",
        "import official.nlp.modeling.losses\n",
        "import official.nlp.modeling.models\n",
        "import official.nlp.modeling.networks"
      ],
      "metadata": {
        "id": "9AB_cuHZY5a3",
        "colab": {
          "base_uri": "https://localhost:8080/"
        },
        "outputId": "ea0d28a0-72de-451f-ef46-779579ce4104"
      },
      "execution_count": null,
      "outputs": [
        {
          "output_type": "stream",
          "name": "stderr",
          "text": [
            "/usr/local/lib/python3.9/dist-packages/tensorflow_addons/utils/tfa_eol_msg.py:23: UserWarning: \n",
            "\n",
            "TensorFlow Addons (TFA) has ended development and introduction of new features.\n",
            "TFA has entered a minimal maintenance and release mode until a planned end of life in May 2024.\n",
            "Please modify downstream libraries to take dependencies from other repositories in our TensorFlow community (e.g. Keras, Keras-CV, and Keras-NLP). \n",
            "\n",
            "For more information see: https://github.com/tensorflow/addons/issues/2807 \n",
            "\n",
            "  warnings.warn(\n",
            "/usr/local/lib/python3.9/dist-packages/tensorflow_addons/utils/ensure_tf_install.py:53: UserWarning: Tensorflow Addons supports using Python ops for all Tensorflow versions above or equal to 2.10.0 and strictly below 2.13.0 (nightly versions are not supported). \n",
            " The versions of TensorFlow you are currently using is 2.8.4 and is not supported. \n",
            "Some things might work, some things might not.\n",
            "If you were to encounter a bug, do not file an issue.\n",
            "If you want to make sure you're using a tested and supported configuration, either change the TensorFlow version or the TensorFlow Addons's version. \n",
            "You can find the compatibility matrix in TensorFlow Addon's readme:\n",
            "https://github.com/tensorflow/addons\n",
            "  warnings.warn(\n"
          ]
        }
      ]
    },
    {
      "cell_type": "code",
      "source": [
        "print(tf.__version__)"
      ],
      "metadata": {
        "colab": {
          "base_uri": "https://localhost:8080/"
        },
        "id": "GbG6NqwdZUFU",
        "outputId": "80c343dc-8e97-4544-e616-d0b08d86a2c6"
      },
      "execution_count": null,
      "outputs": [
        {
          "output_type": "stream",
          "name": "stdout",
          "text": [
            "2.8.4\n"
          ]
        }
      ]
    },
    {
      "cell_type": "code",
      "source": [
        "gs_folder_bert = \"gs://cloud-tpu-checkpoints/bert/keras_bert/uncased_L-12_H-768_A-12\"\n",
        "tf.io.gfile.listdir(gs_folder_bert)"
      ],
      "metadata": {
        "colab": {
          "base_uri": "https://localhost:8080/"
        },
        "id": "wKRYUAh0ZUOv",
        "outputId": "21aed110-58ac-43e7-f618-32c1cb2c415b"
      },
      "execution_count": null,
      "outputs": [
        {
          "output_type": "execute_result",
          "data": {
            "text/plain": [
              "['bert_config.json',\n",
              " 'bert_model.ckpt.data-00000-of-00001',\n",
              " 'bert_model.ckpt.index',\n",
              " 'vocab.txt']"
            ]
          },
          "metadata": {},
          "execution_count": 22
        }
      ]
    },
    {
      "cell_type": "code",
      "source": [
        "hub_url_bert = \"https://tfhub.dev/tensorflow/bert_en_uncased_L-12_H-768_A-12/2\""
      ],
      "metadata": {
        "id": "acim8N-KZgPD"
      },
      "execution_count": null,
      "outputs": []
    },
    {
      "cell_type": "code",
      "source": [
        "# Set up tokenizer to generate Tensorflow dataset\n",
        "tokenizer = bert.tokenization.FullTokenizer(\n",
        "    vocab_file=os.path.join(gs_folder_bert, \"vocab.txt\"),\n",
        "     do_lower_case=True)\n",
        "\n",
        "print(\"Vocab size:\", len(tokenizer.vocab))"
      ],
      "metadata": {
        "colab": {
          "base_uri": "https://localhost:8080/"
        },
        "id": "Ya4zlivvZgUB",
        "outputId": "2cf1912a-2a07-451f-9892-61c48e8c92c5"
      },
      "execution_count": null,
      "outputs": [
        {
          "output_type": "stream",
          "name": "stdout",
          "text": [
            "Vocab size: 30522\n"
          ]
        }
      ]
    },
    {
      "cell_type": "code",
      "source": [
        "tokenizer.convert_tokens_to_ids(['[CLS]', '[SEP]'])"
      ],
      "metadata": {
        "colab": {
          "base_uri": "https://localhost:8080/"
        },
        "id": "_YtUz5EFZgYY",
        "outputId": "c1009088-dc8a-46b7-fd55-3b29d8c6c06b"
      },
      "execution_count": null,
      "outputs": [
        {
          "output_type": "execute_result",
          "data": {
            "text/plain": [
              "[101, 102]"
            ]
          },
          "metadata": {},
          "execution_count": 17
        }
      ]
    },
    {
      "cell_type": "markdown",
      "source": [
        "## Preparar Dados para processamento pelo Bert"
      ],
      "metadata": {
        "id": "wReR-FZgaYur"
      }
    },
    {
      "cell_type": "code",
      "source": [
        "# valor definido pela avaliação feita na seção deste notebook intitulada:\n",
        "# Pré-processamento do aquivo CSV com dados coletados da plataforma da \"Coursera\"\n",
        "max_sent_length = 500"
      ],
      "metadata": {
        "id": "b0fwb6RuzrVt"
      },
      "execution_count": null,
      "outputs": []
    },
    {
      "cell_type": "code",
      "source": [
        "# Rótulos definidos a partir do agrupamento das avaliações realizado na seção deste notebook intitulada:\n",
        "# Pré-processamento do aquivo CSV com dados coletados da plataforma da \"Coursera\"\n",
        "avaliacoes_rotulos = ['ruim','boa']"
      ],
      "metadata": {
        "id": "_JdekPL44SDX"
      },
      "execution_count": null,
      "outputs": []
    },
    {
      "cell_type": "code",
      "source": [
        "def encode_sentence(s, tokenizer):\n",
        "   tokens = list(tokenizer.tokenize(s))\n",
        "   tokens.append('[SEP]')\n",
        "   return tokenizer.convert_tokens_to_ids(tokens)\n",
        "\n",
        "print(encode_sentence(data_train['reviews'][0][:max_sent_length], tokenizer))"
      ],
      "metadata": {
        "colab": {
          "base_uri": "https://localhost:8080/"
        },
        "id": "Br3a1rSEisqe",
        "outputId": "66b1ba64-508c-4e65-ec26-1274a419af36"
      },
      "execution_count": null,
      "outputs": [
        {
          "output_type": "stream",
          "name": "stdout",
          "text": [
            "[3565, 1010, 6034, 9215, 2204, 999, 999, 999, 102]\n"
          ]
        }
      ]
    },
    {
      "cell_type": "code",
      "source": [
        "def bert_encode(imdb, tokenizer):\n",
        "  num_examples = len(imdb['reviews'])\n",
        "  \n",
        "  review = tf.ragged.constant([\n",
        "      encode_sentence(s[:max_sent_length], tokenizer)\n",
        "      for s in imdb[\"reviews\"]])\n",
        "\n",
        "  cls = [tokenizer.convert_tokens_to_ids(['[CLS]'])] * review.shape[0]\n",
        "  input_word_ids = tf.concat([cls, review], axis=-1)\n",
        "\n",
        "  input_mask = tf.ones_like(input_word_ids).to_tensor()\n",
        "\n",
        "  type_cls = tf.zeros_like(cls)\n",
        "  type_s1 = tf.ones_like(review)\n",
        "  \n",
        "  input_type_ids = tf.concat(\n",
        "      [type_cls, type_s1], axis=-1).to_tensor()\n",
        "\n",
        "  inputs = {\n",
        "      'input_word_ids': input_word_ids.to_tensor(),\n",
        "      'input_mask': input_mask,\n",
        "      'input_type_ids': input_type_ids}\n",
        "\n",
        "  return inputs"
      ],
      "metadata": {
        "id": "UykNGqDbjTSo"
      },
      "execution_count": null,
      "outputs": []
    },
    {
      "cell_type": "code",
      "source": [
        "data_train_enc = bert_encode(data_train, tokenizer)\n",
        "data_train_labels = np.array(data_train['labels'])\n",
        "\n",
        "data_validation_enc = bert_encode(data_val, tokenizer)\n",
        "data_validation_labels = np.array(data_val['labels'])\n",
        "\n",
        "data_test_enc = bert_encode(data_test, tokenizer)\n",
        "data_test_labels  = np.array(data_test['labels'])"
      ],
      "metadata": {
        "id": "g-YZrikyjcGA"
      },
      "execution_count": null,
      "outputs": []
    },
    {
      "cell_type": "code",
      "source": [
        "data_train_enc['input_word_ids'][0]"
      ],
      "metadata": {
        "colab": {
          "base_uri": "https://localhost:8080/"
        },
        "id": "CmCmmz2NjnmY",
        "outputId": "3affa7d6-ec83-49a8-fc0c-67cd8c9a0c62"
      },
      "execution_count": null,
      "outputs": [
        {
          "output_type": "execute_result",
          "data": {
            "text/plain": [
              "<tf.Tensor: shape=(150,), dtype=int32, numpy=\n",
              "array([ 101, 3565, 1010, 6034, 9215, 2204,  999,  999,  999,  102,    0,\n",
              "          0,    0,    0,    0,    0,    0,    0,    0,    0,    0,    0,\n",
              "          0,    0,    0,    0,    0,    0,    0,    0,    0,    0,    0,\n",
              "          0,    0,    0,    0,    0,    0,    0,    0,    0,    0,    0,\n",
              "          0,    0,    0,    0,    0,    0,    0,    0,    0,    0,    0,\n",
              "          0,    0,    0,    0,    0,    0,    0,    0,    0,    0,    0,\n",
              "          0,    0,    0,    0,    0,    0,    0,    0,    0,    0,    0,\n",
              "          0,    0,    0,    0,    0,    0,    0,    0,    0,    0,    0,\n",
              "          0,    0,    0,    0,    0,    0,    0,    0,    0,    0,    0,\n",
              "          0,    0,    0,    0,    0,    0,    0,    0,    0,    0,    0,\n",
              "          0,    0,    0,    0,    0,    0,    0,    0,    0,    0,    0,\n",
              "          0,    0,    0,    0,    0,    0,    0,    0,    0,    0,    0,\n",
              "          0,    0,    0,    0,    0,    0,    0,    0,    0,    0,    0,\n",
              "          0,    0,    0,    0,    0,    0,    0], dtype=int32)>"
            ]
          },
          "metadata": {},
          "execution_count": 30
        }
      ]
    },
    {
      "cell_type": "code",
      "source": [
        "for key, value in data_train_enc.items():\n",
        "  print(f'{key:15s} shape: {value.shape}')\n",
        "\n",
        "print(f'data_train_labels shape: {data_train_labels.shape}')"
      ],
      "metadata": {
        "colab": {
          "base_uri": "https://localhost:8080/"
        },
        "id": "-w0G-SxVjocK",
        "outputId": "d6cd8633-f6d7-46e5-9545-10aa68c81cd0"
      },
      "execution_count": null,
      "outputs": [
        {
          "output_type": "stream",
          "name": "stdout",
          "text": [
            "input_word_ids  shape: (3637, 150)\n",
            "input_mask      shape: (3637, 150)\n",
            "input_type_ids  shape: (3637, 150)\n",
            "data_train_labels shape: (3637,)\n"
          ]
        }
      ]
    },
    {
      "cell_type": "code",
      "source": [
        "for key, value in data_test_enc.items():\n",
        "  print(f'{key:15s} shape: {value.shape}')\n",
        "\n",
        "print(f'data_test_labels shape: {data_test_labels.shape}')"
      ],
      "metadata": {
        "colab": {
          "base_uri": "https://localhost:8080/"
        },
        "id": "9j7vGNldW54D",
        "outputId": "8735c6c9-6bd4-4a02-e10a-d2d35d2686ee"
      },
      "execution_count": null,
      "outputs": [
        {
          "output_type": "stream",
          "name": "stdout",
          "text": [
            "input_word_ids  shape: (1617, 150)\n",
            "input_mask      shape: (1617, 150)\n",
            "input_type_ids  shape: (1617, 150)\n",
            "data_test_labels shape: (1617,)\n"
          ]
        }
      ]
    },
    {
      "cell_type": "markdown",
      "source": [
        "## Ajuste de configuração do Modelo, fine-tunning e Avaliação\n"
      ],
      "metadata": {
        "id": "MwfjYyf5afTT"
      }
    },
    {
      "cell_type": "code",
      "source": [
        "import json\n",
        "\n",
        "bert_config_file = os.path.join(gs_folder_bert, \"bert_config.json\")\n",
        "config_dict = json.loads(tf.io.gfile.GFile(bert_config_file).read())\n",
        "\n",
        "bert_config = bert.configs.BertConfig.from_dict(config_dict)\n",
        "\n",
        "config_dict"
      ],
      "metadata": {
        "colab": {
          "base_uri": "https://localhost:8080/"
        },
        "id": "6zghaMeuaC54",
        "outputId": "0a8682b3-8465-492d-c637-cf48438cb7b8"
      },
      "execution_count": null,
      "outputs": [
        {
          "output_type": "execute_result",
          "data": {
            "text/plain": [
              "{'attention_probs_dropout_prob': 0.1,\n",
              " 'hidden_act': 'gelu',\n",
              " 'hidden_dropout_prob': 0.1,\n",
              " 'hidden_size': 768,\n",
              " 'initializer_range': 0.02,\n",
              " 'intermediate_size': 3072,\n",
              " 'max_position_embeddings': 512,\n",
              " 'num_attention_heads': 12,\n",
              " 'num_hidden_layers': 12,\n",
              " 'type_vocab_size': 2,\n",
              " 'vocab_size': 30522}"
            ]
          },
          "metadata": {},
          "execution_count": 33
        }
      ]
    },
    {
      "cell_type": "code",
      "source": [
        "bert_classifier, bert_encoder = bert.bert_models.classifier_model(bert_config, num_labels=2)"
      ],
      "metadata": {
        "id": "9ptO9syDY5li"
      },
      "execution_count": null,
      "outputs": []
    },
    {
      "cell_type": "code",
      "source": [
        "# When built the encoder is randomly initialized. Restore the encoder's weights from the checkpoint:\n",
        "checkpoint = tf.train.Checkpoint(model=bert_encoder)\n",
        "checkpoint.restore(\n",
        "    os.path.join(gs_folder_bert, 'bert_model.ckpt')).assert_consumed()"
      ],
      "metadata": {
        "colab": {
          "base_uri": "https://localhost:8080/"
        },
        "id": "Hef1gbazay9v",
        "outputId": "ed114780-2103-41b1-bda4-6691a932629a"
      },
      "execution_count": null,
      "outputs": [
        {
          "output_type": "execute_result",
          "data": {
            "text/plain": [
              "<tensorflow.python.training.tracking.util.CheckpointLoadStatus at 0x7ff710031f10>"
            ]
          },
          "metadata": {},
          "execution_count": 35
        }
      ]
    },
    {
      "cell_type": "markdown",
      "source": [
        "BERT adopts the Adam optimizer with weight decay (aka \"AdamW\"). It also employs a learning rate schedule that firstly warms up from 0 and then decays to 0."
      ],
      "metadata": {
        "id": "C28YCi7Doi75"
      }
    },
    {
      "cell_type": "code",
      "source": [
        "# Set up epochs and steps\n",
        "epochs = 10\n",
        "batch_size = 32\n",
        "eval_batch_size = 32\n",
        "\n",
        "train_data_size = len(data_train_labels)\n",
        "steps_per_epoch = int(train_data_size / batch_size)\n",
        "num_train_steps = steps_per_epoch * epochs\n",
        "warmup_steps = int(epochs * train_data_size * 0.1 / batch_size)\n",
        "\n",
        "# creates an optimizer with learning rate schedule\n",
        "optimizer = nlp.optimization.create_optimizer(\n",
        "    2e-5, num_train_steps=num_train_steps, num_warmup_steps=warmup_steps)"
      ],
      "metadata": {
        "id": "hxBFHs6IazO5"
      },
      "execution_count": null,
      "outputs": []
    },
    {
      "cell_type": "code",
      "source": [
        "type(optimizer)"
      ],
      "metadata": {
        "colab": {
          "base_uri": "https://localhost:8080/"
        },
        "id": "dJZT7lu3nrwu",
        "outputId": "3cb75f8f-bfda-4da9-c800-9e84162e7c61"
      },
      "execution_count": null,
      "outputs": [
        {
          "output_type": "execute_result",
          "data": {
            "text/plain": [
              "official.nlp.optimization.AdamWeightDecay"
            ]
          },
          "metadata": {},
          "execution_count": 37
        }
      ]
    },
    {
      "cell_type": "markdown",
      "source": [
        "Treinamento do Modelo"
      ],
      "metadata": {
        "id": "20xRo4IjpagR"
      }
    },
    {
      "cell_type": "code",
      "source": [
        "metrics = [tf.keras.metrics.SparseCategoricalAccuracy('accuracy', dtype=tf.float32)]\n",
        "loss = tf.keras.losses.SparseCategoricalCrossentropy(from_logits=True)\n",
        "\n",
        "bert_classifier.compile(\n",
        "    optimizer=optimizer,\n",
        "    loss=loss,\n",
        "    metrics=metrics)\n",
        "\n",
        "bert_classifier.fit(\n",
        "      data_train_enc, data_train_labels,\n",
        "      validation_data=(data_validation_enc, data_validation_labels),\n",
        "      batch_size=batch_size,\n",
        "      epochs=epochs)"
      ],
      "metadata": {
        "colab": {
          "base_uri": "https://localhost:8080/"
        },
        "id": "IpuOMhQenr0Z",
        "outputId": "2f2ddd7d-7c2c-42ff-d1f1-2e3557ff30b9"
      },
      "execution_count": null,
      "outputs": [
        {
          "output_type": "stream",
          "name": "stdout",
          "text": [
            "Epoch 1/10\n",
            "114/114 [==============================] - 33s 140ms/step - loss: 0.3536 - accuracy: 0.8812 - val_loss: 0.1849 - val_accuracy: 0.9209\n",
            "Epoch 2/10\n",
            "114/114 [==============================] - 15s 129ms/step - loss: 0.1229 - accuracy: 0.9500 - val_loss: 0.1538 - val_accuracy: 0.9357\n",
            "Epoch 3/10\n",
            "114/114 [==============================] - 15s 129ms/step - loss: 0.0639 - accuracy: 0.9813 - val_loss: 0.1559 - val_accuracy: 0.9530\n",
            "Epoch 4/10\n",
            "114/114 [==============================] - 15s 129ms/step - loss: 0.0338 - accuracy: 0.9926 - val_loss: 0.1613 - val_accuracy: 0.9588\n",
            "Epoch 5/10\n",
            "114/114 [==============================] - 15s 129ms/step - loss: 0.0214 - accuracy: 0.9956 - val_loss: 0.1835 - val_accuracy: 0.9621\n",
            "Epoch 6/10\n",
            "114/114 [==============================] - 15s 130ms/step - loss: 0.0132 - accuracy: 0.9970 - val_loss: 0.1946 - val_accuracy: 0.9563\n",
            "Epoch 7/10\n",
            "114/114 [==============================] - 15s 129ms/step - loss: 0.0076 - accuracy: 0.9986 - val_loss: 0.2216 - val_accuracy: 0.9588\n",
            "Epoch 8/10\n",
            "114/114 [==============================] - 15s 129ms/step - loss: 0.0063 - accuracy: 0.9989 - val_loss: 0.2099 - val_accuracy: 0.9588\n",
            "Epoch 9/10\n",
            "114/114 [==============================] - 15s 129ms/step - loss: 0.0049 - accuracy: 0.9989 - val_loss: 0.2219 - val_accuracy: 0.9571\n",
            "Epoch 10/10\n",
            "114/114 [==============================] - 15s 129ms/step - loss: 0.0037 - accuracy: 0.9995 - val_loss: 0.2219 - val_accuracy: 0.9588\n"
          ]
        },
        {
          "output_type": "execute_result",
          "data": {
            "text/plain": [
              "<keras.callbacks.History at 0x7ff698091d30>"
            ]
          },
          "metadata": {},
          "execution_count": 38
        }
      ]
    },
    {
      "cell_type": "code",
      "source": [
        "result = bert_classifier(data_test_enc, training=False)"
      ],
      "metadata": {
        "id": "fzsXHP_GqX3E"
      },
      "execution_count": null,
      "outputs": []
    },
    {
      "cell_type": "code",
      "source": [
        "result = tf.argmax(result, axis=1).numpy()"
      ],
      "metadata": {
        "id": "TmSbx6TzqV5X"
      },
      "execution_count": null,
      "outputs": []
    },
    {
      "cell_type": "code",
      "source": [
        "from sklearn.metrics import classification_report\n",
        "\n",
        "print(classification_report(data_test_labels, result, target_names= avaliacoes_rotulos))"
      ],
      "metadata": {
        "colab": {
          "base_uri": "https://localhost:8080/"
        },
        "id": "ZUq3wAzjqWNO",
        "outputId": "cdb139e9-5e5e-4da4-e29e-ce827a56e96f"
      },
      "execution_count": null,
      "outputs": [
        {
          "output_type": "stream",
          "name": "stdout",
          "text": [
            "              precision    recall  f1-score   support\n",
            "\n",
            "        ruim       0.87      0.77      0.82       141\n",
            "         boa       0.98      0.99      0.98      1476\n",
            "\n",
            "    accuracy                           0.97      1617\n",
            "   macro avg       0.93      0.88      0.90      1617\n",
            "weighted avg       0.97      0.97      0.97      1617\n",
            "\n"
          ]
        }
      ]
    },
    {
      "cell_type": "code",
      "source": [
        "from sklearn.metrics import confusion_matrix, ConfusionMatrixDisplay\n",
        "\n",
        "cm = confusion_matrix(data_test_labels, result)\n",
        "disp = ConfusionMatrixDisplay(confusion_matrix=cm, display_labels= avaliacoes_rotulos)\n",
        "disp.plot()\n",
        "plt.show()"
      ],
      "metadata": {
        "colab": {
          "base_uri": "https://localhost:8080/",
          "height": 311
        },
        "id": "Dlye4vVsJYQw",
        "outputId": "0ecde13c-ab21-4ea1-fc53-a7da3e16d56c"
      },
      "execution_count": null,
      "outputs": [
        {
          "output_type": "display_data",
          "data": {
            "text/plain": [
              "<Figure size 900x300 with 2 Axes>"
            ],
            "image/png": "[encoded data removed]"
          },
          "metadata": {}
        }
      ]
    },
    {
      "cell_type": "code",
      "source": [
        "result"
      ],
      "metadata": {
        "colab": {
          "base_uri": "https://localhost:8080/"
        },
        "id": "ciFe-cQGppsP",
        "outputId": "1a379a4d-bdaf-405c-c8b1-3481d0585c71"
      },
      "execution_count": null,
      "outputs": [
        {
          "output_type": "execute_result",
          "data": {
            "text/plain": [
              "array([1, 1, 1, ..., 1, 1, 1])"
            ]
          },
          "metadata": {},
          "execution_count": 42
        }
      ]
    },
    {
      "cell_type": "code",
      "source": [
        "data_test_labels"
      ],
      "metadata": {
        "colab": {
          "base_uri": "https://localhost:8080/"
        },
        "id": "dP4vEPA_qpa6",
        "outputId": "5617058a-ebde-4469-c9d8-e8e8122e22c0"
      },
      "execution_count": null,
      "outputs": [
        {
          "output_type": "execute_result",
          "data": {
            "text/plain": [
              "array([1, 1, 1, 1, 1, 0, 1, 0, 0, 1, 1, 1, 1, 1, 1, 1, 1, 1, 1, 1, 1, 1,\n",
              "       1, 1, 1, 1, 1, 1, 1, 1, 1, 1, 1, 1, 1, 1, 1, 0, 1, 1, 1, 0, 1, 1,\n",
              "       1, 1, 1, 1, 1, 1, 1, 1, 1, 0, 0, 1, 1, 1, 1, 1, 1, 1, 1, 1, 1, 1,\n",
              "       1, 1, 1, 1, 1, 1, 1, 0, 0, 1, 1, 1, 1, 1, 1, 1, 1, 1, 1, 1, 1, 1,\n",
              "       1, 1, 1, 1, 1, 1, 1, 1, 1, 1, 1, 1, 1, 0, 1, 1, 1, 1, 1, 1, 1, 1,\n",
              "       1, 1, 1, 1, 1, 1, 1, 1, 1, 1, 1, 0, 1, 1, 0, 1, 1, 1, 0, 1, 1, 1,\n",
              "       1, 1, 1, 1, 1, 1, 1, 1, 1, 1, 1, 1, 1, 0, 1, 1, 1, 1, 1, 1, 1, 1,\n",
              "       1, 1, 1, 0, 1, 1, 1, 1, 1, 1, 1, 1, 1, 0, 1, 1, 1, 1, 1, 1, 1, 1,\n",
              "       1, 1, 1, 1, 1, 1, 1, 1, 1, 0, 1, 1, 1, 1, 0, 1, 1, 1, 1, 0, 1, 1,\n",
              "       1, 1, 1, 1, 1, 1, 1, 1, 0, 1, 1, 1, 1, 1, 1, 1, 1, 1, 1, 1, 0, 1,\n",
              "       1, 1, 1, 1, 1, 1, 0, 1, 1, 1, 1, 1, 1, 1, 1, 1, 1, 1, 0, 1, 1, 1,\n",
              "       1, 1, 1, 1, 1, 1, 1])"
            ]
          },
          "metadata": {},
          "execution_count": 53
        }
      ]
    },
    {
      "cell_type": "code",
      "source": [
        "np.array(avaliacoes_rotulos)[result]"
      ],
      "metadata": {
        "colab": {
          "base_uri": "https://localhost:8080/"
        },
        "id": "rTOfkoDaqqWK",
        "outputId": "002db518-c658-4d63-d390-47ca7d810d40"
      },
      "execution_count": null,
      "outputs": [
        {
          "output_type": "execute_result",
          "data": {
            "text/plain": [
              "array(['boa', 'boa', 'boa', ..., 'boa', 'boa', 'boa'], dtype='<U4')"
            ]
          },
          "metadata": {},
          "execution_count": 43
        }
      ]
    },
    {
      "cell_type": "markdown",
      "metadata": {
        "id": "fVo_AnT0l26j"
      },
      "source": [
        "### Save the model\n",
        "\n",
        "Often the goal of training a model is to _use_ it for something, so export the model and then restore it to be sure that it works."
      ]
    },
    {
      "cell_type": "code",
      "source": [
        "export_dir='./saved_model'"
      ],
      "metadata": {
        "id": "RoNzpP8g5IDq"
      },
      "execution_count": null,
      "outputs": []
    },
    {
      "cell_type": "code",
      "metadata": {
        "id": "Nl5x6nElZqkP",
        "colab": {
          "base_uri": "https://localhost:8080/"
        },
        "outputId": "4b85df59-0fa7-4a99-a1cf-3c90f28e6961"
      },
      "source": [
        "tf.saved_model.save(bert_classifier, export_dir=export_dir)"
      ],
      "execution_count": null,
      "outputs": [
        {
          "output_type": "stream",
          "name": "stderr",
          "text": [
            "WARNING:absl:Found untraced functions such as self_attention_layer_call_fn, self_attention_layer_call_and_return_conditional_losses, attention_output_layer_call_fn, attention_output_layer_call_and_return_conditional_losses, dropout_1_layer_call_fn while saving (showing 5 of 336). These functions will not be directly callable after loading.\n"
          ]
        }
      ]
    },
    {
      "cell_type": "code",
      "metadata": {
        "id": "y_ACvKPsVUXC"
      },
      "source": [
        "reloaded = tf.saved_model.load(export_dir)\n",
        "reloaded_result = reloaded([data_test_enc['input_word_ids'],\n",
        "                            data_test_enc['input_mask'],\n",
        "                            data_test_enc['input_type_ids']], training=False)\n",
        "\n",
        "original_result = bert_classifier(data_test_enc, training=False)"
      ],
      "execution_count": null,
      "outputs": []
    },
    {
      "cell_type": "code",
      "source": [
        "# The results are (nearly) identical:\n",
        "print(\"resultado original\")\n",
        "print(original_result.numpy())"
      ],
      "metadata": {
        "colab": {
          "base_uri": "https://localhost:8080/"
        },
        "id": "-mj4HhldiBOw",
        "outputId": "12cc32e4-1288-47ae-ecb4-9bc5e573bdb1"
      },
      "execution_count": null,
      "outputs": [
        {
          "output_type": "stream",
          "name": "stdout",
          "text": [
            "resultado original\n",
            "[[-3.8312125  3.9968643]\n",
            " [-2.4033074  2.853248 ]\n",
            " [-3.0894237  3.3357434]\n",
            " ...\n",
            " [-3.5729914  3.7641556]\n",
            " [-3.790491   3.9709983]\n",
            " [-3.779108   4.099271 ]]\n"
          ]
        }
      ]
    },
    {
      "cell_type": "code",
      "source": [
        "print(\"resultado carregado\")\n",
        "print(reloaded_result.numpy())"
      ],
      "metadata": {
        "colab": {
          "base_uri": "https://localhost:8080/"
        },
        "id": "4X8CnXoziHAM",
        "outputId": "ca4e0c52-955b-4c87-e793-6b3d92516bb3"
      },
      "execution_count": null,
      "outputs": [
        {
          "output_type": "stream",
          "name": "stdout",
          "text": [
            "resultado carregado\n",
            "[[-3.831201   3.9970274]\n",
            " [-2.4041364  2.854141 ]\n",
            " [-3.0893333  3.3355033]\n",
            " ...\n",
            " [-3.5728943  3.764056 ]\n",
            " [-3.790633   3.9710224]\n",
            " [-3.7790542  4.099148 ]]\n"
          ]
        }
      ]
    }
  ]
}